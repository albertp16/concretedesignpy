{
 "cells": [
  {
   "cell_type": "code",
   "execution_count": 1,
   "metadata": {},
   "outputs": [
    {
     "name": "stdout",
     "output_type": "stream",
     "text": [
      "CHECK,CONC, MANDER, 1, YES, 31020.0, NO, 0.002, NO, 0.0014, NO, 0.02, 0, 27847800.63128864, 0, 3453.1272782797914, 0, 0.000124,\n",
      "bc =  160.0\n",
      "dc =  510.0\n",
      "wxi =  118.0\n",
      "wyi =  105.0\n",
      "[118.0]\n",
      "[105.0, 105.0, 105.0, 105.0]\n",
      "core ratio :  0.024639942381096416\n",
      "ds area :  7.853981633974483e-05\n",
      "conf x-dir :  0.00015707963267948965\n",
      "conf x-dir :  0.0003926990816987241\n",
      "flx :  437.93028376342863\n",
      "fly :  343.47473236347344\n",
      "ac 81600.0\n",
      "acc 0.07958938070170252\n",
      "ae 0.02058121977124183\n",
      "kg 0.2522208305299244\n",
      "ke 0.25859253571000046\n",
      "fcc =  33668.318151061016\n",
      "ecc =  0.0028537453742943325\n",
      "C1 FIBER,CONC, MANDER, 1, YES, 31020.0, NO, 0.002, NO, 0.0014, NO, 0.02, 0, 27847800.63128864, 0, 3453.1272782797914, 0, 0.000124,\n",
      "bc =  160.0\n",
      "dc =  510.0\n",
      "wxi =  118.0\n",
      "wyi =  105.0\n",
      "[118.0]\n",
      "[105.0, 105.0, 105.0, 105.0]\n",
      "core ratio :  0.024639942381096416\n",
      "ds area :  7.853981633974483e-05\n",
      "conf x-dir :  0.00015707963267948965\n",
      "conf x-dir :  0.0003926990816987241\n",
      "flx :  437.93028376342863\n",
      "fly :  343.47473236347344\n",
      "ac 81600.0\n",
      "acc 0.07958938070170252\n",
      "ae 0.02058121977124183\n",
      "kg 0.2522208305299244\n",
      "ke 0.25859253571000046\n",
      "fcc =  33668.318151061016\n",
      "ecc =  0.0028537453742943325\n"
     ]
    }
   ],
   "source": [
    "import concretedesignpy as concpy \n",
    "\n",
    "name = \"C1 FIBER\"\n",
    "fc = 20.68\n",
    "fy = 276 \n",
    "length_x = 250 \n",
    "length_y = 600 \n",
    "total_no_bar = 10 \n",
    "main_dia = 16 \n",
    "tie_dia = 10\n",
    "n_x = 2 \n",
    "n_y = 5\n",
    "seg_x = 1 \n",
    "seg_y = 4 \n",
    "spacing = 200 \n",
    "spacing_prime = spacing - tie_dia \n",
    "cover = 40 \n",
    "\n",
    "test = concpy.generateFIBERMGT(name,fc,fy,length_x,length_y,total_no_bar,main_dia,tie_dia,n_x,n_y,seg_x,seg_y,spacing,spacing_prime,cover)\n",
    "test.unconfinedConcreteData()\n",
    "test.sectiondata()\n",
    "test.confined_core_areas()\n",
    "test.confined_concrete_strength_and_strain()\n"
   ]
  }
 ],
 "metadata": {
  "kernelspec": {
   "display_name": "base",
   "language": "python",
   "name": "python3"
  },
  "language_info": {
   "codemirror_mode": {
    "name": "ipython",
    "version": 3
   },
   "file_extension": ".py",
   "mimetype": "text/x-python",
   "name": "python",
   "nbconvert_exporter": "python",
   "pygments_lexer": "ipython3",
   "version": "3.12.7"
  }
 },
 "nbformat": 4,
 "nbformat_minor": 2
}
