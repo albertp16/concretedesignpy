{
 "cells": [
  {
   "cell_type": "code",
   "execution_count": 7,
   "metadata": {},
   "outputs": [
    {
     "name": "stdout",
     "output_type": "stream",
     "text": [
      "508.0\n",
      "138.66666666666666\n"
     ]
    }
   ],
   "source": [
    "#Manders\n",
    "beam_width = 600 #mm\n",
    "beam_depth = 600 #mm \n",
    "\n",
    "def concrete_core(length,cover,dia_stirups):\n",
    "    results = length - cover - cover - (dia_stirups/2) - (dia_stirups/2)\n",
    "    return results\n",
    "\n",
    "def clearTransverSpace(length,n,db,dbs,cover,segment):\n",
    "    value_init = length - (2*cover) - (db*n) - (dbs*2) \n",
    "    value = value_init/segment\n",
    "    return value\n",
    "\n",
    "cover = 40 \n",
    "dia_stirups = 12\n",
    "nx = 4\n",
    "ny = 4\n",
    "db = 20\n",
    "segment_x = 3\n",
    "segment_y = 3\n",
    "\n",
    "print(concrete_core(beam_width,cover,dia_stirups))\n",
    "print(clearTransverSpace(beam_width,nx,db,dia_stirups,cover,segment_x))\n",
    "\n",
    "EXPECTED_STR_MAT = {\n",
    "    \"concrete\" : 1.50,\n",
    "    \"steel\" : 1.25,\n",
    "    \"connector\" : 1.50\n",
    "}\n",
    "\n"
   ]
  },
  {
   "cell_type": "code",
   "execution_count": 10,
   "metadata": {},
   "outputs": [],
   "source": [
    "## Hysteresis Model (Expected)\n",
    "\n",
    "rebar = {\n",
    "    \"gr33\": {\n",
    "        \"fy\": 227.5,  # Yield Strength (MPa)\n",
    "        \"fu\": 414.0   # Ultimate Strength (MPa)\n",
    "    },\n",
    "    \"gr40\": {\n",
    "        \"fy\": 275.0,  # Yield Strength (MPa)\n",
    "        \"fu\": 483.0   # Ultimate Strength (MPa)\n",
    "    },\n",
    "    \"gr60\": {\n",
    "        \"fy\": 414.0,  # Yield Strength (MPa)\n",
    "        \"fu\": 620.0   # Ultimate Strength (MPa)\n",
    "    }\n",
    "}\n",
    "\n",
    "def rebarInelasMat(fy, fu, es=200.0, esh=0.015, esu=0.12, multiplier=1.0):\n",
    "    \"\"\"\n",
    "    Converts input rebar parameters (in MPa/GPa) to kPa, \n",
    "    with an optional multiplier to scale stresses/modulus.\n",
    "\n",
    "    :param fy: Yield stress of steel in MPa\n",
    "    :param fu: Ultimate stress of steel in MPa\n",
    "    :param es: Elastic modulus in GPa (default=200 GPa)\n",
    "    :param esh: Strain at onset of strain hardening (dimensionless)\n",
    "    :param esu: Strain at steel rupture (dimensionless)\n",
    "    :param multiplier: Factor to multiply fy, fu, and es\n",
    "\n",
    "    :return: (fy_kpa, fu_kpa, es_kpa, esh, esu)\n",
    "    \"\"\"\n",
    "\n",
    "    # 1 MPa = 1000 kPa\n",
    "    # 1 GPa = 1,000,000 kPa\n",
    "\n",
    "    fy_kpa = fy * 1000.0 * multiplier\n",
    "    fu_kpa = fu * 1000.0 * multiplier\n",
    "    es_kpa = es * 1_000_000.0 * multiplier\n",
    "\n",
    "    return fy_kpa, fu_kpa, es_kpa, esh, esu\n",
    "\n",
    "\n",
    "fy = 414 \n",
    "fu = 450\n",
    "es = 200\n",
    "esh = 0.015\n",
    "esu = 0.12"
   ]
  }
 ],
 "metadata": {
  "kernelspec": {
   "display_name": "base",
   "language": "python",
   "name": "python3"
  },
  "language_info": {
   "codemirror_mode": {
    "name": "ipython",
    "version": 3
   },
   "file_extension": ".py",
   "mimetype": "text/x-python",
   "name": "python",
   "nbconvert_exporter": "python",
   "pygments_lexer": "ipython3",
   "version": "3.12.7"
  }
 },
 "nbformat": 4,
 "nbformat_minor": 2
}
