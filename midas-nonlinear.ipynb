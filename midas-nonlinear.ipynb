{
 "cells": [
  {
   "cell_type": "code",
   "execution_count": 10,
   "metadata": {},
   "outputs": [
    {
     "name": "stdout",
     "output_type": "stream",
     "text": [
      "508.0\n",
      "138.66666666666666\n"
     ]
    }
   ],
   "source": [
    "#Manders\n",
    "beam_width = 600 #mm\n",
    "beam_depth = 600 #mm \n",
    "\n",
    "def concrete_core(length,cover,dia_stirups):\n",
    "    results = length - cover - cover - (dia_stirups/2) - (dia_stirups/2)\n",
    "    return results\n",
    "\n",
    "def clearTransverSpace(length,n,db,dbs,cover,segment):\n",
    "    value_init = length - (2*cover) - (db*n) - (dbs*2) \n",
    "    value = value_init/segment\n",
    "    return value\n",
    "\n",
    "cover = 40 \n",
    "dia_stirups = 12\n",
    "nx = 4\n",
    "ny = 4\n",
    "db = 20\n",
    "segment_x = 3\n",
    "segment_y = 3\n",
    "\n",
    "print(concrete_core(beam_width,cover,dia_stirups))\n",
    "print(clearTransverSpace(beam_width,nx,db,dia_stirups,cover,segment_x))\n",
    "\n",
    "\n",
    "\n"
   ]
  },
  {
   "cell_type": "code",
   "execution_count": null,
   "metadata": {},
   "outputs": [],
   "source": [
    "## Hysteresis Model \n",
    "\n",
    "fy \n",
    "functionEs \n",
    "esh = 0.015\n",
    "esu = 0.12"
   ]
  },
  {
   "cell_type": "code",
   "execution_count": null,
   "metadata": {},
   "outputs": [],
   "source": []
  }
 ],
 "metadata": {
  "kernelspec": {
   "display_name": "base",
   "language": "python",
   "name": "python3"
  },
  "language_info": {
   "codemirror_mode": {
    "name": "ipython",
    "version": 3
   },
   "file_extension": ".py",
   "mimetype": "text/x-python",
   "name": "python",
   "nbconvert_exporter": "python",
   "pygments_lexer": "ipython3",
   "version": "3.12.7"
  }
 },
 "nbformat": 4,
 "nbformat_minor": 2
}
