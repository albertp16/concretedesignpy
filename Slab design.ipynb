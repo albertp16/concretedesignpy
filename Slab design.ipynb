{
 "cells": [
  {
   "cell_type": "code",
   "execution_count": 7,
   "id": "9f9e367b",
   "metadata": {},
   "outputs": [],
   "source": [
    "import math"
   ]
  },
  {
   "cell_type": "code",
   "execution_count": 26,
   "id": "3aa3d141",
   "metadata": {},
   "outputs": [
    {
     "data": {
      "text/plain": [
       "65.03096279431695"
      ]
     },
     "execution_count": 26,
     "metadata": {},
     "output_type": "execute_result"
    }
   ],
   "source": [
    "BEAM_WIDTH = 1000\n",
    "spacing = 300\n",
    "\n",
    "\n",
    "cover = 20\n",
    "db = 10 \n",
    "h_slab = 150\n",
    "db_area = (math.pi/4)*math.pow(db,2)\n",
    "as_use = (db_area*4)/(BEAM_WIDTH*h_slab) \n",
    "\n",
    "fc = 34.45 #MPa\n",
    "fy = 276 #MPa\n",
    "d = h_slab - cover - db/2 #mm\n",
    "b = 1000 #mm\n",
    "\n",
    "# def slabCapacity():\n",
    "\n",
    "\n",
    "Mn = as_use*fy*(d-as_use*fy/(1.7*fc*b))\n",
    "Mu = 0.90*Mn\n",
    "Mu"
   ]
  },
  {
   "cell_type": "code",
   "execution_count": null,
   "id": "63103535",
   "metadata": {},
   "outputs": [],
   "source": []
  },
  {
   "cell_type": "code",
   "execution_count": null,
   "id": "2f42d813",
   "metadata": {},
   "outputs": [],
   "source": []
  }
 ],
 "metadata": {
  "kernelspec": {
   "display_name": "Python 3 (ipykernel)",
   "language": "python",
   "name": "python3"
  },
  "language_info": {
   "codemirror_mode": {
    "name": "ipython",
    "version": 3
   },
   "file_extension": ".py",
   "mimetype": "text/x-python",
   "name": "python",
   "nbconvert_exporter": "python",
   "pygments_lexer": "ipython3",
   "version": "3.9.13"
  }
 },
 "nbformat": 4,
 "nbformat_minor": 5
}
