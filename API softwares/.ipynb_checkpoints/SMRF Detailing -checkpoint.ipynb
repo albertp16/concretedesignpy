{
 "cells": [
  {
   "cell_type": "code",
   "execution_count": 3,
   "id": "1169fc14",
   "metadata": {},
   "outputs": [],
   "source": [
    "import math"
   ]
  },
  {
   "cell_type": "code",
   "execution_count": 20,
   "id": "744c7b0d",
   "metadata": {},
   "outputs": [
    {
     "name": "stdout",
     "output_type": "stream",
     "text": [
      "S1 = 150 mm\n",
      "S2 = 96 mm\n",
      "S3 = 340.0 mm\n",
      "Hoops along 2Hb = 96 mm\n",
      "Strirrups with Seimsic Hooks = 340.0 mm\n"
     ]
    }
   ],
   "source": [
    "beam = {\n",
    "    \"b\" : 250,\n",
    "    \"h\" : 400, \n",
    "    \"db\" : 16\n",
    "}\n",
    "\n",
    "#Reference from ACI 318 and Jack Moehle \n",
    "def beamHoopsStirrups(params):\n",
    "    #Hoops along 2Hb\n",
    "    s1 = 150\n",
    "    s2 = 6*params[\"db\"]\n",
    "    s3 = params[\"h\"] - params[\"db\"]/2 - 40 - 12\n",
    "    s_govern = min(s1,s2,s3)\n",
    "    print('S1 = ' + str(s1) + \" mm\")\n",
    "    print('S2 = ' + str(s2) + \" mm\")\n",
    "    print('S3 = ' + str(s3) + \" mm\")\n",
    "    print('Hoops along 2Hb = ' + str(s_govern) + \" mm\")\n",
    "    s_govern_two = s3\n",
    "    print('Strirrups with Seimsic Hooks = ' + str(s_govern_two) + \" mm\")\n",
    "    \n",
    "    \n",
    "\n",
    "beamHoopsStirrups(beam)"
   ]
  },
  {
   "cell_type": "code",
   "execution_count": null,
   "id": "e921de4b",
   "metadata": {},
   "outputs": [],
   "source": []
  }
 ],
 "metadata": {
  "kernelspec": {
   "display_name": "Python 3 (ipykernel)",
   "language": "python",
   "name": "python3"
  },
  "language_info": {
   "codemirror_mode": {
    "name": "ipython",
    "version": 3
   },
   "file_extension": ".py",
   "mimetype": "text/x-python",
   "name": "python",
   "nbconvert_exporter": "python",
   "pygments_lexer": "ipython3",
   "version": "3.9.13"
  }
 },
 "nbformat": 4,
 "nbformat_minor": 5
}
