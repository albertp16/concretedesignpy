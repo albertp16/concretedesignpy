{
 "cells": [
  {
   "cell_type": "code",
   "execution_count": 61,
   "id": "e0ec4335",
   "metadata": {},
   "outputs": [],
   "source": [
    "import math\n",
    "import pandas as pd"
   ]
  },
  {
   "cell_type": "markdown",
   "id": "ac2eda6f",
   "metadata": {},
   "source": [
    "# Reference \n",
    "\n",
    "1. Association of Structural Engineers of the Philippines 2015 Edition, National Structural Code of the Philippines Volume 1, Quezon City, Philippines.\n",
    "2. American Concrete Institute, ACI-440R-17"
   ]
  },
  {
   "cell_type": "code",
   "execution_count": 20,
   "id": "66a54c2a",
   "metadata": {},
   "outputs": [],
   "source": [
    "input = {\n",
    "    \"project_name\" : \"Makati Life Nurture Medical Center <i>Formerly Ospital ng Makati District 1</i>\",\n",
    "    \"project_location\" : \"Malugay Street, Barangay Bel Air, Makati City \",\n",
    "    \"designer\" : \"Engr. Albert Pamonag, M.Eng\",\n",
    "    \"l\" : 7.32,\n",
    "    \"w\" : 305,\n",
    "    \"d\" : 546,\n",
    "    \"h\" : 609.6,\n",
    "    \"fc\" : 34.5,\n",
    "    \"fy\" : 414,\n",
    "    \"Mn\" : 361,\n",
    "    \"db\" : 28.6,\n",
    "    \"Es\" : 200,\n",
    "    \"exposure\" : {\n",
    "        \"condition\" : \"interior\",\n",
    "        \"fiber\" : \"carbon\"\n",
    "    },\n",
    "    \"frp\" : {\n",
    "        \"tf\" : 1.02,\n",
    "        \"ffu\" : 621,\n",
    "        \"efu\" : 0.015,\n",
    "        \"Ef\" : 37000,\n",
    "        \"psi_f\" : 0.85\n",
    "    }\n",
    "}"
   ]
  },
  {
   "cell_type": "code",
   "execution_count": 21,
   "id": "5ff3e43e",
   "metadata": {},
   "outputs": [],
   "source": [
    "def eRF(exposure,type):\n",
    "    data = {\n",
    "        \"interior\" : {\n",
    "            \"carbon\" : 0.95,\n",
    "            \"glass\" : 0.75,\n",
    "            \"aramid\" : 0.85\n",
    "        },\n",
    "        \"exterior\" : {\n",
    "            \"carbon\" : 0.85,\n",
    "            \"glass\" : 0.65,\n",
    "            \"aramid\" : 0.75\n",
    "        },\n",
    "        \"aggressive\" : {\n",
    "            \"carbon\" : 0.85,\n",
    "            \"glass\" : 0.50,\n",
    "            \"aramid\" : 0.70\n",
    "            },\n",
    "    }\n",
    "    results = data[exposure][type]\n",
    "    return results"
   ]
  },
  {
   "cell_type": "markdown",
   "id": "a3e5cf4b",
   "metadata": {},
   "source": [
    "### Computation the FRP system design material properties :"
   ]
  },
  {
   "cell_type": "markdown",
   "id": "ad72faef",
   "metadata": {},
   "source": [
    "Design Ultimate Tensile Strength of FRP:\n",
    "<center>$ f_{fu} = C_{E} f^{*}_{fu} $</center>"
   ]
  },
  {
   "cell_type": "code",
   "execution_count": 52,
   "id": "3c4ebafc",
   "metadata": {},
   "outputs": [
    {
     "name": "stdout",
     "output_type": "stream",
     "text": [
      "589.95 N/mm^2\n"
     ]
    }
   ],
   "source": [
    "ffu = eRF(input['exposure']['condition'],input['exposure']['fiber'])*input['frp']['ffu']\n",
    "print(str(round(ffu,3)) + \" N/mm^2\")"
   ]
  },
  {
   "cell_type": "markdown",
   "id": "d0ef8483",
   "metadata": {},
   "source": [
    "Design Rupture Strain of FRP reinforcement attained at failure:\n",
    "<center>$ \\varepsilon_{fu} = C_{E} f^{*}_{fu} $</center>"
   ]
  },
  {
   "cell_type": "code",
   "execution_count": 53,
   "id": "e3b97d89",
   "metadata": {},
   "outputs": [
    {
     "name": "stdout",
     "output_type": "stream",
     "text": [
      "0.014 N/mm^2\n"
     ]
    }
   ],
   "source": [
    "efu = eRF(input['exposure']['condition'],input['exposure']['fiber'])*input['frp']['efu']\n",
    "print(str(round(efu,3)) + \" N/mm^2\")"
   ]
  },
  {
   "cell_type": "code",
   "execution_count": 54,
   "id": "4497eb04",
   "metadata": {},
   "outputs": [
    {
     "name": "stdout",
     "output_type": "stream",
     "text": [
      "0.8035714285714286\n",
      "1927.2728451977305\n",
      "622.2\n"
     ]
    }
   ],
   "source": [
    "def beta_1(fc): \n",
    "    ##NSCP 2015 422.2.2.4.3\n",
    "    value = 1.05 - 0.05*(fc/1000)\n",
    "    if(17 <= fc and fc <= 28):\n",
    "        value = 0.85\n",
    "    elif (28 <= fc and fc < 55):\n",
    "        value = 0.85 - ((0.05*(fc-28))/7)\n",
    "    else:\n",
    "        value = 0.65\n",
    "\n",
    "    return value\n",
    "    \n",
    "def areaCircle(db):\n",
    "    pi = math.pi\n",
    "    value = (pi/4)*(math.pow(db,2))\n",
    "    return value\n",
    "    \n",
    "beta1 = beta_1(input['fc'])\n",
    "ec = 4700*math.sqrt(input['fc'])\n",
    "n_bot = 3\n",
    "n_frp = 2\n",
    "print(beta1)\n",
    "\n",
    "area_steel = n_bot*areaCircle(input['db'])\n",
    "af = n_frp*input[\"frp\"]['tf']*input['w']\n",
    "\n",
    "print(area_steel)\n",
    "print(af)"
   ]
  },
  {
   "cell_type": "markdown",
   "id": "2943e5ac",
   "metadata": {},
   "source": [
    "$ \\beta _{1} $"
   ]
  },
  {
   "cell_type": "code",
   "execution_count": 55,
   "id": "a858553b",
   "metadata": {},
   "outputs": [
    {
     "name": "stdout",
     "output_type": "stream",
     "text": [
      "0.8035714285714286\n"
     ]
    }
   ],
   "source": [
    "print(beta1)"
   ]
  },
  {
   "cell_type": "markdown",
   "id": "30bc21d4",
   "metadata": {},
   "source": [
    "### Modulus of Elasticity of Concrete\n",
    "<center> $ E_{c} = 4700 \\sqrt{ f_{c} } $ </center>"
   ]
  },
  {
   "cell_type": "code",
   "execution_count": 56,
   "id": "c7c38cf9",
   "metadata": {},
   "outputs": [
    {
     "name": "stdout",
     "output_type": "stream",
     "text": [
      "27606.249292506214\n"
     ]
    }
   ],
   "source": [
    "print(ec)"
   ]
  },
  {
   "cell_type": "markdown",
   "id": "4c89e094",
   "metadata": {},
   "source": [
    "## Properties of the concrete:"
   ]
  },
  {
   "cell_type": "markdown",
   "id": "aa255e24",
   "metadata": {},
   "source": [
    "### Determine the existing state of strain on the soffit\n",
    "<center>$ \\epsilon_{bi} = \\frac{ M _{DL} \\times \\left( d_{f} - kd \\right) }{ I_{cr} \\times E_{c} } $</center>"
   ]
  },
  {
   "cell_type": "code",
   "execution_count": 37,
   "id": "50223b2d",
   "metadata": {},
   "outputs": [],
   "source": [
    "k = 0.334\n",
    "    \n",
    "Icr = 2.471e6 ##mm4 TODO double check this one\n",
    "df = input['h']\n",
    "d = input['d']\n",
    "MDL = 97.6\n",
    "ec_convert = ec/1000\n",
    "\n",
    "ebi = ( MDL * (df - (k*d)) )  /( Icr * ec_convert ) "
   ]
  },
  {
   "cell_type": "markdown",
   "id": "8fc37103",
   "metadata": {},
   "source": [
    "## Determine the design strain of the FRP system\n",
    "<center> $ \\epsilon _{fd} = 0.41 \\times \\sqrt{ \\frac{ f_{c}^{'} }{ 2 \\times E_{f} \\times t_{f} } } $ </center>"
   ]
  },
  {
   "cell_type": "code",
   "execution_count": 59,
   "id": "8c3e1a9e",
   "metadata": {},
   "outputs": [
    {
     "name": "stdout",
     "output_type": "stream",
     "text": [
      "0.008765515428730905\n"
     ]
    }
   ],
   "source": [
    "efd_init = input['fc']/(2*input[\"frp\"]['tf']*input[\"frp\"]['Ef'])\n",
    "efd = 0.41*math.sqrt(efd_init)\n",
    "print(efd)"
   ]
  },
  {
   "cell_type": "markdown",
   "id": "37c5ff5a",
   "metadata": {},
   "source": [
    "## Computation of the compression block"
   ]
  },
  {
   "cell_type": "code",
   "execution_count": 69,
   "id": "a37d46a4",
   "metadata": {},
   "outputs": [
    {
     "data": {
      "text/html": [
       "<div>\n",
       "<style scoped>\n",
       "    .dataframe tbody tr th:only-of-type {\n",
       "        vertical-align: middle;\n",
       "    }\n",
       "\n",
       "    .dataframe tbody tr th {\n",
       "        vertical-align: top;\n",
       "    }\n",
       "\n",
       "    .dataframe thead th {\n",
       "        text-align: right;\n",
       "    }\n",
       "</style>\n",
       "<table border=\"1\" class=\"dataframe\">\n",
       "  <thead>\n",
       "    <tr style=\"text-align: right;\">\n",
       "      <th></th>\n",
       "      <th>c (mm)</th>\n",
       "      <th>ε_fe</th>\n",
       "      <th>ε_c</th>\n",
       "      <th>ε_s</th>\n",
       "      <th>ε_c'</th>\n",
       "      <th>β1</th>\n",
       "      <th>α</th>\n",
       "    </tr>\n",
       "  </thead>\n",
       "  <tbody>\n",
       "    <tr>\n",
       "      <th>0</th>\n",
       "      <td>144.207618</td>\n",
       "      <td>0.013136</td>\n",
       "      <td>0.002097</td>\n",
       "      <td>0.008390</td>\n",
       "      <td>0.002125</td>\n",
       "      <td>0.748416</td>\n",
       "      <td>0.885018</td>\n",
       "    </tr>\n",
       "    <tr>\n",
       "      <th>1</th>\n",
       "      <td>127.904816</td>\n",
       "      <td>0.009070</td>\n",
       "      <td>0.002978</td>\n",
       "      <td>0.008298</td>\n",
       "      <td>0.002125</td>\n",
       "      <td>0.812854</td>\n",
       "      <td>0.918721</td>\n",
       "    </tr>\n",
       "    <tr>\n",
       "      <th>2</th>\n",
       "      <td>132.617164</td>\n",
       "      <td>0.010687</td>\n",
       "      <td>0.002552</td>\n",
       "      <td>0.008342</td>\n",
       "      <td>0.002125</td>\n",
       "      <td>0.777972</td>\n",
       "      <td>0.925806</td>\n",
       "    </tr>\n",
       "    <tr>\n",
       "      <th>3</th>\n",
       "      <td>130.765526</td>\n",
       "      <td>0.010179</td>\n",
       "      <td>0.002672</td>\n",
       "      <td>0.008330</td>\n",
       "      <td>0.002125</td>\n",
       "      <td>0.786996</td>\n",
       "      <td>0.928148</td>\n",
       "    </tr>\n",
       "    <tr>\n",
       "      <th>4</th>\n",
       "      <td>131.445102</td>\n",
       "      <td>0.010374</td>\n",
       "      <td>0.002625</td>\n",
       "      <td>0.008335</td>\n",
       "      <td>0.002125</td>\n",
       "      <td>0.783360</td>\n",
       "      <td>0.927636</td>\n",
       "    </tr>\n",
       "    <tr>\n",
       "      <th>5</th>\n",
       "      <td>131.188514</td>\n",
       "      <td>0.010302</td>\n",
       "      <td>0.002642</td>\n",
       "      <td>0.008333</td>\n",
       "      <td>0.002125</td>\n",
       "      <td>0.784680</td>\n",
       "      <td>0.927886</td>\n",
       "    </tr>\n",
       "    <tr>\n",
       "      <th>6</th>\n",
       "      <td>131.284414</td>\n",
       "      <td>0.010329</td>\n",
       "      <td>0.002636</td>\n",
       "      <td>0.008334</td>\n",
       "      <td>0.002125</td>\n",
       "      <td>0.784180</td>\n",
       "      <td>0.927800</td>\n",
       "    </tr>\n",
       "    <tr>\n",
       "      <th>7</th>\n",
       "      <td>131.248432</td>\n",
       "      <td>0.010319</td>\n",
       "      <td>0.002638</td>\n",
       "      <td>0.008333</td>\n",
       "      <td>0.002125</td>\n",
       "      <td>0.784367</td>\n",
       "      <td>0.927833</td>\n",
       "    </tr>\n",
       "    <tr>\n",
       "      <th>8</th>\n",
       "      <td>131.261913</td>\n",
       "      <td>0.010323</td>\n",
       "      <td>0.002637</td>\n",
       "      <td>0.008333</td>\n",
       "      <td>0.002125</td>\n",
       "      <td>0.784297</td>\n",
       "      <td>0.927821</td>\n",
       "    </tr>\n",
       "    <tr>\n",
       "      <th>9</th>\n",
       "      <td>131.256860</td>\n",
       "      <td>0.010321</td>\n",
       "      <td>0.002637</td>\n",
       "      <td>0.008333</td>\n",
       "      <td>0.002125</td>\n",
       "      <td>0.784323</td>\n",
       "      <td>0.927826</td>\n",
       "    </tr>\n",
       "    <tr>\n",
       "      <th>10</th>\n",
       "      <td>131.258754</td>\n",
       "      <td>0.010322</td>\n",
       "      <td>0.002637</td>\n",
       "      <td>0.008333</td>\n",
       "      <td>0.002125</td>\n",
       "      <td>0.784313</td>\n",
       "      <td>0.927824</td>\n",
       "    </tr>\n",
       "    <tr>\n",
       "      <th>11</th>\n",
       "      <td>131.258044</td>\n",
       "      <td>0.010322</td>\n",
       "      <td>0.002637</td>\n",
       "      <td>0.008333</td>\n",
       "      <td>0.002125</td>\n",
       "      <td>0.784317</td>\n",
       "      <td>0.927825</td>\n",
       "    </tr>\n",
       "    <tr>\n",
       "      <th>12</th>\n",
       "      <td>131.258310</td>\n",
       "      <td>0.010322</td>\n",
       "      <td>0.002637</td>\n",
       "      <td>0.008333</td>\n",
       "      <td>0.002125</td>\n",
       "      <td>0.784315</td>\n",
       "      <td>0.927824</td>\n",
       "    </tr>\n",
       "    <tr>\n",
       "      <th>13</th>\n",
       "      <td>131.258210</td>\n",
       "      <td>0.010322</td>\n",
       "      <td>0.002637</td>\n",
       "      <td>0.008333</td>\n",
       "      <td>0.002125</td>\n",
       "      <td>0.784316</td>\n",
       "      <td>0.927824</td>\n",
       "    </tr>\n",
       "    <tr>\n",
       "      <th>14</th>\n",
       "      <td>131.258248</td>\n",
       "      <td>0.010322</td>\n",
       "      <td>0.002637</td>\n",
       "      <td>0.008333</td>\n",
       "      <td>0.002125</td>\n",
       "      <td>0.784316</td>\n",
       "      <td>0.927824</td>\n",
       "    </tr>\n",
       "    <tr>\n",
       "      <th>15</th>\n",
       "      <td>131.258234</td>\n",
       "      <td>0.010322</td>\n",
       "      <td>0.002637</td>\n",
       "      <td>0.008333</td>\n",
       "      <td>0.002125</td>\n",
       "      <td>0.784316</td>\n",
       "      <td>0.927824</td>\n",
       "    </tr>\n",
       "    <tr>\n",
       "      <th>16</th>\n",
       "      <td>131.258239</td>\n",
       "      <td>0.010322</td>\n",
       "      <td>0.002637</td>\n",
       "      <td>0.008333</td>\n",
       "      <td>0.002125</td>\n",
       "      <td>0.784316</td>\n",
       "      <td>0.927824</td>\n",
       "    </tr>\n",
       "    <tr>\n",
       "      <th>17</th>\n",
       "      <td>131.258237</td>\n",
       "      <td>0.010322</td>\n",
       "      <td>0.002637</td>\n",
       "      <td>0.008333</td>\n",
       "      <td>0.002125</td>\n",
       "      <td>0.784316</td>\n",
       "      <td>0.927824</td>\n",
       "    </tr>\n",
       "    <tr>\n",
       "      <th>18</th>\n",
       "      <td>131.258238</td>\n",
       "      <td>0.010322</td>\n",
       "      <td>0.002637</td>\n",
       "      <td>0.008333</td>\n",
       "      <td>0.002125</td>\n",
       "      <td>0.784316</td>\n",
       "      <td>0.927824</td>\n",
       "    </tr>\n",
       "    <tr>\n",
       "      <th>19</th>\n",
       "      <td>131.258237</td>\n",
       "      <td>0.010322</td>\n",
       "      <td>0.002637</td>\n",
       "      <td>0.008333</td>\n",
       "      <td>0.002125</td>\n",
       "      <td>0.784316</td>\n",
       "      <td>0.927824</td>\n",
       "    </tr>\n",
       "    <tr>\n",
       "      <th>20</th>\n",
       "      <td>131.258237</td>\n",
       "      <td>0.010322</td>\n",
       "      <td>0.002637</td>\n",
       "      <td>0.008333</td>\n",
       "      <td>0.002125</td>\n",
       "      <td>0.784316</td>\n",
       "      <td>0.927824</td>\n",
       "    </tr>\n",
       "  </tbody>\n",
       "</table>\n",
       "</div>"
      ],
      "text/plain": [
       "        c (mm)      ε_fe       ε_c       ε_s      ε_c'        β1         α\n",
       "0   144.207618  0.013136  0.002097  0.008390  0.002125  0.748416  0.885018\n",
       "1   127.904816  0.009070  0.002978  0.008298  0.002125  0.812854  0.918721\n",
       "2   132.617164  0.010687  0.002552  0.008342  0.002125  0.777972  0.925806\n",
       "3   130.765526  0.010179  0.002672  0.008330  0.002125  0.786996  0.928148\n",
       "4   131.445102  0.010374  0.002625  0.008335  0.002125  0.783360  0.927636\n",
       "5   131.188514  0.010302  0.002642  0.008333  0.002125  0.784680  0.927886\n",
       "6   131.284414  0.010329  0.002636  0.008334  0.002125  0.784180  0.927800\n",
       "7   131.248432  0.010319  0.002638  0.008333  0.002125  0.784367  0.927833\n",
       "8   131.261913  0.010323  0.002637  0.008333  0.002125  0.784297  0.927821\n",
       "9   131.256860  0.010321  0.002637  0.008333  0.002125  0.784323  0.927826\n",
       "10  131.258754  0.010322  0.002637  0.008333  0.002125  0.784313  0.927824\n",
       "11  131.258044  0.010322  0.002637  0.008333  0.002125  0.784317  0.927825\n",
       "12  131.258310  0.010322  0.002637  0.008333  0.002125  0.784315  0.927824\n",
       "13  131.258210  0.010322  0.002637  0.008333  0.002125  0.784316  0.927824\n",
       "14  131.258248  0.010322  0.002637  0.008333  0.002125  0.784316  0.927824\n",
       "15  131.258234  0.010322  0.002637  0.008333  0.002125  0.784316  0.927824\n",
       "16  131.258239  0.010322  0.002637  0.008333  0.002125  0.784316  0.927824\n",
       "17  131.258237  0.010322  0.002637  0.008333  0.002125  0.784316  0.927824\n",
       "18  131.258238  0.010322  0.002637  0.008333  0.002125  0.784316  0.927824\n",
       "19  131.258237  0.010322  0.002637  0.008333  0.002125  0.784316  0.927824\n",
       "20  131.258237  0.010322  0.002637  0.008333  0.002125  0.784316  0.927824"
      ]
     },
     "execution_count": 69,
     "metadata": {},
     "output_type": "execute_result"
    }
   ],
   "source": [
    "def cSolver():## //Numerical Solver\n",
    "        \n",
    "    ##--> Data for the tabulations\n",
    "    epsilon_fe_arr = []\n",
    "    espilon_c_arr = []\n",
    "    eespilon_s_arr = []\n",
    "    e_c_prime_arr = []\n",
    "    beta_one_arr = []\n",
    "    alpha_one_arr = []\n",
    "    c_init_arr = []\n",
    "\n",
    "    c_init = 0.20*input['d'] ##initialize depth\n",
    "    i = 0\n",
    "    \n",
    "    while i <= 20:\n",
    "       \n",
    "        epsilon_fe = 0.003*( (input['h'] - c_init) /c_init) - ebi\n",
    "        espilon_c = (0.009 + ebi)*(c_init/(input['h'] - c_init))\n",
    "        espilon_s = (0.009 + ebi)*((input['d'] - c_init)/(input['h'] - c_init))\n",
    "\n",
    "        fs = input['Es']*espilon_s\n",
    "        fs = 414 ##TODO fix on the yields\n",
    "            \n",
    "        f_fe = input['frp']['Ef']*0.009\n",
    "            \n",
    "        e_c_prime = 1.7*input['fc']/ec\n",
    "        beta_one = ((4*e_c_prime )- espilon_c)/((6*e_c_prime)-(2*espilon_c))\n",
    "        alpha_one = ((3*e_c_prime*espilon_c) - math.pow(espilon_c,2))/(3*beta_one*math.pow(e_c_prime,2))    \n",
    "        c_init = (area_steel*fs + af*f_fe)/(alpha_one*input['fc']*beta_one*input['w'])\n",
    "\n",
    "        epsilon_fe_arr.append(epsilon_fe)\n",
    "        espilon_c_arr.append(espilon_c)\n",
    "        eespilon_s_arr.append(espilon_s)\n",
    "        e_c_prime_arr.append(e_c_prime)\n",
    "        beta_one_arr.append(beta_one)\n",
    "        alpha_one_arr.append(alpha_one)\n",
    "        c_init_arr.append(c_init)\n",
    "    \n",
    "        c = c_init\n",
    "        i += 1\n",
    "    results = {\n",
    "        \"value\" : c,\n",
    "        \"epsilon_fe\" : epsilon_fe_arr,\n",
    "        \"espilon_c\" : espilon_c_arr,\n",
    "        \"espilon_s\" : eespilon_s_arr,\n",
    "        \"e_c_prime\" : e_c_prime_arr,\n",
    "        \"beta_one\" : beta_one_arr,\n",
    "        \"alpha_one\" : alpha_one_arr,\n",
    "        \"c_init\" : c_init_arr,\n",
    "    }\n",
    "        \n",
    "    return results\n",
    "\n",
    "c_data = cSolver()\n",
    "df = pd.DataFrame({\n",
    "      'c (mm)': c_data['c_init'],\n",
    "      'ε_fe': c_data['epsilon_fe'],    \n",
    "      'ε_c': c_data['espilon_c'],\n",
    "      'ε_s': c_data['espilon_s'],\n",
    "      'ε_c\\'': c_data['e_c_prime'],\n",
    "      'β1': c_data['beta_one'],\n",
    "      'α': c_data['alpha_one'],\n",
    "      })\n",
    "df"
   ]
  },
  {
   "cell_type": "markdown",
   "id": "fc7649b7",
   "metadata": {},
   "source": [
    "### Computation of Flexural Strength"
   ]
  },
  {
   "cell_type": "markdown",
   "id": "319183f3",
   "metadata": {},
   "source": [
    "#### Steel Contribution to Bending\n",
    "<center> $ M_{ns} = A_{s} f_{s} \\left( d - \\frac{ \\beta_{1} c }{2} \\right) $ </center>"
   ]
  },
  {
   "cell_type": "code",
   "execution_count": 81,
   "id": "38bb8307",
   "metadata": {},
   "outputs": [],
   "source": [
    "## Computation of Flexural Strength\n",
    "n_length = len(c_data[\"beta_one\"])\n",
    "beta_one_final = c_data[\"beta_one\"][n_length - 1]\n",
    "\n",
    "##Computation Steel Contribution to Bending\n",
    "fs = 414 ##--> to review soon\n",
    "As = area_steel\n",
    "Af = af\n",
    "Mns = As*fs*(input['d'] - ((beta_one_final*c_data[\"value\"])/2))\n",
    "f_fe = input['frp']['Ef']*0.009"
   ]
  },
  {
   "cell_type": "markdown",
   "id": "5c095d95",
   "metadata": {},
   "source": [
    "#### FRP Contribution to Bending\n",
    "<center> $ M_{nf} = A_{s} f_{fe} \\left( d - \\frac{ \\beta_{1} c }{2} \\right) $ </center>"
   ]
  },
  {
   "cell_type": "code",
   "execution_count": 82,
   "id": "3cdf92ec",
   "metadata": {},
   "outputs": [
    {
     "name": "stdout",
     "output_type": "stream",
     "text": [
      "115.63958816829273\n"
     ]
    }
   ],
   "source": [
    "Mnf = Af*f_fe*(input[\"h\"] - (beta_one_final*c_data[\"value\"])/2)\n",
    "print(Mnf/1e6)\n",
    "\n",
    "# Computation of design flexural strength of the section\n",
    "\n",
    "psi_f = 0.85 ##research \n",
    "phi_b = 0.90\n",
    "phiMn = phi_b*(Mns + (psi_f*Mnf))"
   ]
  },
  {
   "cell_type": "markdown",
   "id": "c6e82fd8",
   "metadata": {},
   "source": [
    "### Computation Design Flexural Strength of the Section\n",
    "<center>$ \\phi M_{n} = \\phi \\left[ M_{ns} + \\psi_{f} M_{nf} \\right] $</center>"
   ]
  },
  {
   "cell_type": "code",
   "execution_count": 84,
   "id": "d9cd4fd3",
   "metadata": {},
   "outputs": [
    {
     "name": "stdout",
     "output_type": "stream",
     "text": [
      "443.5843648893501\n"
     ]
    }
   ],
   "source": [
    "psi_f = 0.85 ##research \n",
    "phi_b = 0.90\n",
    "phiMn = phi_b*(Mns + (psi_f*Mnf))\n",
    "print(phiMn/1e6)"
   ]
  },
  {
   "cell_type": "markdown",
   "id": "b5f75da1",
   "metadata": {},
   "source": [
    "### Calculate service stresses in reinforcing steel and the FRP\n",
    "\n",
    "<center> $ k = \\sqrt{ \\left( \\rho_{s} \\frac{E_{s}}{E_{c}} + \\rho_{f} \\frac{E_{f}}{E_{c}} \\right)^{2} + 2.0 \\times \\left[ \\rho_{s} \\frac{E_{s}}{E_{c}} + \\rho_{f} \\frac{E_{f}}{E_{c}} \\times \\left( \\frac{d_{f}}{d} \\right) \\right] } - \\left( \\rho_{s} \\frac{E_{s}}{E_{c}} + \\rho_{f} \\frac{E_{f}}{E_{c}} \\right) $ </center>"
   ]
  },
  {
   "cell_type": "code",
   "execution_count": 88,
   "id": "78cdb59b",
   "metadata": {},
   "outputs": [
    {
     "name": "stdout",
     "output_type": "stream",
     "text": [
      "0.32851365041305364\n"
     ]
    }
   ],
   "source": [
    "def rho(As,b,d):\n",
    "    value = As/(b*d)\n",
    "    return value\n",
    "\n",
    "\n",
    "\n",
    "rho_s = rho(area_steel,input[\"h\"],input[\"w\"])\n",
    "rho_f = rho(af,input[\"h\"],input[\"w\"])\n",
    "\n",
    "Es = 200\n",
    "Ec = ec/1000\n",
    "Ef = input['frp']['Ef']/1000\n",
    "\n",
    "k1 = math.pow(rho_s*(Es/Ec) + rho_f*(Ef/Ec),2)\n",
    "k2 = 2*(rho_s*(Es/Ec) + rho_f*(Ef/Ec)*(input['h']/input['d']))\n",
    "k3 = rho_s*(Es/Ec) + rho_f*(Ef/Ec)\n",
    "\n",
    "k = math.sqrt(k1 + k2) - k3\n",
    "print(k)"
   ]
  },
  {
   "cell_type": "code",
   "execution_count": null,
   "id": "4cb14946",
   "metadata": {},
   "outputs": [],
   "source": [
    "\n",
    "\n",
    "#     report += `<h3>Step 8 - Calculate the stress level in the reinforcing steel and FRP </h3>`\n",
    "    \n",
    "#     var fs = input_data['Es']*data['espilon_s']\n",
    "#     report += `<center> \\$ f_{s} =  ${fs.toFixed(5)} \\$ </center>`\n",
    "#     fs = 414 //TODO fix on the yields\n",
    "#     var f_fe = input_data['frp']['Ef']*0.009\n",
    "#     report += `<center> \\$ f_{fe} =  ${f_fe.toFixed(5)} \\$ </center>`\n",
    "#     data['fs'] = fs\n",
    "#     data['f_fe'] = f_fe\n",
    "#     return {\n",
    "#         report\n",
    "#     }\n",
    "\n",
    "# }"
   ]
  },
  {
   "cell_type": "code",
   "execution_count": null,
   "id": "a9c1ee94",
   "metadata": {},
   "outputs": [],
   "source": [
    "# const input_data = require('../data/test.json'); //insert data here\n",
    "# module.exports = function (report, data) {\n",
    "\n",
    "#     report += `<h3>Step 9 - Calculate the internal force resultants and check equilibrium</h3>`\n",
    "#     var e_c_prime = 1.7*input_data['fc']/data['ec']\n",
    "\n",
    "#     var beta_one = ((4*e_c_prime )- data['espilon_c'])/((6*e_c_prime)-(2*data['espilon_c']))\n",
    "#     var alpha_one = ((3*e_c_prime*data['espilon_c']) - Math.pow(data['espilon_c'],2))/(3*beta_one*Math.pow(e_c_prime,2))\n",
    "#     report += `<center> \\$ \\\\epsilon_{c}^{'} =  ${e_c_prime.toFixed(5)} \\$ </center>`\n",
    "#     report += `<center> \\$ \\\\beta_{1} =  ${beta_one.toFixed(5)} \\$ </center>`\n",
    "#     report += `<center> \\$ \\\\alpha_{1} =  ${alpha_one.toFixed(5)} \\$ </center>`\n",
    "\n",
    "#     var c = (data['as']*data['fs'] + data['af'] *data['f_fe'])/(alpha_one*input_data['fc']*beta_one*input_data['w'])\n",
    "#     report += `<center> \\$ c =  ${c.toFixed(5)} \\$ </center>`\n",
    "\n",
    "#     return {\n",
    "#         report\n",
    "#     }\n",
    "\n",
    "# }"
   ]
  }
 ],
 "metadata": {
  "kernelspec": {
   "display_name": "Python 3 (ipykernel)",
   "language": "python",
   "name": "python3"
  },
  "language_info": {
   "codemirror_mode": {
    "name": "ipython",
    "version": 3
   },
   "file_extension": ".py",
   "mimetype": "text/x-python",
   "name": "python",
   "nbconvert_exporter": "python",
   "pygments_lexer": "ipython3",
   "version": "3.9.13"
  }
 },
 "nbformat": 4,
 "nbformat_minor": 5
}
