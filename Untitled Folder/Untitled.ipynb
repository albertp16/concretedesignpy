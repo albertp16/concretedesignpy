{
 "cells": [
  {
   "cell_type": "code",
   "execution_count": 7,
   "id": "ebfe53b8",
   "metadata": {},
   "outputs": [],
   "source": [
    "import math\n",
    "\n",
    "def rsbarea(dia):\n",
    "    area = (math.pi/4)*math.pow(dia,2)\n",
    "    return area\n",
    "rsb = rsbarea(16)"
   ]
  },
  {
   "cell_type": "code",
   "execution_count": 11,
   "id": "c24790b8",
   "metadata": {},
   "outputs": [
    {
     "data": {
      "text/plain": [
       "1005.3096491487338"
      ]
     },
     "execution_count": 11,
     "metadata": {},
     "output_type": "execute_result"
    }
   ],
   "source": [
    "spacing = 200\n",
    "n_bar = 1000/spacing\n",
    "area = n_bar*rsb\n",
    "area\n"
   ]
  },
  {
   "cell_type": "code",
   "execution_count": null,
   "id": "02b58c39",
   "metadata": {},
   "outputs": [],
   "source": []
  }
 ],
 "metadata": {
  "kernelspec": {
   "display_name": "Python 3 (ipykernel)",
   "language": "python",
   "name": "python3"
  },
  "language_info": {
   "codemirror_mode": {
    "name": "ipython",
    "version": 3
   },
   "file_extension": ".py",
   "mimetype": "text/x-python",
   "name": "python",
   "nbconvert_exporter": "python",
   "pygments_lexer": "ipython3",
   "version": "3.9.13"
  }
 },
 "nbformat": 4,
 "nbformat_minor": 5
}
