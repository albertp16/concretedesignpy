{
 "cells": [
  {
   "cell_type": "code",
   "execution_count": 4,
   "id": "ab646baa",
   "metadata": {},
   "outputs": [
    {
     "data": {
      "text/plain": [
       "10.0"
      ]
     },
     "execution_count": 4,
     "metadata": {},
     "output_type": "execute_result"
    }
   ],
   "source": [
    "def minimumthk(length,type):\n",
    "    if type == \"simply_supported\":\n",
    "#             var report = [\n",
    "#                 `\\$ \\\\frac{l}{2} \\$`,\n",
    "#             ]\n",
    "        value = length/20\n",
    "    elif type == \"one_end_continuous\":\n",
    "        value = length/24\n",
    "    elif type == \"both_end_continuous\": \n",
    "        value =length/28\n",
    "    elif type == \"cantilver\":\n",
    "        value = length/10\n",
    "\n",
    "#        var results = {\n",
    "#            \"report\" : report,\n",
    "#           \"value\" : value\n",
    "#       }\n",
    "    return value\n",
    "\n",
    "minimumthk(20*12,\"one_end_continuous\")"
   ]
  },
  {
   "cell_type": "code",
   "execution_count": 2,
   "id": "d1ec309b",
   "metadata": {},
   "outputs": [
    {
     "data": {
      "text/plain": [
       "0.7999999999999999"
      ]
     },
     "execution_count": 2,
     "metadata": {},
     "output_type": "execute_result"
    }
   ],
   "source": [
    "def beta_one(fc):\n",
    "    if 2500 <= fc and fc <=4000:\n",
    "        value = 0.85\n",
    "    elif 4000 < fc and fc < 8000:\n",
    "        value = 0.85 - (0.05*(fc-4000))/1000\n",
    "    else:\n",
    "        value = 0.65 \n",
    "    return value\n",
    "\n",
    "beta_one(5000)"
   ]
  },
  {
   "cell_type": "code",
   "execution_count": null,
   "id": "8d87b41a",
   "metadata": {},
   "outputs": [],
   "source": []
  }
 ],
 "metadata": {
  "kernelspec": {
   "display_name": "Python 3 (ipykernel)",
   "language": "python",
   "name": "python3"
  },
  "language_info": {
   "codemirror_mode": {
    "name": "ipython",
    "version": 3
   },
   "file_extension": ".py",
   "mimetype": "text/x-python",
   "name": "python",
   "nbconvert_exporter": "python",
   "pygments_lexer": "ipython3",
   "version": "3.9.13"
  }
 },
 "nbformat": 4,
 "nbformat_minor": 5
}
