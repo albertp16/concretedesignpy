{
 "cells": [
  {
   "cell_type": "code",
   "execution_count": 1,
   "id": "1db152d7",
   "metadata": {},
   "outputs": [
    {
     "ename": "SyntaxError",
     "evalue": "invalid syntax (2479148556.py, line 6)",
     "output_type": "error",
     "traceback": [
      "\u001b[1;36m  File \u001b[1;32m\"C:\\Users\\alber\\AppData\\Local\\Temp\\ipykernel_39120\\2479148556.py\"\u001b[1;36m, line \u001b[1;32m6\u001b[0m\n\u001b[1;33m    else\u001b[0m\n\u001b[1;37m        ^\u001b[0m\n\u001b[1;31mSyntaxError\u001b[0m\u001b[1;31m:\u001b[0m invalid syntax\n"
     ]
    }
   ],
   "source": [
    "def beta_one(fc):\n",
    "    if 2500 <= fc and fc <=4000:\n",
    "        value = 0.85\n",
    "    elif 4000 < fc and fc < 8000:\n",
    "        value = 0.85 - (0.05*(fc-4000))/1000\n",
    "    else:\n",
    "        value = 0.65 \n",
    "    return value\n",
    "\n",
    "beta_one(5000)"
   ]
  },
  {
   "cell_type": "code",
   "execution_count": null,
   "id": "ba6cc9e9",
   "metadata": {},
   "outputs": [],
   "source": []
  }
 ],
 "metadata": {
  "kernelspec": {
   "display_name": "Python 3 (ipykernel)",
   "language": "python",
   "name": "python3"
  },
  "language_info": {
   "codemirror_mode": {
    "name": "ipython",
    "version": 3
   },
   "file_extension": ".py",
   "mimetype": "text/x-python",
   "name": "python",
   "nbconvert_exporter": "python",
   "pygments_lexer": "ipython3",
   "version": "3.9.13"
  }
 },
 "nbformat": 4,
 "nbformat_minor": 5
}
