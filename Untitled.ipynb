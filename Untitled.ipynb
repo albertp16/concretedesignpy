{
 "cells": [
  {
   "cell_type": "code",
   "execution_count": 4,
   "id": "9b24f4a2",
   "metadata": {},
   "outputs": [
    {
     "name": "stdout",
     "output_type": "stream",
     "text": [
      "=====\n",
      "704.5338884681132\n",
      "821.9562032127988\n"
     ]
    }
   ],
   "source": [
    "import math\n",
    "\n",
    "fc = 34.47\n",
    "b = 350 \n",
    "d = 400\n",
    "\n",
    "def shearCheck2(fc,b,d):\n",
    "    value = (2/3)*math.sqrt(fc)*b*d\n",
    "    return value/1000 ##kN\n",
    "    \n",
    "test = shearCheck2(34.47,300,600)\n",
    "test2 = shearCheck2(34.47,350,600)\n",
    "\n",
    "print('=====')\n",
    "print(test)\n",
    "print(test2)"
   ]
  },
  {
   "cell_type": "code",
   "execution_count": null,
   "id": "e95702ec",
   "metadata": {},
   "outputs": [],
   "source": []
  }
 ],
 "metadata": {
  "kernelspec": {
   "display_name": "Python 3 (ipykernel)",
   "language": "python",
   "name": "python3"
  },
  "language_info": {
   "codemirror_mode": {
    "name": "ipython",
    "version": 3
   },
   "file_extension": ".py",
   "mimetype": "text/x-python",
   "name": "python",
   "nbconvert_exporter": "python",
   "pygments_lexer": "ipython3",
   "version": "3.9.13"
  }
 },
 "nbformat": 4,
 "nbformat_minor": 5
}
