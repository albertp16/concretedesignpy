{
 "cells": [
  {
   "cell_type": "code",
   "execution_count": 5,
   "id": "e336bb8a",
   "metadata": {},
   "outputs": [],
   "source": [
    "# Programmed by Albert Pamonag, M.Eng \n",
    "\n",
    "import math\n",
    "import numpy as np \n",
    "import pandas as pd\n",
    "import matplotlib.pyplot as plt\n",
    "import seaborn as sns"
   ]
  },
  {
   "cell_type": "code",
   "execution_count": 27,
   "id": "5f7daccf",
   "metadata": {},
   "outputs": [],
   "source": [
    "fc = 40 #MPa, Minimum Concrete Compressive Strength\n",
    "\n",
    "Es = 200000 #MPa, Modulus Elasticity of Steel \n",
    "Ec = 4700*math.sqrt(fc) #MPa, Modulus Elasticity of Concrete\n",
    "tw = 19 #mm Thickness of Web\n",
    "tf = 19 #mm Thickness of flange\n",
    "lw = 250 #mm length of Web\n",
    "lf = 250 #mm length of flange\n",
    "ts = 125 #mm thickness of slab\n",
    "ls = 500 #mm width of slab"
   ]
  },
  {
   "cell_type": "code",
   "execution_count": 28,
   "id": "4e7c2eb3",
   "metadata": {},
   "outputs": [
    {
     "name": "stdout",
     "output_type": "stream",
     "text": [
      "n = 0.14862705002791382\n"
     ]
    }
   ],
   "source": [
    "def modularRatio(ei,ebase):\n",
    "    output = ei/ebase\n",
    "    return output\n",
    "\n",
    "def inertiaRec(b,h):\n",
    "    output = (1/12)*b*math.pow(h,3)\n",
    "    return output\n",
    "\n",
    "def intertiaTransfer(area,d):\n",
    "    output = area*math.pow(d,2)\n",
    "    return output\n",
    "\n",
    "def varignonTherom(dataset_arr):\n",
    "    \n",
    "    total_a = 0 \n",
    "    total_ab = 0 \n",
    "    data_length = len(dataset_arr) \n",
    "\n",
    "    i = 0\n",
    "    while i < data_length:\n",
    "        total_ab += dataset_arr[i][0]*dataset_arr[i][1]\n",
    "        total_a += dataset_arr[i][0]\n",
    "        i = i + 1\n",
    "    results = {\n",
    "        \"total\" : total_a,\n",
    "        \"value\" : total_ab/total_a,\n",
    "        \"area_x\" : total_ab\n",
    "    }\n",
    "\n",
    "    return results\n",
    "\n",
    "n_steel = modularRatio(Ec,Es)\n",
    "\n",
    "print(\"n = \" + str(n_steel))"
   ]
  },
  {
   "cell_type": "markdown",
   "id": "96fd30a0",
   "metadata": {},
   "source": [
    "## Computation of Area"
   ]
  },
  {
   "cell_type": "code",
   "execution_count": 29,
   "id": "ea53a852",
   "metadata": {},
   "outputs": [
    {
     "name": "stdout",
     "output_type": "stream",
     "text": [
      "Area of Slab : 62500 mm^2\n",
      "Area of Steel Section : 14250 mm^2\n",
      "Area of the Section : 23539.190626744614 mm^2\n"
     ]
    }
   ],
   "source": [
    "slab_area = ts*ls\n",
    "steel_area =  tw*lw + (2*tf*lf)\n",
    "\n",
    "area = (n_steel*slab_area) + steel_area\n",
    "print('Area of Slab : ' + str(slab_area) + ' mm^2')\n",
    "print('Area of Steel Section : ' + str(steel_area) + ' mm^2')\n",
    "print('Area of the Section : ' + str(area) + ' mm^2')"
   ]
  },
  {
   "cell_type": "markdown",
   "id": "4ace53e5",
   "metadata": {},
   "source": [
    "## First Moment of area along X and Y axes"
   ]
  },
  {
   "cell_type": "code",
   "execution_count": 25,
   "id": "49419ec7",
   "metadata": {},
   "outputs": [
    {
     "name": "stdout",
     "output_type": "stream",
     "text": [
      "First Moment of area along X and Y axes : 1210988.0987541473 mm^3\n",
      "Y : 42.807449485998326 mm\n"
     ]
    }
   ],
   "source": [
    "y_slab = 100 + ts/2 + tf\n",
    "y_steel = 100 - lf/2\n",
    "\n",
    "area_arr = [\n",
    "    [n_steel*slab_area,y_slab],\n",
    "    [steel_area,y_steel]\n",
    "] \n",
    "\n",
    "FMA = varignonTherom(area_arr)['area_x'] ## First Moment of Area\n",
    "Y = varignonTherom(area_arr)['value'] ## First Moment of Area\n",
    "print('First Moment of area along X and Y axes : ' + str(FMA) + ' mm^3')\n",
    "print('Y : ' + str(Y) + ' mm')"
   ]
  },
  {
   "cell_type": "markdown",
   "id": "fb16899e",
   "metadata": {},
   "source": [
    "## Moment of inertia along X-X’ axes."
   ]
  },
  {
   "cell_type": "code",
   "execution_count": 31,
   "id": "c3f62a4e",
   "metadata": {},
   "outputs": [
    {
     "name": "stdout",
     "output_type": "stream",
     "text": [
      "Ixx : 252501643.31615937 mm^4\n"
     ]
    }
   ],
   "source": [
    "Ix_slab = intertiaTransfer(n_steel*slab_area,Y - y_slab)\n",
    "Ix_flange_top = inertiaRec(lf,tf) + intertiaTransfer(lf*tf,Y - 100+(tf/2))\n",
    "Ix_web = inertiaRec(tw,lw) + intertiaTransfer(tw*lw,Y - y_steel)\n",
    "Ix_flange_bot = inertiaRec(lf,tf) + intertiaTransfer(lf*tf,Y - y_steel - tf/2)\n",
    "\n",
    "Ixx = Ix_slab + Ix_flange_top + Ix_web + Ix_flange_bot\n",
    "print('Ixx : ' + str(Ixx) + ' mm^4')"
   ]
  },
  {
   "cell_type": "markdown",
   "id": "7dac86b8",
   "metadata": {},
   "source": [
    "## Moment of inertia along Y-Y’ axes."
   ]
  },
  {
   "cell_type": "code",
   "execution_count": 32,
   "id": "3bd60344",
   "metadata": {},
   "outputs": [
    {
     "name": "stdout",
     "output_type": "stream",
     "text": [
      "Iyy : 49622062.5 mm^4\n"
     ]
    }
   ],
   "source": [
    "# Iy_slab = \\\n",
    "Iy_flange_top = inertiaRec(tf,lf) \n",
    "Iy_web = inertiaRec(lw,tw) \n",
    "Iy_flange_bot = inertiaRec(tf,lf) \n",
    "\n",
    "Iyy = Iy_flange_top + Iy_web + Iy_flange_bot\n",
    "print('Iyy : ' + str(Iyy) + ' mm^4')"
   ]
  },
  {
   "cell_type": "markdown",
   "id": "b4e1e741",
   "metadata": {},
   "source": [
    "## Raduis of Gyration X and Y"
   ]
  },
  {
   "cell_type": "code",
   "execution_count": 33,
   "id": "8427b405",
   "metadata": {},
   "outputs": [
    {
     "name": "stdout",
     "output_type": "stream",
     "text": [
      "rx : 103.57056405968687 mm\n",
      "ry : 45.913631335615555 mm\n"
     ]
    }
   ],
   "source": [
    "Rx = math.sqrt(Ixx/area)\n",
    "Ry = math.sqrt(Iyy/area)\n",
    "print('rx : ' + str(Rx) + ' mm')\n",
    "print('ry : ' + str(Ry) + ' mm')"
   ]
  },
  {
   "cell_type": "markdown",
   "id": "4ec9a696",
   "metadata": {},
   "source": [
    "## Section Modulus X and Y"
   ]
  },
  {
   "cell_type": "code",
   "execution_count": 38,
   "id": "bf494e94",
   "metadata": {},
   "outputs": [
    {
     "name": "stdout",
     "output_type": "stream",
     "text": [
      "Sxy : 6846842.013888889 mm\n",
      "Syy : 5605309.833333333 mm\n"
     ]
    }
   ],
   "source": [
    "Wx = 1/6*math.pow(ts,2)*ls\n",
    "Wy = 1/6*ts*math.pow(ls,2)\n",
    "\n",
    "hsteel = tf+lw+tf\n",
    "\n",
    "Sx = (lf*math.pow(hsteel,2))/6 + (((lf - tw)*math.pow(hsteel - 2*tf,3))/(6*hsteel))\n",
    "Sy = (2*tf*math.pow(lf,2))/6 + (((hsteel - 2*tf)*math.pow(tw,3))/(6*lf))\n",
    "Sxx = Wx + Sx \n",
    "Syy = Wy + Sy\n",
    "\n",
    "print('Sxy : ' + str(Sxx) + ' mm')\n",
    "print('Syy : ' + str(Syy) + ' mm')"
   ]
  },
  {
   "cell_type": "code",
   "execution_count": null,
   "id": "74e63648",
   "metadata": {},
   "outputs": [],
   "source": []
  }
 ],
 "metadata": {
  "kernelspec": {
   "display_name": "Python 3 (ipykernel)",
   "language": "python",
   "name": "python3"
  },
  "language_info": {
   "codemirror_mode": {
    "name": "ipython",
    "version": 3
   },
   "file_extension": ".py",
   "mimetype": "text/x-python",
   "name": "python",
   "nbconvert_exporter": "python",
   "pygments_lexer": "ipython3",
   "version": "3.9.13"
  }
 },
 "nbformat": 4,
 "nbformat_minor": 5
}
