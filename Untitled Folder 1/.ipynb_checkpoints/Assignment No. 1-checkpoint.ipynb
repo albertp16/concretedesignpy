{
 "cells": [
  {
   "cell_type": "code",
   "execution_count": 5,
   "id": "f72d8171",
   "metadata": {},
   "outputs": [],
   "source": [
    "# Programmed by Albert Pamonag, M.Eng \n",
    "\n",
    "import math\n",
    "import numpy as np \n",
    "import pandas as pd\n",
    "import matplotlib.pyplot as plt\n",
    "import seaborn as sns"
   ]
  },
  {
   "cell_type": "code",
   "execution_count": 27,
   "id": "0d8b9d42",
   "metadata": {},
   "outputs": [],
   "source": [
    "fc = 40 #MPa, Minimum Concrete Compressive Strength\n",
    "\n",
    "Es = 200000 #MPa, Modulus Elasticity of Steel \n",
    "Ec = 4700*math.sqrt(fc) #MPa, Modulus Elasticity of Concrete\n",
    "tw = 19 #mm Thickness of Web\n",
    "tf = 19 #mm Thickness of flange\n",
    "lw = 250 #mm length of Web\n",
    "lf = 250 #mm length of flange\n",
    "ts = 125 #mm thickness of slab\n",
    "ls = 500 #mm width of slab"
   ]
  },
  {
   "cell_type": "code",
   "execution_count": 28,
   "id": "86097aad",
   "metadata": {},
   "outputs": [
    {
     "name": "stdout",
     "output_type": "stream",
     "text": [
      "n = 0.14862705002791382\n"
     ]
    }
   ],
   "source": [
    "def modularRatio(ei,ebase):\n",
    "    output = ei/ebase\n",
    "    return output\n",
    "\n",
    "def inertiaRec(b,h):\n",
    "    output = (1/12)*b*math.pow(h,3)\n",
    "    return output\n",
    "\n",
    "def intertiaTransfer(area,d):\n",
    "    output = area*math.pow(d,2)\n",
    "    return output\n",
    "\n",
    "def varignonTherom(dataset_arr):\n",
    "    \n",
    "    total_a = 0 \n",
    "    total_ab = 0 \n",
    "    data_length = len(dataset_arr) \n",
    "\n",
    "    i = 0\n",
    "    while i < data_length:\n",
    "        total_ab += dataset_arr[i][0]*dataset_arr[i][1]\n",
    "        total_a += dataset_arr[i][0]\n",
    "        i = i + 1\n",
    "    results = {\n",
    "        \"total\" : total_a,\n",
    "        \"value\" : total_ab/total_a,\n",
    "        \"area_x\" : total_ab\n",
    "    }\n",
    "\n",
    "    return results\n",
    "\n",
    "n_steel = modularRatio(Ec,Es)\n",
    "\n",
    "print(\"n = \" + str(n_steel))"
   ]
  },
  {
   "cell_type": "markdown",
   "id": "36624e5e",
   "metadata": {},
   "source": [
    "## Computation of Area"
   ]
  },
  {
   "cell_type": "code",
   "execution_count": 29,
   "id": "10b64402",
   "metadata": {},
   "outputs": [
    {
     "name": "stdout",
     "output_type": "stream",
     "text": [
      "Area of Slab : 62500 mm^2\n",
      "Area of Steel Section : 14250 mm^2\n",
      "Area of the Section : 23539.190626744614 mm^2\n"
     ]
    }
   ],
   "source": [
    "slab_area = ts*ls\n",
    "steel_area =  tw*lw + (2*tf*lf)\n",
    "\n",
    "area = (n_steel*slab_area) + steel_area\n",
    "print('Area of Slab : ' + str(slab_area) + ' mm^2')\n",
    "print('Area of Steel Section : ' + str(steel_area) + ' mm^2')\n",
    "print('Area of the Section : ' + str(area) + ' mm^2')"
   ]
  },
  {
   "cell_type": "markdown",
   "id": "52f97455",
   "metadata": {},
   "source": [
    "## First Moment of area along X and Y axes"
   ]
  },
  {
   "cell_type": "code",
   "execution_count": 25,
   "id": "eed15493",
   "metadata": {},
   "outputs": [
    {
     "name": "stdout",
     "output_type": "stream",
     "text": [
      "First Moment of area along X and Y axes : 1210988.0987541473 mm^3\n",
      "Y : 42.807449485998326 mm\n"
     ]
    }
   ],
   "source": [
    "y_slab = 100 + ts/2 + tf\n",
    "y_steel = 100 - lf/2\n",
    "\n",
    "area_arr = [\n",
    "    [n_steel*slab_area,y_slab],\n",
    "    [steel_area,y_steel]\n",
    "] \n",
    "\n",
    "FMA = varignonTherom(area_arr)['area_x'] ## First Moment of Area\n",
    "Y = varignonTherom(area_arr)['value'] ## First Moment of Area\n",
    "print('First Moment of area along X and Y axes : ' + str(FMA) + ' mm^3')\n",
    "print('Y : ' + str(Y) + ' mm')"
   ]
  },
  {
   "cell_type": "markdown",
   "id": "28e3189b",
   "metadata": {},
   "source": [
    "## Moment of inertia along X-X’ axes."
   ]
  },
  {
   "cell_type": "code",
   "execution_count": 31,
   "id": "694907c9",
   "metadata": {},
   "outputs": [
    {
     "name": "stdout",
     "output_type": "stream",
     "text": [
      "Ixx : 252501643.31615937 mm^4\n"
     ]
    }
   ],
   "source": [
    "Ix_slab = intertiaTransfer(n_steel*slab_area,Y - y_slab)\n",
    "Ix_flange_top = inertiaRec(lf,tf) + intertiaTransfer(lf*tf,Y - 100+(tf/2))\n",
    "Ix_web = inertiaRec(tw,lw) + intertiaTransfer(tw*lw,Y - y_steel)\n",
    "Ix_flange_bot = inertiaRec(lf,tf) + intertiaTransfer(lf*tf,Y - y_steel - tf/2)\n",
    "\n",
    "Ixx = Ix_slab + Ix_flange_top + Ix_web + Ix_flange_bot\n",
    "print('Ixx : ' + str(Ixx) + ' mm^4')"
   ]
  },
  {
   "cell_type": "markdown",
   "id": "7a32b13b",
   "metadata": {},
   "source": [
    "## Moment of inertia along Y-Y’ axes."
   ]
  },
  {
   "cell_type": "code",
   "execution_count": 32,
   "id": "e40741fb",
   "metadata": {},
   "outputs": [
    {
     "name": "stdout",
     "output_type": "stream",
     "text": [
      "Iyy : 49622062.5 mm^4\n"
     ]
    }
   ],
   "source": [
    "# Iy_slab = \\\n",
    "Iy_flange_top = inertiaRec(tf,lf) \n",
    "Iy_web = inertiaRec(lw,tw) \n",
    "Iy_flange_bot = inertiaRec(tf,lf) \n",
    "\n",
    "Iyy = Iy_flange_top + Iy_web + Iy_flange_bot\n",
    "print('Iyy : ' + str(Iyy) + ' mm^4')"
   ]
  },
  {
   "cell_type": "code",
   "execution_count": null,
   "id": "2b032a13",
   "metadata": {},
   "outputs": [],
   "source": []
  }
 ],
 "metadata": {
  "kernelspec": {
   "display_name": "Python 3 (ipykernel)",
   "language": "python",
   "name": "python3"
  },
  "language_info": {
   "codemirror_mode": {
    "name": "ipython",
    "version": 3
   },
   "file_extension": ".py",
   "mimetype": "text/x-python",
   "name": "python",
   "nbconvert_exporter": "python",
   "pygments_lexer": "ipython3",
   "version": "3.9.13"
  }
 },
 "nbformat": 4,
 "nbformat_minor": 5
}
