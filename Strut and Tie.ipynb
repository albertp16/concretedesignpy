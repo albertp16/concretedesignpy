{
 "cells": [
  {
   "cell_type": "code",
   "execution_count": 4,
   "id": "c69f53a7",
   "metadata": {},
   "outputs": [
    {
     "data": {
      "text/plain": [
       "(75.0, 50.0)"
      ]
     },
     "execution_count": 4,
     "metadata": {},
     "output_type": "execute_result"
    }
   ],
   "source": [
    "#Check if column is slender \n",
    "\n",
    "MtopDL = 400*(75/1000) \n",
    "MbottomDL = 400*(50/1000) \n",
    "MtopLL = 325*(75/1000) \n",
    "MbottomLL = 325*(50/1000) \n",
    "\n",
    "def loadComb(DL,LL):\n",
    "    output = 1.2*DL + 1.6*LL \n",
    "    return output\n",
    "    \n",
    "Mtop = loadComb(MtopDL,MtopLL)\n",
    "Mbot = loadComb(MbottomDL,MbottomLL)\n",
    "Mtop, Mbot"
   ]
  },
  {
   "cell_type": "code",
   "execution_count": 10,
   "id": "753114f4",
   "metadata": {},
   "outputs": [
    {
     "name": "stdout",
     "output_type": "stream",
     "text": [
      "Long column\n"
     ]
    },
    {
     "data": {
      "text/plain": [
       "12.0"
      ]
     },
     "execution_count": 10,
     "metadata": {},
     "output_type": "execute_result"
    }
   ],
   "source": [
    "#checking if Slender or not \n",
    "ratio = 6000/500 \n",
    "if ratio < 10:\n",
    "    print('short column')\n",
    "else :\n",
    "    print('Long column')\n",
    "ratio"
   ]
  },
  {
   "cell_type": "code",
   "execution_count": 6,
   "id": "c8034579",
   "metadata": {},
   "outputs": [
    {
     "name": "stdout",
     "output_type": "stream",
     "text": [
      "The EI value for the column is 130208.33 Nm^2\n"
     ]
    }
   ],
   "source": [
    "import math\n",
    "\n",
    "# Column dimensions\n",
    "column_width = 0.5  # meters\n",
    "column_thickness = 0.5  # meters\n",
    "\n",
    "# Material properties\n",
    "concrete_modulus = 25 * 10**6  # N/mm^2 to N/m^2\n",
    "\n",
    "# Calculate the moment of inertia (I)\n",
    "moment_of_inertia = (column_width * column_thickness**3) / 12\n",
    "\n",
    "# Calculate the flexural rigidity (EI)\n",
    "flexural_rigidity = concrete_modulus * moment_of_inertia\n",
    "\n",
    "# Display the result\n",
    "print(f\"The EI value for the column is {flexural_rigidity:.2f} Nm^2\")"
   ]
  },
  {
   "cell_type": "code",
   "execution_count": null,
   "id": "c6609061",
   "metadata": {},
   "outputs": [],
   "source": [
    " Applied moment\n",
    "applied_moment = 100000  # Nm\n",
    "\n",
    "# Eccentricity of the applied load\n",
    "eccentricity = 0.2  # meters\n",
    "\n",
    "# Magnification factor (obtained from design codes or guidelines)\n",
    "magnification_factor = 1.2\n",
    "\n",
    "# Calculate the magnified moment\n",
    "magnified_moment = magnification_factor * applied_moment * eccentricity\n",
    "\n",
    "# Display the result\n",
    "print(f\"The magnified moment is {magnified_moment:.2f} Nm\")"
   ]
  },
  {
   "cell_type": "code",
   "execution_count": 11,
   "id": "d8c3de15",
   "metadata": {},
   "outputs": [
    {
     "name": "stdout",
     "output_type": "stream",
     "text": [
      "The magnified moment is 8.12 KNm\n"
     ]
    }
   ],
   "source": [
    "# Applied top and bottom moments\n",
    "top_moment = 75  # KNm\n",
    "bottom_moment = 50  # KNm\n",
    "\n",
    "# Eccentricity of the applied loads\n",
    "eccentricity_top = (75/1000)  # meters\n",
    "eccentricity_bot = (50/1000) # meters\n",
    "\n",
    "# Span length of the member\n",
    "span_length = 6.0  # meters\n",
    "\n",
    "# Magnification factors for top and bottom moments (obtained from design codes or guidelines)\n",
    "top_magnification_factor = 1.0\n",
    "bottom_magnification_factor = 1.0\n",
    "\n",
    "# Calculate the magnified top and bottom moments\n",
    "magnified_top_moment = top_magnification_factor * top_moment * eccentricity_top\n",
    "magnified_bottom_moment = bottom_magnification_factor * bottom_moment * eccentricity_bot\n",
    "\n",
    "# Calculate the resultant magnified moment\n",
    "resultant_magnified_moment = magnified_top_moment + magnified_bottom_moment\n",
    "\n",
    "# Display the result\n",
    "print(f\"The magnified moment is {resultant_magnified_moment:.2f} KNm\")"
   ]
  },
  {
   "cell_type": "code",
   "execution_count": 29,
   "id": "99e37b70",
   "metadata": {},
   "outputs": [
    {
     "name": "stdout",
     "output_type": "stream",
     "text": [
      "M = 625.0\n",
      "Determine the flexural stiffness = 24038461538461.54\n"
     ]
    }
   ],
   "source": [
    "fc = 30 #Mpa\n",
    "fy = 415 #MPa\n",
    "cc = 50 #mm\n",
    "L = 5 #m\n",
    "P = 500 #kM\n",
    "\n",
    "b = 450 \n",
    "h = 600 \n",
    "d = h - cc\n",
    "\n",
    "#Generate moment curvature curve \n",
    "M = (P*L)/4\n",
    "print('M = ' + str(M))\n",
    "#Determine the flexural stiffness\n",
    "Msection = 424.113681*1e6\n",
    "phi_section = 0.000026\n",
    "EI = (M/phi_section)*1000*1000\n",
    "\n",
    "print('Determine the flexural stiffness = ' + str(EI))\n"
   ]
  },
  {
   "cell_type": "code",
   "execution_count": 31,
   "id": "69e5ce87",
   "metadata": {},
   "outputs": [
    {
     "name": "stdout",
     "output_type": "stream",
     "text": [
      "52.92938738879999\n"
     ]
    }
   ],
   "source": [
    "#Calculate deflection at mid span and third point on the beam along with length\n",
    "delta_mid = 0.5*(Msection/EI)*3*3*(2/3)*1e6\n",
    "print(delta_mid)"
   ]
  },
  {
   "cell_type": "code",
   "execution_count": null,
   "id": "fdbfadb8",
   "metadata": {},
   "outputs": [],
   "source": [
    "1"
   ]
  }
 ],
 "metadata": {
  "kernelspec": {
   "display_name": "Python 3 (ipykernel)",
   "language": "python",
   "name": "python3"
  },
  "language_info": {
   "codemirror_mode": {
    "name": "ipython",
    "version": 3
   },
   "file_extension": ".py",
   "mimetype": "text/x-python",
   "name": "python",
   "nbconvert_exporter": "python",
   "pygments_lexer": "ipython3",
   "version": "3.9.13"
  }
 },
 "nbformat": 4,
 "nbformat_minor": 5
}
