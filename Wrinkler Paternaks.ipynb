{
 "cells": [
  {
   "cell_type": "code",
   "execution_count": 4,
   "id": "3827d574",
   "metadata": {},
   "outputs": [],
   "source": [
    "#https://www.ideastatica.com/support-center/anchor-bolts\n",
    "import math "
   ]
  },
  {
   "cell_type": "markdown",
   "id": "a7f6026b",
   "metadata": {},
   "source": [
    "## Modulus of Elasticity on Concrete\n",
    "\n",
    "$$ E_{c} = 4700 \\times \\sqrt{f_{c}} \\text{ in MPa}$$"
   ]
  },
  {
   "cell_type": "code",
   "execution_count": 18,
   "id": "db76fcb7",
   "metadata": {
    "scrolled": true
   },
   "outputs": [],
   "source": [
    "def modulusElasticyConcrete(fc,units = \"metric\"):\n",
    "    if units == \"metric\" : return 4700*math.sqrt(fc) #in MPa\n",
    "    if units == \"imperial\": return 57000*math.sqrt(fc) #in Psi\n",
    "ec = modulusElasticyConcrete(20.68)"
   ]
  },
  {
   "cell_type": "markdown",
   "id": "1fd304c1",
   "metadata": {},
   "source": [
    "## Winkler Subsoil Model \n",
    "\n",
    "$$ k = \\frac{E_{c}}{ \\left( \\alpha_{1} + \\nu \\right) \\sqrt{\\frac{A_{eff}}{A_{ref}}} \\left( \\frac{1}{ \\frac{h}{\\alpha_{2} \\times d} + \\alpha_{3} } + \\alpha_{4} \\right)  }$$"
   ]
  },
  {
   "cell_type": "code",
   "execution_count": 19,
   "id": "30ed2225",
   "metadata": {},
   "outputs": [
    {
     "data": {
      "text/plain": [
       "146620103878.6827"
      ]
     },
     "execution_count": 19,
     "metadata": {},
     "output_type": "execute_result"
    }
   ],
   "source": [
    "def stiffnessCompress(ec,v,b,d,h,aeff):\n",
    "    eff_d = min(b,d)\n",
    "    aref = 10 #sq.m \n",
    "    #constant parameters\n",
    "    ALPHA1 = 1.65\n",
    "    ALPHA2 = 0.5\n",
    "    ALPHA3 = 0.3 \n",
    "    ALPHA4 = 1.0 \n",
    "    \n",
    "    ka_lower = ((ALPHA1 + v)*math.sqrt(aeff/aref))\n",
    "    \n",
    "    ka = ec/ka_lower\n",
    "    kb = (1/((h/(ALPHA2*eff_d))+ALPHA3)) + ALPHA4\n",
    "    k = ka*kb\n",
    "    return k \n",
    "\n",
    "ec_input = ec*1000000 ##converted in Pa \n",
    "b = 0.350\n",
    "d = 0.350\n",
    "aeff = b*d #meters\n",
    "h = .380 #meters\n",
    "stiffnessCompress(ec_input,0.20,b,d,h,aeff) ##Pa"
   ]
  },
  {
   "cell_type": "code",
   "execution_count": null,
   "id": "164c4de0",
   "metadata": {},
   "outputs": [],
   "source": []
  }
 ],
 "metadata": {
  "kernelspec": {
   "display_name": "Python 3 (ipykernel)",
   "language": "python",
   "name": "python3"
  },
  "language_info": {
   "codemirror_mode": {
    "name": "ipython",
    "version": 3
   },
   "file_extension": ".py",
   "mimetype": "text/x-python",
   "name": "python",
   "nbconvert_exporter": "python",
   "pygments_lexer": "ipython3",
   "version": "3.9.13"
  }
 },
 "nbformat": 4,
 "nbformat_minor": 5
}
