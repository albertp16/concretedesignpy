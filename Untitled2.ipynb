{
 "cells": [
  {
   "cell_type": "code",
   "execution_count": 1,
   "id": "efa779ec",
   "metadata": {},
   "outputs": [],
   "source": [
    "import math"
   ]
  },
  {
   "cell_type": "code",
   "execution_count": 2,
   "id": "334d23bd",
   "metadata": {},
   "outputs": [
    {
     "name": "stdout",
     "output_type": "stream",
     "text": [
      "stress = 868.0555555555555 MPa\n"
     ]
    }
   ],
   "source": [
    "P = 125*1000 #N\n",
    "area = 12*12\n",
    "stress = P/area\n",
    "print('stress = ' + str(stress) + ' MPa')"
   ]
  },
  {
   "cell_type": "code",
   "execution_count": 3,
   "id": "b240ce78",
   "metadata": {},
   "outputs": [
    {
     "name": "stdout",
     "output_type": "stream",
     "text": [
      "Specific Length for steel is 11272.2044391925 m\n",
      "Specific Length for rebar is 11272.2044391925 m\n",
      "Specific Length for concrete is 36826.99752687986 m\n",
      "Specific Length for cold formed is 11272.2044391925 m\n",
      "Specific Length for masonry is 40989.834324336356 m\n"
     ]
    }
   ],
   "source": [
    "mat = [\"steel\",\"rebar\",\"concrete\",\"cold formed\",\"masonry\"]\n",
    "density = [7850,7850,2402.77,7850,2158.75]\n",
    "\n",
    "length = len(mat)\n",
    "i = 0\n",
    "while i < length:\n",
    "    Ls = (stress*1e6)/(density[i]*9.81)\n",
    "    print('Specific Length for ' + str(mat[i]) + ' is ' + str(Ls) + ' m')\n",
    "    i = i + 1\n"
   ]
  },
  {
   "cell_type": "code",
   "execution_count": 10,
   "id": "680bc14e",
   "metadata": {},
   "outputs": [
    {
     "name": "stdout",
     "output_type": "stream",
     "text": [
      "Allowable Stress steel is 342260000.0 Pa\n",
      "Allowable Stress rebar is 342260000.0 Pa\n",
      "Allowable Stress concrete is 104760772.0 Pa\n",
      "Allowable Stress cold formed is 342260000.0 Pa\n",
      "Allowable Stress masonry is 94121500.00000001 Pa\n"
     ]
    }
   ],
   "source": [
    "mat = [\"steel\",\"rebar\",\"concrete\",\"cold formed\",\"masonry\"]\n",
    "density = [7850,7850,2402.77,7850,2158.75]\n",
    "\n",
    "length = len(mat)\n",
    "i = 0\n",
    "while i < length:\n",
    "    stress = (density[i]*9.81)/((15/1000)*(15/1000))\n",
    "    print('Allowable Stress ' + str(mat[i]) + ' is ' + str(stress) + ' Pa')\n",
    "    i = i + 1\n"
   ]
  },
  {
   "cell_type": "code",
   "execution_count": 13,
   "id": "c8746112",
   "metadata": {},
   "outputs": [
    {
     "name": "stdout",
     "output_type": "stream",
     "text": [
      "Displacement using steel is 5.0 mm\n",
      "Displacement using rebar is 5.0 mm\n",
      "Displacement using concrete(6000psi) is 49.18355301987015 mm\n",
      "Displacement using cold formed is 4.916533485968754 mm\n",
      "Displacement using masonry(4000psi) is 40.28825440259972 mm\n"
     ]
    }
   ],
   "source": [
    "def displacement(P,L,A,E):\n",
    "    #Axial Displacement\n",
    "    output = (P*L)/(A*E)\n",
    "    return output\n",
    "\n",
    "mat = [\"steel\",\"rebar\",\"concrete(6000psi)\",\"cold formed\",\"masonry(4000psi)\"]\n",
    "elascity = [200000,200000,20332,203395.34,24821.13]\n",
    "force = 150*1000\n",
    "area = 15*15\n",
    "Lbar = 1500\n",
    "\n",
    "length = len(mat)\n",
    "i = 0\n",
    "while i < length:\n",
    "    value = displacement(force,Lbar,area,elascity[i])\n",
    "    print('Displacement using ' + str(mat[i]) + ' is ' + str(value) + ' mm')\n",
    "    i = i + 1"
   ]
  },
  {
   "cell_type": "code",
   "execution_count": null,
   "id": "ea62da18",
   "metadata": {},
   "outputs": [],
   "source": []
  }
 ],
 "metadata": {
  "kernelspec": {
   "display_name": "Python 3 (ipykernel)",
   "language": "python",
   "name": "python3"
  },
  "language_info": {
   "codemirror_mode": {
    "name": "ipython",
    "version": 3
   },
   "file_extension": ".py",
   "mimetype": "text/x-python",
   "name": "python",
   "nbconvert_exporter": "python",
   "pygments_lexer": "ipython3",
   "version": "3.9.13"
  }
 },
 "nbformat": 4,
 "nbformat_minor": 5
}
