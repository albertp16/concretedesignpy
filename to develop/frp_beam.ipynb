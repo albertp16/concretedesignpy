{
 "cells": [
  {
   "cell_type": "code",
   "execution_count": 1,
   "id": "0c8e3dd5",
   "metadata": {},
   "outputs": [],
   "source": [
    "import math\n",
    "import pandas as pd"
   ]
  },
  {
   "cell_type": "markdown",
   "id": "af7c9952",
   "metadata": {},
   "source": [
    "# Reference \n",
    "\n",
    "1. Association of Structural Engineers of the Philippines 2015 Edition, National Structural Code of the Philippines Volume 1, Quezon City, Philippines.\n",
    "2. American Concrete Institute, ACI-440R-17"
   ]
  },
  {
   "cell_type": "code",
   "execution_count": 2,
   "id": "164d4d25",
   "metadata": {},
   "outputs": [],
   "source": [
    "input = {\n",
    "    \"project_name\" : \"Makati Life Nurture Medical Center <i>Formerly Ospital ng Makati District 1</i>\",\n",
    "    \"project_location\" : \"Malugay Street, Barangay Bel Air, Makati City \",\n",
    "    \"designer\" : \"Engr. Albert Pamonag, M.Eng\",\n",
    "    \"l\" : 7.32, # m\n",
    "    \"w\" : 305, # mm\n",
    "    \"d\" : 546, # mm\n",
    "    \"h\" : 609.6, # mm\n",
    "    \"fc\" : 34.5, # N/mm2\n",
    "    \"fy\" : 414, # N/mm2\n",
    "    \"Ms\" : 214, # Service Load Moment in kN-m\n",
    "    \"Mn\" : 361, # phiMn without FRP in kN-m\n",
    "    \"Mu\" : 399, # factored moment based on loading in kN-m\n",
    "    \"db\" : 28.6, # mm\n",
    "    \"Es\" : 200, # GPa\n",
    "    \"exposure\" : {\n",
    "        \"condition\" : \"interior\",\n",
    "        \"fiber\" : \"carbon\"\n",
    "    },\n",
    "    \"frp\" : {\n",
    "        \"tf\" : 1.02, # thickness per ply in mm\n",
    "        \"ffu\" : 621, # ultimate tensile strength in N/mm2\n",
    "        \"efu\" : 0.015, # rupture strain in mm/mm\n",
    "        \"Ef\" : 37000, # modulus of elasticity of FRP laminates in N/mm2\n",
    "        \"psi_f\" : 0.85\n",
    "    }\n",
    "}"
   ]
  },
  {
   "cell_type": "code",
   "execution_count": 3,
   "id": "21db459a",
   "metadata": {},
   "outputs": [],
   "source": [
    "def eRF(exposure,type):\n",
    "    data = {\n",
    "        \"interior\" : {\n",
    "            \"carbon\" : 0.95,\n",
    "            \"glass\" : 0.75,\n",
    "            \"aramid\" : 0.85\n",
    "        },\n",
    "        \"exterior\" : {\n",
    "            \"carbon\" : 0.85,\n",
    "            \"glass\" : 0.65,\n",
    "            \"aramid\" : 0.75\n",
    "        },\n",
    "        \"aggressive\" : {\n",
    "            \"carbon\" : 0.85,\n",
    "            \"glass\" : 0.50,\n",
    "            \"aramid\" : 0.70\n",
    "            },\n",
    "    }\n",
    "    results = data[exposure][type]\n",
    "    return results"
   ]
  },
  {
   "cell_type": "markdown",
   "id": "3ed38488",
   "metadata": {},
   "source": [
    "# Flexural Strengthening"
   ]
  },
  {
   "cell_type": "markdown",
   "id": "70da9665",
   "metadata": {},
   "source": [
    "## Design material properties :\n",
    "Reference Two - Section 9.4"
   ]
  },
  {
   "cell_type": "markdown",
   "id": "fe40f026",
   "metadata": {},
   "source": [
    "### Design Ultimate Tensile Strength of FRP:\n",
    "<center>$ f_{fu} = C_{E} f^{*}_{fu} $</center>"
   ]
  },
  {
   "cell_type": "code",
   "execution_count": 4,
   "id": "cd3c7ed3",
   "metadata": {},
   "outputs": [
    {
     "name": "stdout",
     "output_type": "stream",
     "text": [
      "Value : 589.95 N/mm^2\n"
     ]
    }
   ],
   "source": [
    "ffu = eRF(input['exposure']['condition'],input['exposure']['fiber'])*input['frp']['ffu']\n",
    "print('Value : ' + str(round(ffu,3)) + \" N/mm^2\")"
   ]
  },
  {
   "cell_type": "markdown",
   "id": "50e97720",
   "metadata": {},
   "source": [
    "### Design Rupture Strain of FRP reinforcement attained at failure:\n",
    "<center>$ \\varepsilon_{fu} = C_{E} f^{*}_{fu} $</center>"
   ]
  },
  {
   "cell_type": "code",
   "execution_count": 5,
   "id": "4b1a2207",
   "metadata": {},
   "outputs": [
    {
     "name": "stdout",
     "output_type": "stream",
     "text": [
      "Value : 0.014 N/mm^2\n"
     ]
    }
   ],
   "source": [
    "efu = eRF(input['exposure']['condition'],input['exposure']['fiber'])*input['frp']['efu']\n",
    "print('Value : ' + str(round(efu,3)) + \" N/mm^2\")"
   ]
  },
  {
   "cell_type": "markdown",
   "id": "56a4f453",
   "metadata": {},
   "source": [
    "### Properties of the existing reinforcing steel and Properties of the externally bonded FRP reinforcement:"
   ]
  },
  {
   "cell_type": "code",
   "execution_count": 6,
   "id": "1fbd8112",
   "metadata": {},
   "outputs": [
    {
     "name": "stdout",
     "output_type": "stream",
     "text": [
      "1927.2728451977305\n",
      "622.2\n"
     ]
    }
   ],
   "source": [
    "def beta_1(fc): \n",
    "    ##NSCP 2015 422.2.2.4.3\n",
    "    value = 1.05 - 0.05*(fc/1000)\n",
    "    if(17 <= fc and fc <= 28):\n",
    "        value = 0.85\n",
    "    elif (28 <= fc and fc < 55):\n",
    "        value = 0.85 - ((0.05*(fc-28))/7)\n",
    "    else:\n",
    "        value = 0.65\n",
    "    return value\n",
    "    \n",
    "def areaCircle(db):\n",
    "    pi = math.pi\n",
    "    value = (pi/4)*(math.pow(db,2))\n",
    "    return value\n",
    "    \n",
    "beta1 = beta_1(input['fc'])\n",
    "ec = 4700*math.sqrt(input['fc'])\n",
    "n_bot = 3\n",
    "n_frp = 2\n",
    "area_steel = n_bot*areaCircle(input['db'])\n",
    "af = n_frp*input[\"frp\"]['tf']*input['w']\n",
    "\n",
    "print(area_steel)\n",
    "print(af)"
   ]
  },
  {
   "cell_type": "markdown",
   "id": "45d96ca9",
   "metadata": {},
   "source": [
    "$ \\beta _{1} $"
   ]
  },
  {
   "cell_type": "code",
   "execution_count": 7,
   "id": "3ada3776",
   "metadata": {},
   "outputs": [
    {
     "name": "stdout",
     "output_type": "stream",
     "text": [
      "0.8035714285714286\n"
     ]
    }
   ],
   "source": [
    "print(beta1)"
   ]
  },
  {
   "cell_type": "markdown",
   "id": "54240cb4",
   "metadata": {},
   "source": [
    "### Modulus of Elasticity of Concrete\n",
    "<center> $ E_{c} = 4700 \\sqrt{ f_{c} } $ </center>"
   ]
  },
  {
   "cell_type": "code",
   "execution_count": 8,
   "id": "ab5bb47c",
   "metadata": {},
   "outputs": [
    {
     "name": "stdout",
     "output_type": "stream",
     "text": [
      "27606.249292506214\n"
     ]
    }
   ],
   "source": [
    "print(ec)"
   ]
  },
  {
   "cell_type": "markdown",
   "id": "019744d1",
   "metadata": {},
   "source": [
    "## Properties of the concrete:"
   ]
  },
  {
   "cell_type": "markdown",
   "id": "9912c810",
   "metadata": {},
   "source": [
    "### Determine the existing state of strain on the soffit\n",
    "<center>$ \\epsilon_{bi} = \\frac{ M _{DL} \\times \\left( d_{f} - kd \\right) }{ I_{cr} \\times E_{c} } $</center>"
   ]
  },
  {
   "cell_type": "code",
   "execution_count": 48,
   "id": "496f1cb3",
   "metadata": {},
   "outputs": [
    {
     "name": "stdout",
     "output_type": "stream",
     "text": [
      "8 2323.617586200962\n"
     ]
    }
   ],
   "source": [
    "import math\n",
    "n_value = input[\"Es\"]*1000 / (4700*math.sqrt(input[\"fc\"]))\n",
    "n = max(6, math.ceil(n_value))\n",
    "check_Icr = input[\"w\"] * math.pow(input[\"d\"]-input[\"h\"]/2,3)/3 + n * area_steel * math.pow((input[\"d\"] - input[\"h\"]/2),2)\n",
    "print (n, check_Icr/1e6)"
   ]
  },
  {
   "cell_type": "code",
   "execution_count": 9,
   "id": "c8c42ecd",
   "metadata": {},
   "outputs": [
    {
     "name": "stdout",
     "output_type": "stream",
     "text": [
      "0.0006114641207566778\n"
     ]
    }
   ],
   "source": [
    "MDL = 97.63 # kN-mm\n",
    "df = input['h']\n",
    "k = 0.334\n",
    "d = input['d']\n",
    "Icr = 2.471e6 ##mm4 TODO double check this one\n",
    "ec_convert = ec/1000 # kN / mm2\n",
    "\n",
    "ebi = ( MDL * (df - (k*d)) )  / ( Icr * ec_convert ) \n",
    "print(ebi)"
   ]
  },
  {
   "cell_type": "markdown",
   "id": "78803ce1",
   "metadata": {},
   "source": [
    "## Determine the design strain of the FRP system\n",
    "<center> $ \\epsilon _{fd} = 0.41 \\times \\sqrt{ \\frac{ f_{c}^{'} }{ 2 \\times E_{f} \\times t_{f} } } $ </center>"
   ]
  },
  {
   "cell_type": "code",
   "execution_count": 10,
   "id": "da651588",
   "metadata": {},
   "outputs": [
    {
     "name": "stdout",
     "output_type": "stream",
     "text": [
      "0.008765515428730905\n"
     ]
    }
   ],
   "source": [
    "efd_init = input['fc']/(2*input[\"frp\"]['tf']*input[\"frp\"]['Ef'])\n",
    "efd = 0.41*math.sqrt(efd_init)\n",
    "print(efd)"
   ]
  },
  {
   "cell_type": "markdown",
   "id": "59b0aa29",
   "metadata": {},
   "source": [
    "## Compare Design Strain (efd) to Rupture Strain (efu)"
   ]
  },
  {
   "cell_type": "code",
   "execution_count": 12,
   "id": "54862081",
   "metadata": {},
   "outputs": [
    {
     "name": "stdout",
     "output_type": "stream",
     "text": [
      "Debonding controls the design of the FRP system\n"
     ]
    }
   ],
   "source": [
    "multiplier = 0.9 #TODO verify multiplier\n",
    "limit = multiplier * efu\n",
    "if efd <= limit:\n",
    "    result = \"Debonding controls the design of the FRP system\"\n",
    "else:\n",
    "    result = \"FRP rupture becomes the governing failure mode\"\n",
    "\n",
    "print(result)"
   ]
  },
  {
   "cell_type": "markdown",
   "id": "734a0565",
   "metadata": {},
   "source": [
    "## Computation of the compression block"
   ]
  },
  {
   "cell_type": "code",
   "execution_count": 13,
   "id": "fc515ae5",
   "metadata": {},
   "outputs": [
    {
     "data": {
      "text/html": [
       "<div>\n",
       "<style scoped>\n",
       "    .dataframe tbody tr th:only-of-type {\n",
       "        vertical-align: middle;\n",
       "    }\n",
       "\n",
       "    .dataframe tbody tr th {\n",
       "        vertical-align: top;\n",
       "    }\n",
       "\n",
       "    .dataframe thead th {\n",
       "        text-align: right;\n",
       "    }\n",
       "</style>\n",
       "<table border=\"1\" class=\"dataframe\">\n",
       "  <thead>\n",
       "    <tr style=\"text-align: right;\">\n",
       "      <th></th>\n",
       "      <th>c (mm)</th>\n",
       "      <th>ε_fe</th>\n",
       "      <th>ε_c</th>\n",
       "      <th>ε_s</th>\n",
       "      <th>ε_c'</th>\n",
       "      <th>β1</th>\n",
       "      <th>α</th>\n",
       "    </tr>\n",
       "  </thead>\n",
       "  <tbody>\n",
       "    <tr>\n",
       "      <th>0</th>\n",
       "      <td>144.206181</td>\n",
       "      <td>0.013136</td>\n",
       "      <td>0.002097</td>\n",
       "      <td>0.008390</td>\n",
       "      <td>0.002125</td>\n",
       "      <td>0.748418</td>\n",
       "      <td>0.885024</td>\n",
       "    </tr>\n",
       "    <tr>\n",
       "      <th>1</th>\n",
       "      <td>127.904714</td>\n",
       "      <td>0.009070</td>\n",
       "      <td>0.002978</td>\n",
       "      <td>0.008298</td>\n",
       "      <td>0.002125</td>\n",
       "      <td>0.812856</td>\n",
       "      <td>0.918720</td>\n",
       "    </tr>\n",
       "    <tr>\n",
       "      <th>2</th>\n",
       "      <td>132.616347</td>\n",
       "      <td>0.010687</td>\n",
       "      <td>0.002552</td>\n",
       "      <td>0.008342</td>\n",
       "      <td>0.002125</td>\n",
       "      <td>0.777975</td>\n",
       "      <td>0.925807</td>\n",
       "    </tr>\n",
       "    <tr>\n",
       "      <th>3</th>\n",
       "      <td>130.765101</td>\n",
       "      <td>0.010179</td>\n",
       "      <td>0.002672</td>\n",
       "      <td>0.008330</td>\n",
       "      <td>0.002125</td>\n",
       "      <td>0.786999</td>\n",
       "      <td>0.928148</td>\n",
       "    </tr>\n",
       "    <tr>\n",
       "      <th>4</th>\n",
       "      <td>131.444495</td>\n",
       "      <td>0.010374</td>\n",
       "      <td>0.002625</td>\n",
       "      <td>0.008335</td>\n",
       "      <td>0.002125</td>\n",
       "      <td>0.783363</td>\n",
       "      <td>0.927637</td>\n",
       "    </tr>\n",
       "    <tr>\n",
       "      <th>5</th>\n",
       "      <td>131.187991</td>\n",
       "      <td>0.010302</td>\n",
       "      <td>0.002642</td>\n",
       "      <td>0.008333</td>\n",
       "      <td>0.002125</td>\n",
       "      <td>0.784683</td>\n",
       "      <td>0.927886</td>\n",
       "    </tr>\n",
       "    <tr>\n",
       "      <th>6</th>\n",
       "      <td>131.283854</td>\n",
       "      <td>0.010329</td>\n",
       "      <td>0.002636</td>\n",
       "      <td>0.008334</td>\n",
       "      <td>0.002125</td>\n",
       "      <td>0.784183</td>\n",
       "      <td>0.927801</td>\n",
       "    </tr>\n",
       "    <tr>\n",
       "      <th>7</th>\n",
       "      <td>131.247888</td>\n",
       "      <td>0.010319</td>\n",
       "      <td>0.002638</td>\n",
       "      <td>0.008333</td>\n",
       "      <td>0.002125</td>\n",
       "      <td>0.784370</td>\n",
       "      <td>0.927834</td>\n",
       "    </tr>\n",
       "    <tr>\n",
       "      <th>8</th>\n",
       "      <td>131.261362</td>\n",
       "      <td>0.010322</td>\n",
       "      <td>0.002637</td>\n",
       "      <td>0.008334</td>\n",
       "      <td>0.002125</td>\n",
       "      <td>0.784299</td>\n",
       "      <td>0.927821</td>\n",
       "    </tr>\n",
       "    <tr>\n",
       "      <th>9</th>\n",
       "      <td>131.256312</td>\n",
       "      <td>0.010321</td>\n",
       "      <td>0.002637</td>\n",
       "      <td>0.008334</td>\n",
       "      <td>0.002125</td>\n",
       "      <td>0.784326</td>\n",
       "      <td>0.927826</td>\n",
       "    </tr>\n",
       "    <tr>\n",
       "      <th>10</th>\n",
       "      <td>131.258205</td>\n",
       "      <td>0.010322</td>\n",
       "      <td>0.002637</td>\n",
       "      <td>0.008334</td>\n",
       "      <td>0.002125</td>\n",
       "      <td>0.784316</td>\n",
       "      <td>0.927824</td>\n",
       "    </tr>\n",
       "    <tr>\n",
       "      <th>11</th>\n",
       "      <td>131.257495</td>\n",
       "      <td>0.010321</td>\n",
       "      <td>0.002637</td>\n",
       "      <td>0.008334</td>\n",
       "      <td>0.002125</td>\n",
       "      <td>0.784320</td>\n",
       "      <td>0.927825</td>\n",
       "    </tr>\n",
       "    <tr>\n",
       "      <th>12</th>\n",
       "      <td>131.257761</td>\n",
       "      <td>0.010321</td>\n",
       "      <td>0.002637</td>\n",
       "      <td>0.008334</td>\n",
       "      <td>0.002125</td>\n",
       "      <td>0.784318</td>\n",
       "      <td>0.927825</td>\n",
       "    </tr>\n",
       "    <tr>\n",
       "      <th>13</th>\n",
       "      <td>131.257661</td>\n",
       "      <td>0.010321</td>\n",
       "      <td>0.002637</td>\n",
       "      <td>0.008334</td>\n",
       "      <td>0.002125</td>\n",
       "      <td>0.784319</td>\n",
       "      <td>0.927825</td>\n",
       "    </tr>\n",
       "    <tr>\n",
       "      <th>14</th>\n",
       "      <td>131.257699</td>\n",
       "      <td>0.010321</td>\n",
       "      <td>0.002637</td>\n",
       "      <td>0.008334</td>\n",
       "      <td>0.002125</td>\n",
       "      <td>0.784318</td>\n",
       "      <td>0.927825</td>\n",
       "    </tr>\n",
       "    <tr>\n",
       "      <th>15</th>\n",
       "      <td>131.257685</td>\n",
       "      <td>0.010321</td>\n",
       "      <td>0.002637</td>\n",
       "      <td>0.008334</td>\n",
       "      <td>0.002125</td>\n",
       "      <td>0.784319</td>\n",
       "      <td>0.927825</td>\n",
       "    </tr>\n",
       "    <tr>\n",
       "      <th>16</th>\n",
       "      <td>131.257690</td>\n",
       "      <td>0.010321</td>\n",
       "      <td>0.002637</td>\n",
       "      <td>0.008334</td>\n",
       "      <td>0.002125</td>\n",
       "      <td>0.784319</td>\n",
       "      <td>0.927825</td>\n",
       "    </tr>\n",
       "    <tr>\n",
       "      <th>17</th>\n",
       "      <td>131.257688</td>\n",
       "      <td>0.010321</td>\n",
       "      <td>0.002637</td>\n",
       "      <td>0.008334</td>\n",
       "      <td>0.002125</td>\n",
       "      <td>0.784319</td>\n",
       "      <td>0.927825</td>\n",
       "    </tr>\n",
       "    <tr>\n",
       "      <th>18</th>\n",
       "      <td>131.257689</td>\n",
       "      <td>0.010321</td>\n",
       "      <td>0.002637</td>\n",
       "      <td>0.008334</td>\n",
       "      <td>0.002125</td>\n",
       "      <td>0.784319</td>\n",
       "      <td>0.927825</td>\n",
       "    </tr>\n",
       "    <tr>\n",
       "      <th>19</th>\n",
       "      <td>131.257688</td>\n",
       "      <td>0.010321</td>\n",
       "      <td>0.002637</td>\n",
       "      <td>0.008334</td>\n",
       "      <td>0.002125</td>\n",
       "      <td>0.784319</td>\n",
       "      <td>0.927825</td>\n",
       "    </tr>\n",
       "    <tr>\n",
       "      <th>20</th>\n",
       "      <td>131.257689</td>\n",
       "      <td>0.010321</td>\n",
       "      <td>0.002637</td>\n",
       "      <td>0.008334</td>\n",
       "      <td>0.002125</td>\n",
       "      <td>0.784319</td>\n",
       "      <td>0.927825</td>\n",
       "    </tr>\n",
       "  </tbody>\n",
       "</table>\n",
       "</div>"
      ],
      "text/plain": [
       "        c (mm)      ε_fe       ε_c       ε_s      ε_c'        β1         α\n",
       "0   144.206181  0.013136  0.002097  0.008390  0.002125  0.748418  0.885024\n",
       "1   127.904714  0.009070  0.002978  0.008298  0.002125  0.812856  0.918720\n",
       "2   132.616347  0.010687  0.002552  0.008342  0.002125  0.777975  0.925807\n",
       "3   130.765101  0.010179  0.002672  0.008330  0.002125  0.786999  0.928148\n",
       "4   131.444495  0.010374  0.002625  0.008335  0.002125  0.783363  0.927637\n",
       "5   131.187991  0.010302  0.002642  0.008333  0.002125  0.784683  0.927886\n",
       "6   131.283854  0.010329  0.002636  0.008334  0.002125  0.784183  0.927801\n",
       "7   131.247888  0.010319  0.002638  0.008333  0.002125  0.784370  0.927834\n",
       "8   131.261362  0.010322  0.002637  0.008334  0.002125  0.784299  0.927821\n",
       "9   131.256312  0.010321  0.002637  0.008334  0.002125  0.784326  0.927826\n",
       "10  131.258205  0.010322  0.002637  0.008334  0.002125  0.784316  0.927824\n",
       "11  131.257495  0.010321  0.002637  0.008334  0.002125  0.784320  0.927825\n",
       "12  131.257761  0.010321  0.002637  0.008334  0.002125  0.784318  0.927825\n",
       "13  131.257661  0.010321  0.002637  0.008334  0.002125  0.784319  0.927825\n",
       "14  131.257699  0.010321  0.002637  0.008334  0.002125  0.784318  0.927825\n",
       "15  131.257685  0.010321  0.002637  0.008334  0.002125  0.784319  0.927825\n",
       "16  131.257690  0.010321  0.002637  0.008334  0.002125  0.784319  0.927825\n",
       "17  131.257688  0.010321  0.002637  0.008334  0.002125  0.784319  0.927825\n",
       "18  131.257689  0.010321  0.002637  0.008334  0.002125  0.784319  0.927825\n",
       "19  131.257688  0.010321  0.002637  0.008334  0.002125  0.784319  0.927825\n",
       "20  131.257689  0.010321  0.002637  0.008334  0.002125  0.784319  0.927825"
      ]
     },
     "execution_count": 13,
     "metadata": {},
     "output_type": "execute_result"
    }
   ],
   "source": [
    "def cSolver():## //Numerical Solver\n",
    "        \n",
    "    ##--> Data for the tabulations\n",
    "    epsilon_fe_arr = []\n",
    "    espilon_c_arr = []\n",
    "    eespilon_s_arr = []\n",
    "    e_c_prime_arr = []\n",
    "    beta_one_arr = []\n",
    "    alpha_one_arr = []\n",
    "    c_init_arr = []\n",
    "\n",
    "    c_init = 0.20*input['d'] ##initialize depth\n",
    "    i = 0\n",
    "    \n",
    "    while i <= 20:\n",
    "       \n",
    "        epsilon_fe = 0.003*( (input['h'] - c_init) /c_init) - ebi\n",
    "        espilon_c = (0.009 + ebi)*(c_init/(input['h'] - c_init))\n",
    "        espilon_s = (0.009 + ebi)*((input['d'] - c_init)/(input['h'] - c_init))\n",
    "\n",
    "        fs = input['Es']*espilon_s\n",
    "        fs = 414 ##TODO fix on the yields\n",
    "            \n",
    "        f_fe = input['frp']['Ef']*0.009\n",
    "            \n",
    "        e_c_prime = 1.7*input['fc']/ec\n",
    "        beta_one = ((4*e_c_prime )- espilon_c)/((6*e_c_prime)-(2*espilon_c))\n",
    "        alpha_one = ((3*e_c_prime*espilon_c) - math.pow(espilon_c,2))/(3*beta_one*math.pow(e_c_prime,2))    \n",
    "        c_init = (area_steel*fs + af*f_fe)/(alpha_one*input['fc']*beta_one*input['w'])\n",
    "\n",
    "        epsilon_fe_arr.append(epsilon_fe)\n",
    "        espilon_c_arr.append(espilon_c)\n",
    "        eespilon_s_arr.append(espilon_s)\n",
    "        e_c_prime_arr.append(e_c_prime)\n",
    "        beta_one_arr.append(beta_one)\n",
    "        alpha_one_arr.append(alpha_one)\n",
    "        c_init_arr.append(c_init)\n",
    "    \n",
    "        c = c_init\n",
    "        i += 1\n",
    "    results = {\n",
    "        \"value\" : c,\n",
    "        \"epsilon_fe\" : epsilon_fe_arr,\n",
    "        \"espilon_c\" : espilon_c_arr,\n",
    "        \"espilon_s\" : eespilon_s_arr,\n",
    "        \"e_c_prime\" : e_c_prime_arr,\n",
    "        \"beta_one\" : beta_one_arr,\n",
    "        \"alpha_one\" : alpha_one_arr,\n",
    "        \"c_init\" : c_init_arr,\n",
    "    }\n",
    "        \n",
    "    return results\n",
    "\n",
    "c_data = cSolver()\n",
    "df = pd.DataFrame({\n",
    "      'c (mm)': c_data['c_init'],\n",
    "      'ε_fe': c_data['epsilon_fe'],    \n",
    "      'ε_c': c_data['espilon_c'],\n",
    "      'ε_s': c_data['espilon_s'],\n",
    "      'ε_c\\'': c_data['e_c_prime'],\n",
    "      'β1': c_data['beta_one'],\n",
    "      'α': c_data['alpha_one'],\n",
    "      })\n",
    "df"
   ]
  },
  {
   "cell_type": "markdown",
   "id": "08b4d459",
   "metadata": {},
   "source": [
    "### Computation of Flexural Strength"
   ]
  },
  {
   "cell_type": "markdown",
   "id": "df80deaf",
   "metadata": {},
   "source": [
    "#### Steel Contribution to Bending\n",
    "<center> $ M_{ns} = A_{s} f_{s} \\left( d - \\frac{ \\beta_{1} c }{2} \\right) $ </center>"
   ]
  },
  {
   "cell_type": "code",
   "execution_count": 14,
   "id": "25a6d84f",
   "metadata": {},
   "outputs": [
    {
     "name": "stdout",
     "output_type": "stream",
     "text": [
      "394.5778889129859\n"
     ]
    }
   ],
   "source": [
    "## Computation of Flexural Strength\n",
    "beta_one_final = c_data[\"beta_one\"][-1]\n",
    "c_final = c_data[\"value\"]\n",
    "\n",
    "## Computation of Steel Contribution to Bending\n",
    "fs = 414  # Assumed yield stress for steel, to be reviewed\n",
    "As = area_steel\n",
    "Af = af\n",
    "\n",
    "# Compute nominal moment strength (Mns)\n",
    "Mns = As * fs * (input['d'] - ((beta_one_final * c_final) / 2))\n",
    "\n",
    "# Compute FRP contribution\n",
    "f_fe = input['frp']['Ef'] * 0.009\n",
    "\n",
    "print (Mns/1e6)"
   ]
  },
  {
   "cell_type": "markdown",
   "id": "3a608d28",
   "metadata": {},
   "source": [
    "#### FRP Contribution to Bending\n",
    "<center> $ M_{nf} = A_{s} f_{fe} \\left( d - \\frac{ \\beta_{1} c }{2} \\right) $ </center>"
   ]
  },
  {
   "cell_type": "code",
   "execution_count": 15,
   "id": "47ece631",
   "metadata": {},
   "outputs": [
    {
     "name": "stdout",
     "output_type": "stream",
     "text": [
      "115.63959396224989\n"
     ]
    }
   ],
   "source": [
    "## Computation of Steel Contribution to Bending\n",
    "fs = 414  # Assumed yield stress for steel, to be reviewed\n",
    "As = area_steel\n",
    "Af = af\n",
    "\n",
    "# Compute nominal moment strength (Mns)\n",
    "Mnf = Af * f_fe * (input[\"h\"] - ((beta_one_final * c_final) / 2))\n",
    "\n",
    "# Compute FRP contribution\n",
    "f_fe = input['frp']['Ef'] * 0.009\n",
    "\n",
    "print (Mnf/1e6)"
   ]
  },
  {
   "cell_type": "markdown",
   "id": "3aa105f2",
   "metadata": {},
   "source": [
    "### Computation Design Flexural Strength of the Section\n",
    "<center>$ \\phi M_{n} = \\phi \\left[ M_{ns} + \\psi_{f} M_{nf} \\right] $</center>"
   ]
  },
  {
   "cell_type": "code",
   "execution_count": 16,
   "id": "6f1bf7f0",
   "metadata": {},
   "outputs": [
    {
     "name": "stdout",
     "output_type": "stream",
     "text": [
      "443.5843894028084\n"
     ]
    }
   ],
   "source": [
    "# Strength reduction factors\n",
    "psif = 0.85  # For FRP contribution (verify with design codes)\n",
    "phib = 0.90  # For flexural strength reduction\n",
    "\n",
    "# Compute factored moment capacity\n",
    "phiMn = phib * (Mns + (psif * Mnf))\n",
    "\n",
    "# Convert to MN·m\n",
    "phiMn_MNm = phiMn / 1e6\n",
    "\n",
    "print(phiMn_MNm)"
   ]
  },
  {
   "cell_type": "code",
   "execution_count": 17,
   "id": "5ed5b90f",
   "metadata": {},
   "outputs": [
    {
     "name": "stdout",
     "output_type": "stream",
     "text": [
      "pass\n"
     ]
    }
   ],
   "source": [
    "if phiMn_MNm >= input[\"Mu\"]:\n",
    "    result = \"pass\"\n",
    "else:\n",
    "    result = \"fail\"\n",
    "\n",
    "print (result)"
   ]
  },
  {
   "cell_type": "markdown",
   "id": "4689e349",
   "metadata": {},
   "source": [
    "### Calculate service stresses in reinforcing steel and the FRP\n",
    "\n",
    "<center> $ k = \\sqrt{ \\left( \\rho_{s} \\frac{E_{s}}{E_{c}} + \\rho_{f} \\frac{E_{f}}{E_{c}} \\right)^{2} + 2.0 \\times \\left[ \\rho_{s} \\frac{E_{s}}{E_{c}} + \\rho_{f} \\frac{E_{f}}{E_{c}} \\times \\left( \\frac{d_{f}}{d} \\right) \\right] } - \\left( \\rho_{s} \\frac{E_{s}}{E_{c}} + \\rho_{f} \\frac{E_{f}}{E_{c}} \\right) $ </center>"
   ]
  },
  {
   "cell_type": "code",
   "execution_count": null,
   "id": "d521c547",
   "metadata": {},
   "outputs": [
    {
     "name": "stdout",
     "output_type": "stream",
     "text": [
      "0.3433113171777111 187.44797917903026\n"
     ]
    }
   ],
   "source": [
    "def rho(As,b,d):\n",
    "    value = As/(b*d)\n",
    "    return value\n",
    "\n",
    "rho_s = rho(area_steel,input[\"d\"],input[\"w\"])\n",
    "rho_f = rho(af,input[\"d\"],input[\"w\"])\n",
    "\n",
    "Es = 200 # GPa\n",
    "Ec = ec/1000 # Mpa -> KPa ??????\n",
    "Ef = input['frp']['Ef']/1000\n",
    "\n",
    "k1 = math.pow(rho_s*(Es/Ec) + rho_f*(Ef/Ec),2)\n",
    "k2 = 2*(rho_s*(Es/Ec) + rho_f*(Ef/Ec)*(input['h']/input['d']))\n",
    "k3 = rho_s*(Es/Ec) + rho_f*(Ef/Ec)\n",
    "\n",
    "k = math.sqrt(k1 + k2) - k3\n",
    "kd = k*input[\"d\"]\n",
    "print(k, kd)"
   ]
  },
  {
   "cell_type": "markdown",
   "id": "f1dbc267",
   "metadata": {},
   "source": []
  },
  {
   "cell_type": "markdown",
   "id": "5f485aef",
   "metadata": {},
   "source": [
    "### Serviceability Check \n",
    "Reference Two : Section 10.2.8\n",
    "\n",
    "\n",
    "\n",
    "<center> $ f_{s,s} = \\frac{ \\left[ M_{s} + \\varepsilon_{bi} A_{f} E_{f} \\left( d_{f} - \\frac{kd}{3} \\right) \\right] \\left( d_{f} - \\frac{kd}{3} \\right) E_{s} }{ A_{s} E_{s} \\left( d_{f} - \\frac{kd}{3} \\right) \\left( d_{f} - \\frac{kd}{3} \\right) + A_{f} E_{f} \\left( d_{f} - \\frac{kd}{3} \\right) \\left( d_{f} - \\frac{kd}{3} \\right) } $ </center><br>\n",
    "\n",
    "The Stress in the steel reinforcement under service load should be limited to 80 percent of the yield strength. <br> \n",
    "\n",
    "<center> $ f_{s,s} \\leq 0.80 f_{y} $ </center>\n"
   ]
  },
  {
   "cell_type": "markdown",
   "id": "aaabdf1a",
   "metadata": {},
   "source": []
  },
  {
   "cell_type": "code",
   "execution_count": 34,
   "id": "3dfd504e",
   "metadata": {},
   "outputs": [
    {
     "name": "stdout",
     "output_type": "stream",
     "text": [
      "331.20000000000005\n",
      "220.37547507060782\n"
     ]
    }
   ],
   "source": [
    "nume = (input[\"Ms\"]*1000 + (ebi * Af * Ef) * (input[\"h\"] - ((k*d) / 3))) * (d - ((k*d))) * Es\n",
    "deno = As * Es * (d - ((k*d)/ 3)) * (d - ((k*d))) + Af * Ef * (input[\"h\"] - ((k*d) / 3)) * (input[\"h\"] - ((k*d)))\n",
    "fss1 = (nume / deno) * 1000\n",
    "\n",
    "limit = 0.8 * input[\"fy\"]\n",
    "\n",
    "if fss1 > limit:\n",
    "    fss = limit\n",
    "else:\n",
    "    fss = fss1\n",
    "\n",
    "print(limit)\n",
    "print(fss)"
   ]
  },
  {
   "cell_type": "markdown",
   "id": "c1068707",
   "metadata": {},
   "source": [
    "### Check creep rupture limit at service of the FRP\n",
    "<center> $ f_{f,s} = f_{s,s} \\left( \\frac{E_{f}}{E_{s}} \\right) \\left( \\frac{ d_{f} - kd }{ d - kd } \\right)  - \\varepsilon_{bi} E_{f} $ </center>"
   ]
  },
  {
   "cell_type": "code",
   "execution_count": null,
   "id": "a57e1f51",
   "metadata": {},
   "outputs": [
    {
     "name": "stdout",
     "output_type": "stream",
     "text": [
      "324.47249999999997\n",
      "37.928487034829246\n",
      "The stress level in the FRP is within the recommended sustained plus cyclic stress limit.\n"
     ]
    }
   ],
   "source": [
    "# fss = 278\n",
    "df = input[\"h\"]\n",
    "kn_to_n = 1000 \n",
    "kn_to_m = 1/1000\n",
    "depth_ratio = (df - kd) / (d - kd)\n",
    "part1 = fss/1000 * (Ef / Es) * depth_ratio\n",
    "eps_term = ebi * Ef\n",
    "\n",
    "ffs = (part1 - eps_term)*kn_to_n \n",
    "limit = 0.55 * ffu\n",
    "\n",
    "if ffs <= limit:\n",
    "    result = \"The stress level in the FRP is within the recommended sustained plus cyclic stress limit.\"\n",
    "else:\n",
    "    result = \"The stress level in the FRP is NOT within the recommended sustained plus cyclic stress limit.\"\n",
    "\n",
    "print (limit)\n",
    "print (ffs)\n",
    "print (result)"
   ]
  }
 ],
 "metadata": {
  "kernelspec": {
   "display_name": "base",
   "language": "python",
   "name": "python3"
  },
  "language_info": {
   "codemirror_mode": {
    "name": "ipython",
    "version": 3
   },
   "file_extension": ".py",
   "mimetype": "text/x-python",
   "name": "python",
   "nbconvert_exporter": "python",
   "pygments_lexer": "ipython3",
   "version": "3.12.3"
  }
 },
 "nbformat": 4,
 "nbformat_minor": 5
}
