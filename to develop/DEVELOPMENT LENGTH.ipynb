{
 "cells": [
  {
   "cell_type": "code",
   "execution_count": 7,
   "metadata": {},
   "outputs": [
    {
     "name": "stdout",
     "output_type": "stream",
     "text": [
      "{'bend': 150, 'lext': 100}\n"
     ]
    }
   ],
   "source": [
    "def bendandhook_deformedbars(barsize, angle):\n",
    "    \"\"\"\n",
    "    NSCP 2015 SECTION 425 REINFORCEMENT DETAILS\n",
    "    Table 425.3.1 Standard Hook Geometry for Development of Deformed Bars in Tension\n",
    "\n",
    "    Parameters:\n",
    "    barsize: The diameter of the reinforcing bar (10-25, 28-36, 40-50).\n",
    "    angle: The hook angle in degrees (90 or 180).\n",
    "\n",
    "    Returns:\n",
    "    dict: A dictionary containing:\n",
    "        - 'bend': Minimum inside bend diameter.\n",
    "        - 'lext': Straight extension length.\n",
    "    \n",
    "    Raises:\n",
    "    ValueError: If the bar size or hook angle is invalid.\n",
    "    \"\"\"\n",
    "    \n",
    "    if 10 <= barsize <= 25:\n",
    "        bend = 6 * barsize\n",
    "    elif 28 <= barsize <= 36:\n",
    "        bend = 8 * barsize\n",
    "    elif 40 <= barsize <= 50:\n",
    "        bend = 10 * barsize\n",
    "    else:\n",
    "        return f\"Invalid bar size for {angle}-degree hook.\"\n",
    "\n",
    "    if angle == 90:\n",
    "        lext = 12 * barsize\n",
    "    elif angle == 180:\n",
    "        lext = max(4 * barsize, 65)\n",
    "    else:\n",
    "        return \"Invalid hook angle provided.\"\n",
    "\n",
    "    result = {\n",
    "        \"bend\": bend,\n",
    "        \"lext\": lext,\n",
    "    }\n",
    "    \n",
    "    return result\n",
    "\n",
    "##################\n",
    "# MAIN EXECUTION\n",
    "##################\n",
    "\n",
    "if __name__ == \"__main__\":\n",
    "    barsize =  25 # 10-25, 28-36, 40-50\n",
    "    angle = 180   # 90 or 180\n",
    "    print(bendandhook_deformedbars(barsize, angle))"
   ]
  },
  {
   "cell_type": "code",
   "execution_count": 8,
   "metadata": {},
   "outputs": [
    {
     "name": "stdout",
     "output_type": "stream",
     "text": [
      "{'bend': 150, 'lext': 100}\n"
     ]
    }
   ],
   "source": [
    "def bendandhook_stirrupstieshoops(barsize, angle):\n",
    "    \"\"\"\n",
    "    NSCP 2015 SECTION 425 REINFORCEMENT DETAILS\n",
    "    Table 425.3.2 Minimum Inside Bend Diameters and Standard Hook Geometry for Stirrups, Ties, and Hoops\n",
    "\n",
    "    Parameters:\n",
    "    barsize: The diameter of the reinforcing bar (10 through 25).\n",
    "    angle: The hook angle in degrees (90, 135, or 180).\n",
    "\n",
    "    Returns:\n",
    "    dict: A dictionary containing:\n",
    "        - 'bend': Minimum inside bend diameter.\n",
    "        - 'lext': Straight extension length.\n",
    "    \n",
    "    Raises:\n",
    "    ValueError: If the bar size or hook angle is invalid.\n",
    "    \"\"\"\n",
    "    \n",
    "    if 10 <= barsize <= 16:\n",
    "        bend = 4 * barsize\n",
    "    elif 20 <= barsize <= 25:\n",
    "        bend = 6 * barsize\n",
    "    else:\n",
    "        return f\"Invalid bar size for {angle}-degree hook.\"\n",
    "\n",
    "    if angle == 90:\n",
    "        lext = max(6 * barsize, 75) if barsize <= 16 else 12 * barsize\n",
    "    elif angle == 135:\n",
    "        lext = max(6 * barsize, 75)\n",
    "    elif angle == 180:\n",
    "        lext = max(4 * barsize, 65)\n",
    "    else:\n",
    "        return \"Invalid hook angle provided.\"\n",
    "\n",
    "    result = {\n",
    "        \"bend\": bend,\n",
    "        \"lext\": lext,\n",
    "    }\n",
    "    \n",
    "    return result\n",
    "\n",
    "##################\n",
    "# MAIN EXECUTION\n",
    "##################\n",
    "\n",
    "if __name__ == \"__main__\":\n",
    "    barsize =  25 # 10-16, 20-25\n",
    "    angle = 180   # 90, 135, or 180\n",
    "    print(bendandhook_stirrupstieshoops(barsize, angle))"
   ]
  }
 ],
 "metadata": {
  "kernelspec": {
   "display_name": "base",
   "language": "python",
   "name": "python3"
  },
  "language_info": {
   "codemirror_mode": {
    "name": "ipython",
    "version": 3
   },
   "file_extension": ".py",
   "mimetype": "text/x-python",
   "name": "python",
   "nbconvert_exporter": "python",
   "pygments_lexer": "ipython3",
   "version": "3.12.3"
  }
 },
 "nbformat": 4,
 "nbformat_minor": 2
}
