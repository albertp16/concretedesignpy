{
 "cells": [
  {
   "cell_type": "code",
   "execution_count": 1,
   "id": "805c28b9",
   "metadata": {},
   "outputs": [],
   "source": [
    "import math\n",
    "import numpy as np \n",
    "import pandas as pd\n",
    "import matplotlib.pyplot as plt\n",
    "import seaborn as sns"
   ]
  },
  {
   "cell_type": "markdown",
   "id": "015b366c",
   "metadata": {},
   "source": [
    "# INPUTS"
   ]
  },
  {
   "cell_type": "code",
   "execution_count": 2,
   "id": "8cf58eee",
   "metadata": {},
   "outputs": [],
   "source": [
    "fc = 30    # concrete compre, MPa\n",
    "fy = 415   # steel yeild strength, MPa\n",
    "b = 450 #column dimension, mm  \n",
    "h = 450 #column dimension, mm  \n",
    "dbar = 25 #diameter of main reinforcebar, mm\n",
    "nbar = 12 #number of main reinfrorcement bars\n",
    "nbar_side = 2 #number of rebars at each side\n",
    "cc = 45 #concrete cover, mm "
   ]
  },
  {
   "cell_type": "code",
   "execution_count": 3,
   "id": "3cc1738d",
   "metadata": {},
   "outputs": [
    {
     "data": {
      "text/plain": [
       "10"
      ]
     },
     "execution_count": 3,
     "metadata": {},
     "output_type": "execute_result"
    }
   ],
   "source": [
    "# Tie diameter\n",
    "if dbar <= 32:\n",
    "    tie = 10\n",
    "else:\n",
    "    tie = 12\n",
    "tie"
   ]
  },
  {
   "cell_type": "code",
   "execution_count": 4,
   "id": "77dc3382",
   "metadata": {},
   "outputs": [
    {
     "data": {
      "text/plain": [
       "(382.5, 67.5)"
      ]
     },
     "execution_count": 4,
     "metadata": {},
     "output_type": "execute_result"
    }
   ],
   "source": [
    "#Effective Depth\n",
    "deff = h - cc - tie - dbar/2\n",
    "\n",
    "#Bar depth(d')\n",
    "dprime = cc + tie + dbar/2\n",
    "\n",
    "deff,dprime"
   ]
  },
  {
   "cell_type": "code",
   "execution_count": 5,
   "id": "8a45e9fd",
   "metadata": {},
   "outputs": [
    {
     "data": {
      "text/plain": [
       "0.8357142857142857"
      ]
     },
     "execution_count": 5,
     "metadata": {},
     "output_type": "execute_result"
    }
   ],
   "source": [
    "if fc <= 28:\n",
    "    beta1 = 0.85\n",
    "else:\n",
    "    beta1 = max(0.85 - 0.05*(fc - 28)/7,0.65)\n",
    "beta1"
   ]
  },
  {
   "cell_type": "code",
   "execution_count": 6,
   "id": "b712bdd2",
   "metadata": {},
   "outputs": [
    {
     "data": {
      "text/plain": [
       "(981.7477042468104, 981.7477042468104)"
      ]
     },
     "execution_count": 6,
     "metadata": {},
     "output_type": "execute_result"
    }
   ],
   "source": [
    "#Steel Areas\n",
    "Ast = (math.pi*dbar**2/4)*nbar_side #Steel area at tension side\n",
    "Asc = Ast #Steel area at compression side\n",
    "\n",
    "Ast, Asc"
   ]
  },
  {
   "cell_type": "code",
   "execution_count": 7,
   "id": "f5f7c5ad",
   "metadata": {},
   "outputs": [],
   "source": [
    "#STresses an d Strains\n",
    "Es = 200000 #Steel Modulus\n",
    "ec = 0.003 #concrete maximum strain\n",
    "ey = fy / Es \n",
    "\n",
    "def stress_strain(c):\n",
    "    es = ec*(deff -c)/c #steel strain at tension side \n",
    "    fs = es * Es #tensile stress at tension side\n",
    "    esprime = ec * (c - dprime) /c #steel strain at compression side\n",
    "    fsprime = esprime * Es #tensile stress at compression side\n",
    "    a = beta1 * c #compressive stresss block depth \n",
    "    return a, es, fs, esprime, fsprime "
   ]
  },
  {
   "cell_type": "code",
   "execution_count": 8,
   "id": "e8019f5a",
   "metadata": {},
   "outputs": [],
   "source": [
    "def strength_factor():\n",
    "    phi_factor = 0.64 + 0.25*(es - ey) / (0.005 - ey)\n",
    "    if phi_factor >= 0.90:\n",
    "        phi, classify = 0.90, 'Tension-controlled'\n",
    "    elif phi_factor <= 0.65:\n",
    "        phi, classify = 0.90, 'Compression-controlled'\n",
    "    else:\n",
    "        phi, classify = phi_factor, 'Transition' \n",
    "    return phi, classify"
   ]
  },
  {
   "cell_type": "code",
   "execution_count": 9,
   "id": "12e0ec98",
   "metadata": {},
   "outputs": [],
   "source": [
    "def force_moments():\n",
    "    T = Ast * min(fy,fs) /1000 #Tension force by steel and tension side\n",
    "    Cc = 0.85*fc*a*b /1000 #compression force by concrete\n",
    "    Cs = Asc * (min(fy,fsprime) - (0.85*fc)) /1000 # tension force by at compresion side \n",
    "    \n",
    "    Pn = Cc + Cs - T #Nominal axial load capacity \n",
    "    Pu = phi * Pn # Ultimate axial load capacity\n",
    "    \n",
    "    #Solve for eccentricity by takinmg moment about T: \n",
    "    #Sum of Moment at T: Pn(ecc + h/2 - dprime) - CC(deff - a/2) - Cs(deff - dprime) = 0\n",
    "    ecc = (Cc*(deff - a/2) + Cs*(deff - dprime)) / Pn - (h/2 - dprime)\n",
    "    Mn = Pn *ecc /1000 #Nominal moment Capacitty\n",
    "    Mu = phi * Mn #Ultimate moment capacity\n",
    "    \n",
    "    return ecc, Pn, Pu, Mn, Mu "
   ]
  },
  {
   "cell_type": "code",
   "execution_count": 10,
   "id": "3ff171a0",
   "metadata": {},
   "outputs": [
    {
     "data": {
      "text/html": [
       "<div>\n",
       "<style scoped>\n",
       "    .dataframe tbody tr th:only-of-type {\n",
       "        vertical-align: middle;\n",
       "    }\n",
       "\n",
       "    .dataframe tbody tr th {\n",
       "        vertical-align: top;\n",
       "    }\n",
       "\n",
       "    .dataframe thead th {\n",
       "        text-align: right;\n",
       "    }\n",
       "</style>\n",
       "<table border=\"1\" class=\"dataframe\">\n",
       "  <thead>\n",
       "    <tr style=\"text-align: right;\">\n",
       "      <th></th>\n",
       "      <th>ecc(mm)</th>\n",
       "      <th>Pn(KN)</th>\n",
       "      <th>Pu(kN)</th>\n",
       "      <th>Mn(kN-m)</th>\n",
       "      <th>Mu(kN-m)</th>\n",
       "      <th>phi</th>\n",
       "    </tr>\n",
       "  </thead>\n",
       "  <tbody>\n",
       "    <tr>\n",
       "      <th>94</th>\n",
       "      <td>289</td>\n",
       "      <td>1097</td>\n",
       "      <td>988</td>\n",
       "      <td>318</td>\n",
       "      <td>286</td>\n",
       "      <td>0.9</td>\n",
       "    </tr>\n",
       "    <tr>\n",
       "      <th>95</th>\n",
       "      <td>299</td>\n",
       "      <td>1037</td>\n",
       "      <td>934</td>\n",
       "      <td>310</td>\n",
       "      <td>279</td>\n",
       "      <td>0.9</td>\n",
       "    </tr>\n",
       "    <tr>\n",
       "      <th>96</th>\n",
       "      <td>309</td>\n",
       "      <td>976</td>\n",
       "      <td>878</td>\n",
       "      <td>302</td>\n",
       "      <td>272</td>\n",
       "      <td>0.9</td>\n",
       "    </tr>\n",
       "    <tr>\n",
       "      <th>97</th>\n",
       "      <td>321</td>\n",
       "      <td>914</td>\n",
       "      <td>822</td>\n",
       "      <td>294</td>\n",
       "      <td>264</td>\n",
       "      <td>0.9</td>\n",
       "    </tr>\n",
       "    <tr>\n",
       "      <th>98</th>\n",
       "      <td>335</td>\n",
       "      <td>850</td>\n",
       "      <td>765</td>\n",
       "      <td>285</td>\n",
       "      <td>256</td>\n",
       "      <td>0.9</td>\n",
       "    </tr>\n",
       "    <tr>\n",
       "      <th>99</th>\n",
       "      <td>351</td>\n",
       "      <td>785</td>\n",
       "      <td>706</td>\n",
       "      <td>276</td>\n",
       "      <td>248</td>\n",
       "      <td>0.9</td>\n",
       "    </tr>\n",
       "    <tr>\n",
       "      <th>100</th>\n",
       "      <td>371</td>\n",
       "      <td>718</td>\n",
       "      <td>646</td>\n",
       "      <td>266</td>\n",
       "      <td>239</td>\n",
       "      <td>0.9</td>\n",
       "    </tr>\n",
       "    <tr>\n",
       "      <th>101</th>\n",
       "      <td>394</td>\n",
       "      <td>649</td>\n",
       "      <td>584</td>\n",
       "      <td>256</td>\n",
       "      <td>230</td>\n",
       "      <td>0.9</td>\n",
       "    </tr>\n",
       "    <tr>\n",
       "      <th>102</th>\n",
       "      <td>424</td>\n",
       "      <td>578</td>\n",
       "      <td>520</td>\n",
       "      <td>245</td>\n",
       "      <td>221</td>\n",
       "      <td>0.9</td>\n",
       "    </tr>\n",
       "    <tr>\n",
       "      <th>103</th>\n",
       "      <td>464</td>\n",
       "      <td>504</td>\n",
       "      <td>454</td>\n",
       "      <td>234</td>\n",
       "      <td>210</td>\n",
       "      <td>0.9</td>\n",
       "    </tr>\n",
       "  </tbody>\n",
       "</table>\n",
       "</div>"
      ],
      "text/plain": [
       "     ecc(mm)  Pn(KN)  Pu(kN)  Mn(kN-m)  Mu(kN-m)  phi\n",
       "94       289    1097     988       318       286  0.9\n",
       "95       299    1037     934       310       279  0.9\n",
       "96       309     976     878       302       272  0.9\n",
       "97       321     914     822       294       264  0.9\n",
       "98       335     850     765       285       256  0.9\n",
       "99       351     785     706       276       248  0.9\n",
       "100      371     718     646       266       239  0.9\n",
       "101      394     649     584       256       230  0.9\n",
       "102      424     578     520       245       221  0.9\n",
       "103      464     504     454       234       210  0.9"
      ]
     },
     "execution_count": 10,
     "metadata": {},
     "output_type": "execute_result"
    }
   ],
   "source": [
    "#Solve axial load and moment at varying 'c' values \n",
    "\n",
    "nom_load = []\n",
    "ult_load = []\n",
    "nom_moment = []\n",
    "ult_moment = []\n",
    "eccentricity = []\n",
    "phi_factor = []\n",
    "\n",
    "c_values = np.arange(600,80,-5)\n",
    "for c in c_values:\n",
    "    a, es, fs, esprime, fsprime = stress_strain(c)\n",
    "    phi, classify = strength_factor()\n",
    "    ecc, Pn, Pu, Mn, Mu = force_moments()\n",
    "    if ecc<= 1.5*h:\n",
    "        nom_load.append(round(Pn))\n",
    "        ult_load.append(round(Pu))\n",
    "        nom_moment.append(round(Mn))\n",
    "        ult_moment.append(round(Mu))\n",
    "        eccentricity.append(round(ecc))\n",
    "        phi_factor.append(round(phi,2))\n",
    "        \n",
    "#Save the above calcualted data in a dataframe \n",
    "dict = {'ecc(mm)': eccentricity, 'Pn(KN)' : nom_load, 'Pu(kN)' : ult_load, 'Mn(kN-m)' : nom_moment, \\\n",
    "        'Mu(kN-m)' : ult_moment, 'phi': phi_factor}\n",
    "df = pd.DataFrame(dict)\n",
    "\n",
    "#Print the last 10 rows of the datafframe to verify\n",
    "df.tail(10)\n",
    "# df"
   ]
  },
  {
   "cell_type": "code",
   "execution_count": 11,
   "id": "8587abf8",
   "metadata": {},
   "outputs": [
    {
     "data": {
      "image/png": "[encoded data removed]",
      "text/plain": [
       "<Figure size 1300x700 with 1 Axes>"
      ]
     },
     "metadata": {},
     "output_type": "display_data"
    }
   ],
   "source": [
    "# Plotting the P-M Interaction Diagram\n",
    "\n",
    "sns.set_style('darkgrid')\n",
    "fig, ax = plt.subplots(figsize = (13,7))\n",
    "plt.rc('axes', labelweight='bold', labelsize='large', titleweight ='bold',titlesize=15)\n",
    "ax = sns.scatterplot(x='Mn(kN-m)',y=\"Pn(KN)\",data=df,color='g')\n",
    "ax.set_xlabel('Moment (M, kN-m)')\n",
    "ax.set_ylabel('Axial Load (P, kN)')\n",
    "plt.title('P-M Interaction Diagram')\n",
    "plt.show()"
   ]
  },
  {
   "cell_type": "code",
   "execution_count": null,
   "id": "f071b34c",
   "metadata": {},
   "outputs": [],
   "source": []
  },
  {
   "cell_type": "code",
   "execution_count": null,
   "id": "78b3a0e1",
   "metadata": {},
   "outputs": [],
   "source": []
  }
 ],
 "metadata": {
  "kernelspec": {
   "display_name": "Python 3 (ipykernel)",
   "language": "python",
   "name": "python3"
  },
  "language_info": {
   "codemirror_mode": {
    "name": "ipython",
    "version": 3
   },
   "file_extension": ".py",
   "mimetype": "text/x-python",
   "name": "python",
   "nbconvert_exporter": "python",
   "pygments_lexer": "ipython3",
   "version": "3.9.13"
  }
 },
 "nbformat": 4,
 "nbformat_minor": 5
}
