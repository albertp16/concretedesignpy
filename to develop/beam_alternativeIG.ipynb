{
 "cells": [
  {
   "cell_type": "code",
   "execution_count": null,
   "metadata": {},
   "outputs": [
    {
     "name": "stdout",
     "output_type": "stream",
     "text": [
      "Alternative Moment of Inertia: 27162.01171875\n"
     ]
    }
   ],
   "source": [
    "def alternativemomentofinertia_column_wall(ig, ast, ag, mu, pu, height, po):\n",
    "    imin = 0.35 * ig\n",
    "    ireq = (0.80 + 25.0 * (ast / ag)) * (1 - (mu / (pu * height)) - (0.5 * pu / po)) * ig\n",
    "    imax = 0.875 * ig\n",
    "\n",
    "    if ireq < imin:\n",
    "        ialt = imin\n",
    "    elif ireq > imax:\n",
    "        ialt = imax\n",
    "    else:\n",
    "        ialt = ireq\n",
    "\n",
    "    return ialt\n",
    "\n",
    "if __name__ == \"__main__\":\n",
    "    # Input values\n",
    "    ig = 50000.0        # Gross moment of inertia\n",
    "    ast = 50.0          # Area of steel\n",
    "    width = 200.0       # Width (now defined before ag)\n",
    "    height = 400.0      # Height\n",
    "    ag = width * height # Gross area (fixed placement)\n",
    "    mu = 500.0          # Factored moment\n",
    "    pu = 2000.0         # Factored axial load\n",
    "    po = 3000.0         # Axial load capacity\n",
    "\n",
    "    ialt = alternativemomentofinertia_column_wall(ig, ast, ag, mu, pu, height, po)\n",
    "    print(\"Alternative Moment of Inertia:\", ialt)"
   ]
  },
  {
   "cell_type": "code",
   "execution_count": 2,
   "metadata": {},
   "outputs": [
    {
     "name": "stdout",
     "output_type": "stream",
     "text": [
      "Alternative Moment of Inertia: 20000.0\n"
     ]
    }
   ],
   "source": [
    "def alternativemomentofinertia_beams_flatplates_flatslabs (ig, rho, width, depth):\n",
    "\n",
    "    imin = 0.25 * ig\n",
    "    ireq = (0.10 + 25.0 * rho) * (1.2 - 0.2 * (width / depth)) * ig\n",
    "    imax = 0.5 * ig\n",
    "\n",
    "    if ireq < imin:\n",
    "        ialt = imin\n",
    "    elif ireq > imax:\n",
    "        ialt = imax\n",
    "    else:\n",
    "        ialt = ireq\n",
    "\n",
    "    return ialt\n",
    "\n",
    "if __name__ == \"__main__\":\n",
    "    # Input values\n",
    "    ig = 40000.0    # Gross moment of inertia\n",
    "    rho = 0.02      # Reinforcement ratio\n",
    "    width = 300.0   # Effective width\n",
    "    depth = 500.0   # Effective depth\n",
    "\n",
    "    ialt = alternativemomentofinertia_beams_flatplates_flatslabs(ig, rho, width, depth)\n",
    "    print(\"Alternative Moment of Inertia:\", ialt)"
   ]
  }
 ],
 "metadata": {
  "kernelspec": {
   "display_name": "base",
   "language": "python",
   "name": "python3"
  },
  "language_info": {
   "codemirror_mode": {
    "name": "ipython",
    "version": 3
   },
   "file_extension": ".py",
   "mimetype": "text/x-python",
   "name": "python",
   "nbconvert_exporter": "python",
   "pygments_lexer": "ipython3",
   "version": "3.12.3"
  }
 },
 "nbformat": 4,
 "nbformat_minor": 2
}
