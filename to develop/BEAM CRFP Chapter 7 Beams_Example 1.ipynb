{
 "cells": [
  {
   "cell_type": "code",
   "execution_count": 1,
   "metadata": {},
   "outputs": [],
   "source": [
    "## Chapter 7 -Beams: Example 1"
   ]
  },
  {
   "cell_type": "code",
   "execution_count": 3,
   "metadata": {},
   "outputs": [
    {
     "name": "stdout",
     "output_type": "stream",
     "text": [
      "Nominal Moment Strength (Mn) = 37492.88 kip-in\n",
      "Concrete Shear Strength (Vc) = 3991.58 kip\n",
      "Shear reinforcement is adequate\n",
      "Inflection Point Distance: 4.41 ft\n",
      "Development Length (ld): 47.43 inches\n",
      "Nominal Moment Strength (φMn): 0.26 kip-ft\n"
     ]
    }
   ],
   "source": [
    "import math\n",
    "\n",
    "def compute_flexural_strength(betaone, cvalue, asteel, depth, fs):\n",
    "    \"\"\"\n",
    "    Compute the nominal moment strength (Mn) of a reinforced concrete beam.\n",
    "    \"\"\"\n",
    "    betaonefinal = betaone[-1]  # Use the last beta_one value\n",
    "    Mn = asteel * fs * (depth - (betaonefinal * cvalue / 2))\n",
    "    return Mn\n",
    "\n",
    "def compute_shear_strength(Vu, phi, fc, width, depth):\n",
    "    \"\"\"\n",
    "    Compute shear strength of the beam using ACI provisions.\n",
    "    \"\"\"\n",
    "    Vc = 0.17 * phi * math.sqrt(fc) * width * depth\n",
    "    return Vc\n",
    "\n",
    "def check_shear_reinforcement(Vu, Vc):\n",
    "    \"\"\"\n",
    "    Determine if shear reinforcement is required.\n",
    "    \"\"\"\n",
    "    return \"Shear reinforcement required\" if Vu > Vc else \"Shear reinforcement is adequate\"\n",
    "\n",
    "def calculate_inflection_point(Mmax, w, length):\n",
    "    \"\"\"Calculate inflection points using equilibrium equations.\"\"\"\n",
    "    x = math.sqrt((Mmax * 8) / (w * length))\n",
    "    return x\n",
    "\n",
    "def development_length(fy, fc, bardia):\n",
    "    \"\"\"Calculate development length (ld) based on ACI formula.\"\"\"\n",
    "    ld = (fy * bardia) / (20 * math.sqrt(fc))\n",
    "    return ld\n",
    "\n",
    "def phiMn(phi_b, Mns, psi_f, Mnf):\n",
    "    \"\"\"Calculate the nominal moment strength.\"\"\"\n",
    "    return phi_b * (Mns + (psi_f * Mnf))\n",
    "\n",
    "# Example Inputs\n",
    "betaonevalues = [0.85, 0.75, 0.65]  # Example values\n",
    "cvalue = 5.0  # Assumed neutral axis depth\n",
    "asteel = 3.5  # Area of steel (in^2)\n",
    "depth = 27.5  # Effective depth (in)\n",
    "fs = 414  # Steel stress (MPa)\n",
    "fc = 5000  # Concrete compressive strength (psi)\n",
    "width = 18  # Beam width (in)\n",
    "phi = 0.75  # Strength reduction factor\n",
    "Vu = 72  # Factored shear force (kip)\n",
    "Mmax = 306  # kip-ft\n",
    "w = 3.7  # kip/ft\n",
    "length = 34  # ft\n",
    "fy = 60000  # psi (steel yield strength)\n",
    "fc = 4000  # psi (concrete compressive strength)\n",
    "bardia = 1.0  # inch\n",
    "\n",
    "# Compute Flexural Strength\n",
    "Mn = compute_flexural_strength(betaonevalues, cvalue, asteel, depth, fs)\n",
    "print(f\"Nominal Moment Strength (Mn) = {Mn:.2f} kip-in\")\n",
    "\n",
    "# Compute Shear Strength\n",
    "Vc = compute_shear_strength(Vu, phi, fc, width, depth)\n",
    "print(f\"Concrete Shear Strength (Vc) = {Vc:.2f} kip\")\n",
    "\n",
    "# Check Shear Reinforcement\n",
    "shear_check = check_shear_reinforcement(Vu, Vc)\n",
    "print(shear_check)\n",
    "\n",
    "# Calculate Inflection Point\n",
    "inflection_x = calculate_inflection_point(Mmax, w, length)\n",
    "print(f\"Inflection Point Distance: {inflection_x:.2f} ft\")\n",
    "\n",
    "# Calculate Development Length\n",
    "ld = development_length(fy, fc, bardia)\n",
    "print(f\"Development Length (ld): {ld:.2f} inches\")\n",
    "\n",
    "# Moment Strength Calculation\n",
    "psi_f = 0.85  # factor\n",
    "phi_b = 0.90  # strength reduction factor\n",
    "Mns = 200  # Example moment component in kip-ft\n",
    "Mnf = 100  # Example moment component in kip-ft\n",
    "\n",
    "phiMn_value = phiMn(phi_b, Mns, psi_f, Mnf)\n",
    "print(f\"Nominal Moment Strength (φMn): {phiMn_value / 1e3:.2f} kip-ft\")\n"
   ]
  }
 ],
 "metadata": {
  "kernelspec": {
   "display_name": "base",
   "language": "python",
   "name": "python3"
  },
  "language_info": {
   "codemirror_mode": {
    "name": "ipython",
    "version": 3
   },
   "file_extension": ".py",
   "mimetype": "text/x-python",
   "name": "python",
   "nbconvert_exporter": "python",
   "pygments_lexer": "ipython3",
   "version": "3.12.7"
  }
 },
 "nbformat": 4,
 "nbformat_minor": 2
}
