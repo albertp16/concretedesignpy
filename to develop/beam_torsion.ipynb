{
 "cells": [
  {
   "cell_type": "code",
   "execution_count": null,
   "metadata": {},
   "outputs": [],
   "source": [
    "def torsiondesign ():\n",
    "   \n",
    "    x1 = width - 2 * (cover +db / 2)  # mm \n",
    "    y1 = height - 2 * (cover +db / 2) # mm\n",
    "    aoh = x1 * y1 # mm2\n",
    "    ph = 2 * (x1 + y1) # mm\n",
    "    acp = width * (height - tf) + beff * tf # mm2\n",
    "    pcp = 2 * (beff + height) # mm\n",
    "\n",
    "    def torsionalthreshold ():\n",
    "        phitth = phi_torsion * 0.083 * math.sqrt (fcprime) / 10 * math.pow (acp,2)/pcp / 100 # kN-m\n",
    "        return phitth\n",
    "    \n",
    "    def crackingtorsionalmoment ():\n",
    "        phitcr = 4 * phitth # kN-m\n",
    "        min_atransverse_per_s = max (0.031 * math.sqrt (fcprime), 0.175) * width / fy # mm2/mm\n",
    "        return phitcr, min_atransverse_per_s\n",
    "    \n",
    "    def torsionaleffect ():\n",
    "        # TODO max positive tu calculation in kN-m\n",
    "        if tu > phitth:\n",
    "            note:  'Torsional effects must be considered' # Calculation Continues\n",
    "        else:\n",
    "            raise ValueError ('Torsional effects must be considered')\n",
    "\n",
    "    def crushinglimit_combinedstress ():\n",
    "        crushinglimit = phi_torsion * (vc / (width * depth) * 10 + 0.66 * math.sqrt (fcprime)) # MPa\n",
    "        combinedstress = math.sqrt (math.pow(vc/(width * depth) * 10,2)+(tu*100*ph/math.pow(1.7*math.pow(aoh,2)*10,2)) # MPa\n",
    "        if combinedstress < crushinglimit:\n",
    "            note: 'Okay'\n",
    "        else:\n",
    "            raise ValueError ('Torsional effects must be considered')\n",
    "\n",
    "    def transversereinforcement ():\n",
    "        at_per_s = tu * 100 / (2 * phi_torsion * 0.85 * aoh * fy / 10) # mm2/mm\n",
    "        totaltransverse = av/s /2 + at/s # mm2/mm\n",
    "        if totaltransverse < min_atransverse_per_s:\n",
    "            raise ValueError ('Total transverse is less than minimum')\n",
    "        else:\n",
    "            note: 'Okay'"
   ]
  }
 ],
 "metadata": {
  "language_info": {
   "name": "python"
  }
 },
 "nbformat": 4,
 "nbformat_minor": 2
}
