{
 "cells": [
  {
   "cell_type": "code",
   "execution_count": 1,
   "metadata": {},
   "outputs": [
    {
     "name": "stdout",
     "output_type": "stream",
     "text": [
      "----- VALUES -----\n",
      "Mn,col = 1122.44 kN-m\n",
      "Mn,beam = 1395.46 kN-m\n",
      "\n",
      "----- RESULTS -----\n",
      "Minimum flexural strength of column = 0.80 kN-m\n",
      "\n",
      "0.80 kN-m < 1.20 kN-m\n",
      "The minimum flexural strength of column is NONCOMPLIANT in accordance with Section 418.7.3.\n",
      "Increase column reinforcements, or reduce beam reinforcements, where possible, or do both.\n"
     ]
    }
   ],
   "source": [
    "\"\"\"Column Flexural Strength\"\"\"\n",
    "\n",
    "import math \n",
    "\n",
    "def calculate_min_flexural_strength(mncol_top, mncol_bot, mnbeam):\n",
    "    '''\n",
    "    Minimum flexural strength of column in accordance with Section 418.7.3.\n",
    "    mncol_top = Flexural capacities of top column \n",
    "    mncol_bot = Flexural capacities of bottom column \n",
    "    mnbeam = Total flexural capacities of beams \n",
    "    '''\n",
    "    flex_cap = (mncol_top + mncol_bot) / (mnbeam)\n",
    "    return flex_cap \n",
    "\n",
    "# Given values\n",
    "mncol_top = 509.00 #kN-m\n",
    "mncol_bot = 613.44 #kN-m\n",
    "mncol = mncol_top + mncol_bot\n",
    "mnbeam = 901.72 + 493.74 #kN-m (For 8-𝜙25 bars & 4-𝜙25 bars)\n",
    "limit = 1.2\n",
    "\n",
    "# Print values \n",
    "print(\"----- VALUES -----\")\n",
    "print(f\"Mn,col = {mncol:.2f} kN-m\")\n",
    "print(f\"Mn,beam = {mnbeam:.2f} kN-m\")\n",
    "\n",
    "# Calculate Vc\n",
    "flexstrength = calculate_min_flexural_strength(mncol_top, mncol_bot, mnbeam)\n",
    "print(\"\")\n",
    "print(\"----- RESULTS -----\")\n",
    "print(f\"Minimum flexural strength of column = {flexstrength:.2f} kN-m\")\n",
    "\n",
    "# Check if column is compliant based on Section 418.7.3\n",
    "if flexstrength > limit:\n",
    "    print(\"\")\n",
    "    print(f\"{flexstrength:.2f} kN-m > {limit:.2f} kN-m\")\n",
    "    print(\"The minimum flexural strength of column is COMPLIANT in accordance with Section 418.7.3.\")\n",
    "else:\n",
    "    print(\"\")\n",
    "    print(f\"{flexstrength:.2f} kN-m < {limit:.2f} kN-m\")\n",
    "    print(\"The minimum flexural strength of column is NONCOMPLIANT in accordance with Section 418.7.3.\")\n",
    "    print(\"Increase column reinforcements, or reduce beam reinforcements, where possible, or do both.\")"
   ]
  }
 ],
 "metadata": {
  "kernelspec": {
   "display_name": "base",
   "language": "python",
   "name": "python3"
  },
  "language_info": {
   "codemirror_mode": {
    "name": "ipython",
    "version": 3
   },
   "file_extension": ".py",
   "mimetype": "text/x-python",
   "name": "python",
   "nbconvert_exporter": "python",
   "pygments_lexer": "ipython3",
   "version": "3.12.7"
  }
 },
 "nbformat": 4,
 "nbformat_minor": 2
}
