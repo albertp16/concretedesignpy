{
 "cells": [
  {
   "cell_type": "markdown",
   "metadata": {},
   "source": [
    "## NSCP Section 407 One Way Slabs"
   ]
  },
  {
   "cell_type": "code",
   "execution_count": 3,
   "metadata": {},
   "outputs": [],
   "source": [
    "import math"
   ]
  },
  {
   "cell_type": "code",
   "execution_count": null,
   "metadata": {},
   "outputs": [],
   "source": [
    "def minthickness(clearspan, support, fy, wc):\n",
    "    \"\"\"\n",
    "    Table 407.3.1.1 minimum thickness of one-way slabs\n",
    "\n",
    "    clearspan: clear span length (mm)\n",
    "    support: simply, one-end, both-end, or cantilever\n",
    "    fy: yield strength (mpa)\n",
    "    wc: unit weight of concrete (kg/m3)\n",
    "\n",
    "    returns: minimum slab thickness (mm)\n",
    "    \"\"\"\n",
    "    if support == 'simply':\n",
    "        minthk = clearspan / 20\n",
    "    elif support == 'one-end':\n",
    "        minthk = clearspan / 24\n",
    "    elif support == 'both-end':\n",
    "        minthk = clearspan / 28\n",
    "    elif support == 'cantilever':\n",
    "        minthk = clearspan / 10\n",
    "    else:\n",
    "        raise ValueError(\"invalid support type; choose simply, one-end, both-end, or cantilever\")\n",
    "\n",
    "    # if fy equals 420 and wc is greater than 1840 then no adjustment\n",
    "    if fy == 420 and wc > 1840:\n",
    "        result = minthk\n",
    "    # if fy is not 420 then adjust thickness\n",
    "    elif fy != 420:\n",
    "        result = minthk * (0.4 + fy / 700)\n",
    "    # if using lightweight concrete (wc between 1440 and 1840) then apply multiplier\n",
    "    elif 1440 <= wc <= 1840:\n",
    "        multiplier = max(1.65 - 0.0003 * wc, 1.09)\n",
    "        result = minthk * multiplier\n",
    "    else:\n",
    "        raise ValueError(\"invalid data; check fy and wc\")\n",
    "\n",
    "    return result"
   ]
  },
  {
   "cell_type": "code",
   "execution_count": 24,
   "metadata": {},
   "outputs": [],
   "source": [
    "def minreinforcementarea(width, thickness):\n",
    "    \"\"\"\n",
    "    Table 407.6.1.1 As,min for Non-Prestressed One-Way Slabs\n",
    "    \n",
    "    sectionwidth: width of the slab section (mm): typically 1000 for one-way design\n",
    "    thickness: slab thickness (mm)\"\n",
    "    \"\"\"\n",
    "    areagross = width * thickness\n",
    "\n",
    "    if fy < 420:\n",
    "        asmin = 0.0020 * areagross\n",
    "    else:\n",
    "        asmin = max(0.0018 * 420 * areagross / fy, 0.0014 * areagross)\n",
    "\n",
    "    result = asmin\n",
    "        \n",
    "    return result"
   ]
  },
  {
   "cell_type": "code",
   "execution_count": null,
   "metadata": {},
   "outputs": [],
   "source": [
    "def minshearreinforcement(fc, width, fyt, vu, phi, vc):\n",
    "    \"\"\"\n",
    "    NSCP 2015 407.6.3\n",
    "    Minimum shear Reinforcement\n",
    "    \"\"\"\n",
    "\n",
    "    phivc = phi * vc\n",
    "    \n",
    "    if vu > phivc:\n",
    "        avmin = max (0.062 * math.sqrt (fc) * width / fyt, 0.35 * width / fyt)\n",
    "        result = avmin\n",
    "    else: \n",
    "        result = ValueError(\"Avmin is not required\")\n",
    "\n",
    "    return result"
   ]
  },
  {
   "cell_type": "markdown",
   "metadata": {},
   "source": [
    "## To be continued..."
   ]
  },
  {
   "cell_type": "code",
   "execution_count": null,
   "metadata": {},
   "outputs": [],
   "source": [
    "def minimumspacing (barsize, dagg):\n",
    "    \"\"\"425.2.1 For parallel non-prestressed reinforcement in a horizontal layer\"\"\"\n",
    "    result = max (25, barsize, 4/3 * dagg) # clear spacing\n",
    "    return result\n",
    "\n",
    "    \"\"\"425.2.2 For parallel non-prestressed reinforcement placed in two or more horizontal layers,\n",
    "    reinforcement in the upper layers shall be placed directly above the reinforcement in the bottom layer\n",
    "    with a clear spacing between layers of at least 25mm\"\"\""
   ]
  },
  {
   "cell_type": "code",
   "execution_count": null,
   "metadata": {},
   "outputs": [],
   "source": [
    "def maximumspacing ():"
   ]
  },
  {
   "cell_type": "code",
   "execution_count": null,
   "metadata": {},
   "outputs": [
    {
     "name": "stdout",
     "output_type": "stream",
     "text": [
      "minimum slab thickness: 300.00\n",
      "minimum reinforcement area: 600.00\n",
      "gross moment of inertia: 2250000000.00\n",
      "effective depth: 252.00\n",
      "design moment capacity: 55.81\n",
      "short-term slab deflection: 0.32\n"
     ]
    }
   ],
   "source": [
    "def grossmomentofinertia(sectionwidth, thickness):\n",
    "    \"\"\"\n",
    "    calculate gross moment of inertia for a rectangular section\n",
    "    formula: inertia = (sectionwidth * thickness^3) / 12  # comment: thickness cubed times sectionwidth divided by 12\n",
    "    sectionwidth: width of the section (mm)\n",
    "    thickness: slab thickness (mm)\n",
    "    returns: gross moment of inertia (mm4)  # comment: in mm4\n",
    "    \"\"\"\n",
    "    return sectionwidth * math.pow(thickness, 3) / 12\n",
    "\n",
    "def effectivedepth(thickness, cover, bardiameter):\n",
    "    \"\"\"\n",
    "    calculate effective depth of the slab\n",
    "    formula: effective depth = thickness - cover - (bardiameter / 2)  # comment: in mm\n",
    "    thickness: slab thickness (mm)\n",
    "    cover: concrete cover (mm)\n",
    "    bardiameter: diameter of reinforcement bars (mm)\n",
    "    returns: effective depth (mm)\n",
    "    \"\"\"\n",
    "    return thickness - cover - (bardiameter / 2)\n",
    "\n",
    "def nominalmomentcapacity(reinforcementarea, yieldstrength, effectivedepthvalue, concretecompressivestrength, sectionwidth):\n",
    "    \"\"\"\n",
    "    calculate nominal moment capacity using rectangular stress block method\n",
    "    compute a = (reinforcementarea * yieldstrength) / (0.85 * concretecompressivestrength * sectionwidth)\n",
    "    then moment capacity = reinforcementarea * yieldstrength * (effectivedepthvalue - a / 2)\n",
    "    reinforcementarea: tensile reinforcement area (mm2)\n",
    "    yieldstrength: yield strength of reinforcement (mpa)\n",
    "    effectivedepthvalue: effective depth (mm)\n",
    "    concretecompressivestrength: concrete compressive strength (mpa)\n",
    "    sectionwidth: width of the slab section (mm)\n",
    "    returns: nominal moment capacity (n-mm)  # comment: in n-mm\n",
    "    \"\"\"\n",
    "    avalue = (reinforcementarea * yieldstrength) / (0.85 * concretecompressivestrength * sectionwidth)\n",
    "    return reinforcementarea * yieldstrength * (effectivedepthvalue - avalue / 2)\n",
    "\n",
    "def slabdeflection(uniformload, clearspan, modulus, inertiavalue):\n",
    "    \"\"\"\n",
    "    calculate immediate deflection of a simply supported one-way slab under uniform load\n",
    "    formula: deflection = (5 * uniformload * clearspan^4) / (384 * modulus * inertiavalue)\n",
    "    uniformload: uniform load intensity (n/mm)\n",
    "    clearspan: clear span (mm)\n",
    "    modulus: modulus of elasticity (n/mm2)\n",
    "    inertiavalue: moment of inertia (mm4)\n",
    "    returns: deflection (mm)\n",
    "    \"\"\"\n",
    "    return (5 * uniformload * math.pow(clearspan, 4)) / (384 * modulus * inertiavalue)\n",
    "\n"
   ]
  },
  {
   "cell_type": "code",
   "execution_count": null,
   "metadata": {},
   "outputs": [],
   "source": [
    "def main():\n",
    "    # sample input values\n",
    "    clearspan = 6000                   # clear span length (mm)\n",
    "    supporttype = 'simply'             # support type: simply, one-end, both-end, cantilever\n",
    "    sectionwidth = 1000                # section width (mm)\n",
    "    concretecompressivestrength = 25   # concrete compressive strength (mpa)\n",
    "    yieldstrength = 420                # yield strength (mpa)\n",
    "    cover = 40                         # concrete cover (mm)\n",
    "                                        \"\"\"\"\n",
    "                                        Table 420.6.1.3.1 - Concrete Cover\n",
    "                                        With Ground                  :  75mm\n",
    "                                        Slabs with 40mm and 50mm bars:  40mm\n",
    "                                        Slabs with 36mm and smaller  :  20mm\n",
    "                                        \"\"\"\n",
    "    bardiameter = 16                   # bar diameter (mm)\n",
    "    uniformload = 1                    # uniform load intensity (n/mm)\n",
    "\n",
    "    modulus = 4700 * math.sqrt(concretecompressivestrength)  # modulus of elasticity (n/mm2)\n",
    "\n",
    "    minimumthickness = minthickness(clearspan, supporttype)\n",
    "    print(\"minimum slab thickness: {:.2f}\".format(minimumthickness))\n",
    "\n",
    "    slabthickness = minimumthickness  # assume slab thickness is at least the minimum required\n",
    "    minreinforcementareavalue = minreinforcementarea(sectionwidth, slabthickness)\n",
    "    print(\"minimum reinforcement area: {:.2f}\".format(minreinforcementareavalue))\n",
    "\n",
    "    grossinertia = grossmomentofinertia(sectionwidth, slabthickness)\n",
    "    print(\"gross moment of inertia: {:.2f}\".format(grossinertia))\n",
    "\n",
    "    effectivedepthvalue = effectivedepth(slabthickness, cover, bardiameter)\n",
    "    print(\"effective depth: {:.2f}\".format(effectivedepthvalue))\n",
    "\n",
    "    nominalmomentcap = nominalmomentcapacity(minreinforcementareavalue, yieldstrength, effectivedepthvalue, concretecompressivestrength, sectionwidth)\n",
    "    strengthreductionfactor = 0.9\n",
    "    designmomentcap = strengthreductionfactor * nominalmomentcap\n",
    "    print(\"design moment capacity: {:.2f}\".format(designmomentcap / 1e6))\n",
    "\n",
    "    deflectionvalue = slabdeflection(uniformload, clearspan, modulus, grossinertia)\n",
    "    print(\"short-term slab deflection: {:.2f}\".format(deflectionvalue))\n",
    "\n",
    "if __name__ == '__main__':\n",
    "    main()"
   ]
  }
 ],
 "metadata": {
  "kernelspec": {
   "display_name": "base",
   "language": "python",
   "name": "python3"
  },
  "language_info": {
   "codemirror_mode": {
    "name": "ipython",
    "version": 3
   },
   "file_extension": ".py",
   "mimetype": "text/x-python",
   "name": "python",
   "nbconvert_exporter": "python",
   "pygments_lexer": "ipython3",
   "version": "3.12.3"
  }
 },
 "nbformat": 4,
 "nbformat_minor": 2
}
