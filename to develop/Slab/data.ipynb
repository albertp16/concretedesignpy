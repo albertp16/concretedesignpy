{
 "cells": [
  {
   "cell_type": "code",
   "execution_count": null,
   "metadata": {},
   "outputs": [],
   "source": [
    "slab = [\n",
    "    [\"name\", \"length\", \"thickness\", \"liveload\"]\n",
    "    ['A', 1.725, 0.20, 4.8],\n",
    "    ['B', 1.725, 0.20, 4.8],\n",
    "    ['C', 2.356, 0.20, 4.8],\n",
    "    ['D', 2.356, 0.20, 4.8],\n",
    "    ['E', 1.500, 0.20, 4.8],\n",
    "    ['F', 1.725, 0.20, 4.8],\n",
    "    ['G', 1.725, 0.20, 4.8],\n",
    "    ['H', 2.356, 0.20, 4.8],\n",
    "    ['I', 2.356, 0.20, 4.8],\n",
    "    ['J', 1.500, 0.20, 4.8],\n",
    "]"
   ]
  }
 ],
 "metadata": {
  "language_info": {
   "name": "python"
  }
 },
 "nbformat": 4,
 "nbformat_minor": 2
}
