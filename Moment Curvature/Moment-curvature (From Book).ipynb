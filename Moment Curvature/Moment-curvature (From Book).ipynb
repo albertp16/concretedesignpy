{
 "cells": [
  {
   "cell_type": "markdown",
   "id": "ba7970ed",
   "metadata": {},
   "source": [
    "RC cross-section is shown in Fig below. Generate moment-curvature curve for the cross-section given\n",
    "\n",
    "f'c = 40 MPa <br>\n",
    "fy = 420 MPa <br>\n",
    "ε0 = 0.002 <br>\n",
    "εsu = 0.006 <br>\n",
    "Ec = 30,000 MPa <br>\n",
    "Es = 2 X 105 MPa <br>\n",
    "Z = 150 <br>\n",
    "fr = 3.50 MPa <br>\n",
    "Esh = 7000 MPa <br>\n",
    "fsu = 600 MPa <br>"
   ]
  },
  {
   "cell_type": "code",
   "execution_count": 2,
   "id": "f33afddf",
   "metadata": {},
   "outputs": [],
   "source": [
    "import math \n",
    "import pandas as pd\n",
    "import numpy as np\n",
    "import matplotlib as mpl"
   ]
  },
  {
   "cell_type": "code",
   "execution_count": 3,
   "id": "54eb4626",
   "metadata": {},
   "outputs": [
    {
     "name": "stdout",
     "output_type": "stream",
     "text": [
      "===========================================\n",
      "n = 8.0\n",
      "Area gross = 150000 sq.mm\n",
      "Area reinforcement = 1935 sq.mm\n"
     ]
    }
   ],
   "source": [
    "##Assignment\n",
    "b = 300\n",
    "d = 450 \n",
    "h = 500\n",
    "n_bar = 3\n",
    "# db = 25 #mm\n",
    "rsb_area = 645\n",
    "fc = 30 #MPa\n",
    "fy = 420 #MPa\n",
    "e_o = 0.002\n",
    "e_su = 0.006\n",
    "e_c = 30000 #MPa\n",
    "e_s = 2.4e5 #MPa\n",
    "z = 150\n",
    "fr = 3.25 #MPa\n",
    "e_sh = 3750 #MPa\n",
    "f_su = 600 #MPa\n",
    "\n",
    "def reinArea(db):\n",
    "    \"\"\"\n",
    "    reinforcement area\n",
    "    :db: diameter of the reinforcement\n",
    "    \"\"\"\n",
    "    output = (math.pi/4)*math.pow(db,2)\n",
    "    return output\n",
    "\n",
    "def modularRatio(ei,ebase):\n",
    "    \"\"\"\n",
    "    modular ratio\n",
    "    :ei: modulus of elasticity in any materials\n",
    "    :ebase: modulus of elasticity in base\n",
    "    \"\"\"\n",
    "    output = ei/ebase\n",
    "    return output\n",
    "\n",
    "def inertiaRec(b,h):\n",
    "    \"\"\"\n",
    "    Moment of Internia of Rectangular section\n",
    "    \"\"\"\n",
    "    output = (1/12)*b*math.pow(h,3)\n",
    "    return output\n",
    "\n",
    "n_conc = modularRatio(e_s,e_c)\n",
    "area_gross = b*h\n",
    "beam_internia = inertiaRec(b,h)\n",
    "area_steel = n_bar*rsb_area\n",
    "\n",
    "\n",
    "print('===========================================')\n",
    "print('n = ' + str(n_conc))\n",
    "print('Area gross = ' + str(area_gross) + \" sq.mm\")\n",
    "print('Area reinforcement = ' + str(area_steel) + \" sq.mm\")\n",
    "# print('n = ' + str(n_conc))"
   ]
  },
  {
   "cell_type": "markdown",
   "id": "3fa81ea5",
   "metadata": {},
   "source": [
    "### Point 1 : $\\phi$ at cracking (just before cracking)"
   ]
  },
  {
   "cell_type": "code",
   "execution_count": 4,
   "id": "a65bd66d",
   "metadata": {},
   "outputs": [
    {
     "name": "stdout",
     "output_type": "stream",
     "text": [
      "              Material  Area (sq.mm) Centroid measured from the top\n",
      "0             concrete        150000                          250.0\n",
      "1  reinforcement steel          1935                            450\n",
      "2                total        151935                               \n",
      "======================\n",
      "ct =  292.66462632046597\n",
      "I_uncracked =  3453898922.3902807\n"
     ]
    }
   ],
   "source": [
    "depth_pt_one = h/2\n",
    "area_steel_pt_one = area_steel\n",
    "# total = area_gross + area_steel_pt_one\n",
    "\n",
    "point_arr = [\n",
    "    [\"concrete\",area_gross,depth_pt_one],\n",
    "    [\"reinforcement steel\",area_steel_pt_one,d],\n",
    "#     [\"total\",total,0]\n",
    "]\n",
    "\n",
    "length = len(point_arr)\n",
    "# print(length)\n",
    "\n",
    "top_value = 0\n",
    "total = 0\n",
    "\n",
    "i = 0\n",
    "while i < length:\n",
    "    if point_arr[i][0] == \"concrete\":\n",
    "        multi = 1\n",
    "    else:\n",
    "        multi = n_conc\n",
    "    top_value += point_arr[i][1]*point_arr[i][2]*multi\n",
    "    total += point_arr[i][1]\n",
    "    i += 1\n",
    "\n",
    "ct = top_value/total\n",
    "\n",
    "point_arr.append([\"total\",total,\"\"])\n",
    "\n",
    "Icr = beam_internia + area_gross*(depth_pt_one - ct) + (n_conc - 1)*area_steel_pt_one*math.pow(d - ct,2)\n",
    "\n",
    "\n",
    "## Applying the Varignon Theroem!\n",
    "df = pd.DataFrame(point_arr\n",
    "                 ,columns=[\"Material\", \"Area (sq.mm)\",\"Centroid measured from the top\"])\n",
    "print(df)\n",
    "print('======================')\n",
    "print('ct =  ' + str(ct))\n",
    "print('I_uncracked =  ' + str(Icr))"
   ]
  },
  {
   "cell_type": "code",
   "execution_count": null,
   "id": "65a91afe",
   "metadata": {},
   "outputs": [],
   "source": []
  },
  {
   "cell_type": "code",
   "execution_count": null,
   "id": "21945a28",
   "metadata": {},
   "outputs": [],
   "source": []
  }
 ],
 "metadata": {
  "kernelspec": {
   "display_name": "Python 3 (ipykernel)",
   "language": "python",
   "name": "python3"
  },
  "language_info": {
   "codemirror_mode": {
    "name": "ipython",
    "version": 3
   },
   "file_extension": ".py",
   "mimetype": "text/x-python",
   "name": "python",
   "nbconvert_exporter": "python",
   "pygments_lexer": "ipython3",
   "version": "3.9.13"
  }
 },
 "nbformat": 4,
 "nbformat_minor": 5
}
