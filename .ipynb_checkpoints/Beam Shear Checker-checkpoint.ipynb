{
 "cells": [
  {
   "cell_type": "code",
   "execution_count": 4,
   "id": "2696578a",
   "metadata": {},
   "outputs": [
    {
     "name": "stdout",
     "output_type": "stream",
     "text": [
      "534.0\n",
      "Check One : 150 mm\n",
      "Check Two : 168\n",
      "Check Three : 133.5\n",
      "Middle Spacing : 267.0\n"
     ]
    }
   ],
   "source": [
    "def beamShearSpacing(d,db):\n",
    "    check_one = 150\n",
    "    check_two = db*6\n",
    "    check_three = d/4 \n",
    "    print('Check One : 150 mm')\n",
    "    print('Check Two : ' + str(check_two))\n",
    "    print('Check Three : ' + str(check_three))\n",
    "    print('Middle Spacing : ' + str(d/2))\n",
    "d = 600 -( 40 + 12 + 28/2 )\n",
    "print(d)\n",
    "beamShearSpacing(d,28)"
   ]
  },
  {
   "cell_type": "code",
   "execution_count": 7,
   "id": "f4bcffe7",
   "metadata": {},
   "outputs": [
    {
     "data": {
      "text/plain": [
       "0.6253932584269661"
      ]
     },
     "execution_count": 7,
     "metadata": {},
     "output_type": "execute_result"
    }
   ],
   "source": [
    "def beamFactorInternia(rho,bw,d):\n",
    "    value_one = 0.10 + (25*rho)\n",
    "    value_two = 1.2 - (0.2*(bw/d))\n",
    "    value = value_one*value_two\n",
    "    return value\n",
    "beamFactorInternia(0.019,300,534)"
   ]
  },
  {
   "cell_type": "code",
   "execution_count": null,
   "id": "134f334e",
   "metadata": {},
   "outputs": [],
   "source": []
  }
 ],
 "metadata": {
  "kernelspec": {
   "display_name": "Python 3 (ipykernel)",
   "language": "python",
   "name": "python3"
  },
  "language_info": {
   "codemirror_mode": {
    "name": "ipython",
    "version": 3
   },
   "file_extension": ".py",
   "mimetype": "text/x-python",
   "name": "python",
   "nbconvert_exporter": "python",
   "pygments_lexer": "ipython3",
   "version": "3.9.13"
  }
 },
 "nbformat": 4,
 "nbformat_minor": 5
}
