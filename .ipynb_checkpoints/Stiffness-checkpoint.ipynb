{
 "cells": [
  {
   "cell_type": "code",
   "execution_count": 9,
   "id": "2bfc05de",
   "metadata": {},
   "outputs": [
    {
     "data": {
      "text/plain": [
       "(32.768, 88.8888888888889)"
      ]
     },
     "execution_count": 9,
     "metadata": {},
     "output_type": "execute_result"
    }
   ],
   "source": [
    "#https://www.ideastatica.com/support-center/anchor-bolts\n",
    "import math \n",
    "\n",
    "def areaBolt(db):\n",
    "    area = 0.25*math.pow(db,4)\n",
    "    return area \n",
    "\n",
    "def stiffnessTension(E,As,Lb):\n",
    "    \"\"\"\n",
    "    E = Young's modulus of elasticity, MPa\n",
    "    L = length, mm \n",
    "    As = area of anchor bolt, mm\n",
    "    \"\"\"\n",
    "    k = (E*As)/Lb\n",
    "    return k \n",
    "\n",
    "As16 = areaBolt(16)\n",
    "As20 = areaBolt(20)\n",
    "\n",
    "E = 200000 #MPa\n",
    "L16 = 100 #mm\n",
    "L20 = 90 #mm\n",
    "\n",
    "k16= stiffnessTension(E,As16,L16)/1e6\n",
    "k20 = stiffnessTension(E,As20,L20)/1e6\n",
    "\n",
    "k16,k20"
   ]
  },
  {
   "cell_type": "code",
   "execution_count": null,
   "id": "f843be52",
   "metadata": {},
   "outputs": [],
   "source": []
  }
 ],
 "metadata": {
  "kernelspec": {
   "display_name": "Python 3 (ipykernel)",
   "language": "python",
   "name": "python3"
  },
  "language_info": {
   "codemirror_mode": {
    "name": "ipython",
    "version": 3
   },
   "file_extension": ".py",
   "mimetype": "text/x-python",
   "name": "python",
   "nbconvert_exporter": "python",
   "pygments_lexer": "ipython3",
   "version": "3.9.13"
  }
 },
 "nbformat": 4,
 "nbformat_minor": 5
}
