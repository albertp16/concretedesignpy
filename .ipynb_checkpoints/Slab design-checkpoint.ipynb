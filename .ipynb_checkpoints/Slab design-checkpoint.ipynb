{
 "cells": [
  {
   "cell_type": "code",
   "execution_count": 7,
   "id": "b25b30ef",
   "metadata": {},
   "outputs": [],
   "source": [
    "import math"
   ]
  },
  {
   "cell_type": "code",
   "execution_count": 21,
   "id": "18c94c38",
   "metadata": {},
   "outputs": [
    {
     "data": {
      "text/plain": [
       "65.03096279431695"
      ]
     },
     "execution_count": 21,
     "metadata": {},
     "output_type": "execute_result"
    }
   ],
   "source": [
    "BEAM_WIDTH = 1000\n",
    "cover = 20\n",
    "db = 10 \n",
    "h_slab = 150\n",
    "db_area = (math.pi/4)*math.pow(db,2)\n",
    "\n",
    "as_use = (db_area*4)/(BEAM_WIDTH*h_slab) \n",
    "\n",
    "fc = 34.45 #MPa\n",
    "fy = 276 #MPa\n",
    "d = h_slab - cover - db/2 #mm\n",
    "b = 1000 #mm\n",
    "\n",
    "Mn = as_use*fy*(d-as_use*fy/(1.7*fc*b))\n",
    "Mu = 0.90*Mn\n",
    "Mu"
   ]
  },
  {
   "cell_type": "code",
   "execution_count": null,
   "id": "de18bd3d",
   "metadata": {},
   "outputs": [],
   "source": []
  },
  {
   "cell_type": "code",
   "execution_count": null,
   "id": "49238595",
   "metadata": {},
   "outputs": [],
   "source": []
  }
 ],
 "metadata": {
  "kernelspec": {
   "display_name": "Python 3 (ipykernel)",
   "language": "python",
   "name": "python3"
  },
  "language_info": {
   "codemirror_mode": {
    "name": "ipython",
    "version": 3
   },
   "file_extension": ".py",
   "mimetype": "text/x-python",
   "name": "python",
   "nbconvert_exporter": "python",
   "pygments_lexer": "ipython3",
   "version": "3.9.13"
  }
 },
 "nbformat": 4,
 "nbformat_minor": 5
}
