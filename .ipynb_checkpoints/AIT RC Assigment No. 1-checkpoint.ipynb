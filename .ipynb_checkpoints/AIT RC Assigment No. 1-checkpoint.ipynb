{
 "cells": [
  {
   "cell_type": "code",
   "execution_count": 17,
   "id": "330374dc",
   "metadata": {},
   "outputs": [],
   "source": [
    "import math \n",
    "\n",
    "## Concrete Section\n",
    "thk_conc = 125\n",
    "width_conc = 500 \n",
    "\n",
    "##Section Sectgion\n",
    "thk_web = 19\n",
    "thk_flange = 19\n",
    "width_flange = 250\n",
    "ht_flange = 250"
   ]
  },
  {
   "attachments": {
    "2D%20planar.jpg": {
     "image/jpeg": "[encoded data removed]"
    }
   },
   "cell_type": "markdown",
   "id": "e2c25b05",
   "metadata": {},
   "source": [
    "![2D%20planar.jpg](attachment:2D%20planar.jpg)"
   ]
  },
  {
   "cell_type": "code",
   "execution_count": 18,
   "id": "ae5d82c6",
   "metadata": {},
   "outputs": [],
   "source": [
    "def getPolygon2DCOG(polygon_points):\n",
    "    n_point = len(polygon_points)\n",
    "    n_limit = n_point - 1\n",
    "    A = 0\n",
    "    C_x = 0\n",
    "    C_y = 0\n",
    "    \n",
    "    for i in range(n_limit):\n",
    "        pi = polygon_points[i]\n",
    "        pi1 = polygon_points[i+1]\n",
    "        \n",
    "        x_i = pi[0]\n",
    "        y_i = pi[1] \n",
    "        x_i1 = pi1[0]\n",
    "        y_i1 = pi1[1]\n",
    "                \n",
    "        main_term = (x_i*y_i1 - x_i1*y_i)\n",
    "        \n",
    "        C_x += (x_i + x_i1)*main_term;\n",
    "        C_y += (y_i + y_i1)*main_term;\n",
    "        \n",
    "        A += main_term\n",
    "\n",
    "    A /= 2 #double check... \n",
    "    C_x /= (6*A);\n",
    "    C_y /= (6*A);\n",
    "    \n",
    "    results = {\n",
    "    \t\t\"C_x\": C_x,\n",
    "    \t\t\"C_y\": C_y,\n",
    "    \t\t\"area\": abs(A)\n",
    "        }\n",
    "#     print(results)\n",
    "    return results"
   ]
  },
  {
   "cell_type": "markdown",
   "id": "573b664f",
   "metadata": {},
   "source": [
    "## Concrete Area"
   ]
  },
  {
   "cell_type": "code",
   "execution_count": 24,
   "id": "9de3837d",
   "metadata": {},
   "outputs": [
    {
     "name": "stdout",
     "output_type": "stream",
     "text": [
      "{'1': {'x': -250.0, 'y': 244}, '2': {'x': 250.0, 'y': 244}, '3': {'x': 250.0, 'y': 119}, '4': {'x': -250.0, 'y': 119}}\n"
     ]
    },
    {
     "data": {
      "text/plain": [
       "{'C_x': -0.0, 'C_y': 181.5, 'area': 62500.0}"
      ]
     },
     "execution_count": 24,
     "metadata": {},
     "output_type": "execute_result"
    }
   ],
   "source": [
    "##Concrete Section \n",
    "slab_coordinates = {\n",
    "    \"1\" : {\n",
    "        \"x\" : -1*(width_conc/2),\n",
    "        \"y\" : 100 + thk_flange + thk_conc\n",
    "    },\n",
    "    \"2\" : {\n",
    "        \"x\" : 1*(width_conc/2),\n",
    "        \"y\" : 100 + thk_flange + thk_conc\n",
    "    },\n",
    "    \"3\" : {\n",
    "        \"x\" : 1*(width_conc/2),\n",
    "        \"y\" : 100 + thk_flange\n",
    "    },\n",
    "    \"4\" : {\n",
    "        \"x\" : -1*(width_conc/2),\n",
    "        \"y\" : 100 + thk_flange\n",
    "    },\n",
    "}\n",
    "conc = getPolygon2DCOG([\n",
    "    [slab_coordinates[\"1\"][\"x\"],slab_coordinates[\"1\"][\"y\"]], \n",
    "    [slab_coordinates[\"2\"][\"x\"],slab_coordinates[\"2\"][\"y\"]],\n",
    "    [slab_coordinates[\"3\"][\"x\"],slab_coordinates[\"3\"][\"y\"]],\n",
    "    [slab_coordinates[\"4\"][\"x\"],slab_coordinates[\"4\"][\"y\"]],\n",
    "    [slab_coordinates[\"1\"][\"x\"],slab_coordinates[\"1\"][\"y\"]]\n",
    "])\n",
    "print(slab_coordinates)\n",
    "conc"
   ]
  },
  {
   "cell_type": "markdown",
   "id": "679b0550",
   "metadata": {},
   "source": [
    "## Steel Area"
   ]
  },
  {
   "cell_type": "code",
   "execution_count": 20,
   "id": "09caae3a",
   "metadata": {},
   "outputs": [
    {
     "name": "stdout",
     "output_type": "stream",
     "text": [
      "{'1': {'x': -125.0, 'y': 119}, '2': {'x': 125.0, 'y': 119}, '3': {'x': 125.0, 'y': 100}, '4': {'x': 9.5, 'y': 100}, '5': {'x': 9.5, 'y': -150}, '6': {'x': 125.0, 'y': -150}, '7': {'x': 125.0, 'y': -169}, '8': {'x': -125.0, 'y': -169}, '9': {'x': -125.0, 'y': -150}, '10': {'x': -9.5, 'y': -150}, '11': {'x': -9.5, 'y': 100}, '12': {'x': -125.0, 'y': 100}}\n"
     ]
    },
    {
     "data": {
      "text/plain": [
       "{'C_x': -0.0, 'C_y': -25.0, 'area': 14250.0}"
      ]
     },
     "execution_count": 20,
     "metadata": {},
     "output_type": "execute_result"
    }
   ],
   "source": [
    "##Steel Section \n",
    "steel_coordinates = {\n",
    "    \"1\" : {\n",
    "        \"x\" : -1*(width_flange/2),\n",
    "        \"y\" : 100 + thk_flange\n",
    "    },\n",
    "    \"2\" : {\n",
    "        \"x\" : (width_flange/2),\n",
    "        \"y\" : 100 + thk_flange\n",
    "    },\n",
    "    \"3\" : {\n",
    "        \"x\" : (width_flange/2),\n",
    "        \"y\" : 100\n",
    "    },\n",
    "    \"4\" : {\n",
    "        \"x\" : thk_web/2,\n",
    "        \"y\" : 100\n",
    "    },\n",
    "    \"5\" : {\n",
    "        \"x\" : thk_web/2,\n",
    "        \"y\" : 100 - ht_flange\n",
    "    },\n",
    "    \"6\" : {\n",
    "        \"x\" : (width_flange/2),\n",
    "        \"y\" : 100 - ht_flange\n",
    "    },\n",
    "    \"7\" : {\n",
    "        \"x\" : (width_flange/2),\n",
    "        \"y\" : 100 - ht_flange -thk_flange\n",
    "    },\n",
    "    \"8\" : {\n",
    "        \"x\" : -1*(width_flange/2),\n",
    "        \"y\" : 100 - ht_flange -thk_flange\n",
    "    },\n",
    "    \"9\" : {\n",
    "        \"x\" : -1*(width_flange/2),\n",
    "        \"y\" : 100 - ht_flange\n",
    "    },\n",
    "    \"10\" : {\n",
    "        \"x\" : -1*thk_web/2,\n",
    "        \"y\" : 100 - ht_flange\n",
    "    },\n",
    "    \"11\" : {\n",
    "        \"x\" : -1*thk_web/2,\n",
    "        \"y\" : 100\n",
    "    },\n",
    "    \"12\" : {\n",
    "        \"x\" : -1*(width_flange/2),\n",
    "        \"y\" : 100\n",
    "    },\n",
    "}\n",
    "steel = getPolygon2DCOG([\n",
    "    [steel_coordinates[\"1\"][\"x\"],steel_coordinates[\"1\"][\"y\"]], \n",
    "    [steel_coordinates[\"2\"][\"x\"],steel_coordinates[\"2\"][\"y\"]],\n",
    "    [steel_coordinates[\"3\"][\"x\"],steel_coordinates[\"3\"][\"y\"]],\n",
    "    [steel_coordinates[\"4\"][\"x\"],steel_coordinates[\"4\"][\"y\"]],\n",
    "    [steel_coordinates[\"5\"][\"x\"],steel_coordinates[\"5\"][\"y\"]], \n",
    "    [steel_coordinates[\"6\"][\"x\"],steel_coordinates[\"6\"][\"y\"]],\n",
    "    [steel_coordinates[\"7\"][\"x\"],steel_coordinates[\"7\"][\"y\"]],\n",
    "    [steel_coordinates[\"8\"][\"x\"],steel_coordinates[\"8\"][\"y\"]],\n",
    "    [steel_coordinates[\"9\"][\"x\"],steel_coordinates[\"9\"][\"y\"]], \n",
    "    [steel_coordinates[\"10\"][\"x\"],steel_coordinates[\"10\"][\"y\"]],\n",
    "    [steel_coordinates[\"11\"][\"x\"],steel_coordinates[\"11\"][\"y\"]],\n",
    "    [steel_coordinates[\"12\"][\"x\"],steel_coordinates[\"12\"][\"y\"]],\n",
    "    [steel_coordinates[\"1\"][\"x\"],steel_coordinates[\"1\"][\"y\"]]\n",
    "])\n",
    "\n",
    "print(steel_coordinates)\n",
    "steel"
   ]
  },
  {
   "cell_type": "markdown",
   "id": "66b055a8",
   "metadata": {},
   "source": [
    "## Total Area "
   ]
  },
  {
   "cell_type": "code",
   "execution_count": 23,
   "id": "88237cd3",
   "metadata": {},
   "outputs": [
    {
     "name": "stdout",
     "output_type": "stream",
     "text": [
      "Concrete slab = 62500.0\n",
      "steel section = 14250.0\n",
      "Total Area = 76750.0\n"
     ]
    }
   ],
   "source": [
    "print('Concrete slab = ' + str(conc['area']))\n",
    "print('steel section = ' + str(steel['area']))\n",
    "\n",
    "total_area = conc['area'] + steel['area']\n",
    "\n",
    "print('Total Area = ' + str(total_area))"
   ]
  },
  {
   "cell_type": "code",
   "execution_count": null,
   "id": "e7c30b71",
   "metadata": {},
   "outputs": [],
   "source": []
  }
 ],
 "metadata": {
  "kernelspec": {
   "display_name": "Python 3 (ipykernel)",
   "language": "python",
   "name": "python3"
  },
  "language_info": {
   "codemirror_mode": {
    "name": "ipython",
    "version": 3
   },
   "file_extension": ".py",
   "mimetype": "text/x-python",
   "name": "python",
   "nbconvert_exporter": "python",
   "pygments_lexer": "ipython3",
   "version": "3.9.13"
  }
 },
 "nbformat": 4,
 "nbformat_minor": 5
}
