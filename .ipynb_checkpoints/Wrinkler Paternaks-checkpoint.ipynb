{
 "cells": [
  {
   "cell_type": "code",
   "execution_count": 1,
   "id": "3827d574",
   "metadata": {},
   "outputs": [
    {
     "data": {
      "text/plain": [
       "(32.768, 88.8888888888889)"
      ]
     },
     "execution_count": 1,
     "metadata": {},
     "output_type": "execute_result"
    }
   ],
   "source": [
    "#https://www.ideastatica.com/support-center/anchor-bolts\n",
    "import math \n",
    "\n",
    "def areaBolt(db):\n",
    "    area = 0.25*math.pow(db,4)\n",
    "    return area \n",
    "\n",
    "def stiffnessTension(E,As,Lb):\n",
    "    \"\"\"\n",
    "    E = Young's modulus of elasticity, MPa\n",
    "    L = length, mm \n",
    "    As = area of anchor bolt, mm\n",
    "    \"\"\"\n",
    "    k = (E*As)/Lb\n",
    "    return k \n",
    "\n",
    "As16 = areaBolt(16)\n",
    "As20 = areaBolt(20)\n",
    "\n",
    "E = 200000 #MPa\n",
    "L16 = 100 #mm\n",
    "L20 = 90 #mm\n",
    "\n",
    "k16= stiffnessTension(E,As16,L16)/1e6 #kN/m\n",
    "k20 = stiffnessTension(E,As20,L20)/1e6 #kN/m\n",
    "\n",
    "k16,k20"
   ]
  },
  {
   "cell_type": "code",
   "execution_count": 2,
   "id": "30ed2225",
   "metadata": {},
   "outputs": [
    {
     "data": {
      "text/plain": [
       "10579673.30659334"
      ]
     },
     "execution_count": 2,
     "metadata": {},
     "output_type": "execute_result"
    }
   ],
   "source": [
    "\n",
    "\n",
    "\n",
    "def stiffnessCompress(Ec,v,d,h,Aeff,Aref):\n",
    "    a1 = 1.65\n",
    "    a2 = 0.5\n",
    "    a3 = 0.3 \n",
    "    a4 = 1.0 \n",
    "    ka = Ec/((a1 + v)*math.sqrt(Aeff/Aref))\n",
    "    kb = (1/(h/(a2*d))+a3) + a4\n",
    "    k = ka + kb\n",
    "    return k \n",
    "\n",
    "# top of surface \n",
    "Aeff = (265/1000)*(45/1000) #m2\n",
    "Aref = 10 #m2\n",
    "fc = 20.68*1000 #kPa\n",
    "Ec = 4700*math.sqrt(fc) #kpa\n",
    "v = 0.20 #unitless, poisson ratio \n",
    "d = 45/1000 #m width of the effective area\n",
    "h = 1 #m concrete pad height\n",
    "ck_top = stiffnessCompress(Ec,v,d,h,Aeff,Aref) #KN/m3\n",
    "ck_top"
   ]
  },
  {
   "cell_type": "code",
   "execution_count": 13,
   "id": "fcbdc922",
   "metadata": {},
   "outputs": [
    {
     "data": {
      "text/plain": [
       "5688392.241356851"
      ]
     },
     "execution_count": 13,
     "metadata": {},
     "output_type": "execute_result"
    }
   ],
   "source": [
    "# vertical of surface \n",
    "Aeff = (110/1000)*(375/1000) #m2\n",
    "Aref = 10 #m2\n",
    "fc = 20.68*1000 #MPa \n",
    "Ec = 4700*math.sqrt(fc) #kPa\n",
    "v = 0.20 #unitless, poisson ratio \n",
    "d = 110/1000 #m width of the effective area\n",
    "h = 0.265 #m\n",
    "ck_vert = stiffnessCompress(Ec,v,d,h,Aeff,Aref)  #KN/m3\n",
    "ck_vert"
   ]
  },
  {
   "cell_type": "code",
   "execution_count": null,
   "id": "164c4de0",
   "metadata": {},
   "outputs": [],
   "source": []
  }
 ],
 "metadata": {
  "kernelspec": {
   "display_name": "Python 3 (ipykernel)",
   "language": "python",
   "name": "python3"
  },
  "language_info": {
   "codemirror_mode": {
    "name": "ipython",
    "version": 3
   },
   "file_extension": ".py",
   "mimetype": "text/x-python",
   "name": "python",
   "nbconvert_exporter": "python",
   "pygments_lexer": "ipython3",
   "version": "3.9.13"
  }
 },
 "nbformat": 4,
 "nbformat_minor": 5
}
