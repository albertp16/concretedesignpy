{
 "cells": [
  {
   "cell_type": "code",
   "execution_count": 17,
   "id": "2bd71758",
   "metadata": {},
   "outputs": [],
   "source": [
    "import math\n",
    "##Data\n",
    "fc = 30 \n",
    "fyh = 345\n",
    "b = 500\n",
    "d = 500 \n",
    "As = 113\n",
    "db_trans = 12\n",
    "db_long = 25\n",
    "s_trans = 100\n",
    "n_long = 16\n",
    "cover = 40 \n",
    "\n",
    "e_o = 0.002\n",
    "e_c = 0.03\n",
    "\n",
    "##Reference: Cross-section Fawad pp: 452 Ex"
   ]
  },
  {
   "cell_type": "code",
   "execution_count": 18,
   "id": "2f036fd2",
   "metadata": {},
   "outputs": [
    {
     "name": "stdout",
     "output_type": "stream",
     "text": [
      "420\n",
      "420\n"
     ]
    }
   ],
   "source": [
    "## page pp. 452\n",
    "b_prime = b - 2*cover\n",
    "d_prime = d - 2*cover\n",
    "\n",
    "print(b_prime)\n",
    "print(d_prime)\n",
    "\n",
    "f1x = 1.858\n",
    "f2y = 1.858"
   ]
  },
  {
   "cell_type": "code",
   "execution_count": 19,
   "id": "12ba9edd",
   "metadata": {},
   "outputs": [],
   "source": [
    "##Using Fig. 6.4 from Mander et. al (1988), we can determine ratioo of f'cc/f'c which in this case is 1.6 \n",
    "\n",
    "def ecc(eco,fpcc,fc):\n",
    "    A = ((fpcc/fc) - 1) \n",
    "    B = 1 + 5*A\n",
    "    results = eco*B\n",
    "    return results\n",
    "                   \n",
    "e_cc = ecc(0.002,48,30)"
   ]
  },
  {
   "cell_type": "code",
   "execution_count": 24,
   "id": "c7f8ef60",
   "metadata": {},
   "outputs": [
    {
     "name": "stdout",
     "output_type": "stream",
     "text": [
      "1.2805556685571442\n"
     ]
    }
   ],
   "source": [
    "def Esec(fpcc,ecc):\n",
    "    return fpcc/ecc\n",
    "def Ec(fc):\n",
    "    return 5000*math.sqrt(fc)\n",
    "def nValue(Ec,Esec):\n",
    "    A = Ec/(Ec - Esec)\n",
    "    B = 1 + (5*A)\n",
    "    return A\n",
    "def stressIndex(n,ec,ecc,fpcc):\n",
    "    "
   ]
  },
  {
   "cell_type": "code",
   "execution_count": null,
   "id": "f1b02eb7",
   "metadata": {},
   "outputs": [],
   "source": []
  }
 ],
 "metadata": {
  "kernelspec": {
   "display_name": "Python 3 (ipykernel)",
   "language": "python",
   "name": "python3"
  },
  "language_info": {
   "codemirror_mode": {
    "name": "ipython",
    "version": 3
   },
   "file_extension": ".py",
   "mimetype": "text/x-python",
   "name": "python",
   "nbconvert_exporter": "python",
   "pygments_lexer": "ipython3",
   "version": "3.9.13"
  }
 },
 "nbformat": 4,
 "nbformat_minor": 5
}
